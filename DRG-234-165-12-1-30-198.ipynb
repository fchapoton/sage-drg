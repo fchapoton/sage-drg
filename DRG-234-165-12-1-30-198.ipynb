{
 "cells": [
  {
   "cell_type": "markdown",
   "metadata": {},
   "source": [
    "# Nonexistence of a distance-regular graph with intersection array {234, 165, 12; 1, 30, 198}\n",
    "\n",
    "We will show that a distance-regular graph with intersection array {234, 165, 12; 1, 30, 198} does not exist."
   ]
  },
  {
   "cell_type": "code",
   "execution_count": 1,
   "metadata": {
    "collapsed": true
   },
   "outputs": [],
   "source": [
    "import drg"
   ]
  },
  {
   "cell_type": "markdown",
   "metadata": {},
   "source": [
    "Such a graph would have 1600 vertices."
   ]
  },
  {
   "cell_type": "code",
   "execution_count": 2,
   "metadata": {
    "collapsed": false,
    "scrolled": true
   },
   "outputs": [
    {
     "data": {
      "text/plain": [
       "1600"
      ]
     },
     "execution_count": 2,
     "metadata": {},
     "output_type": "execute_result"
    }
   ],
   "source": [
    "p = drg.DRGParameters([234, 165, 12], [1, 30, 198])\n",
    "p.order()"
   ]
  },
  {
   "cell_type": "markdown",
   "metadata": {},
   "source": [
    "We see that all intersection numbers are nonnegative integers."
   ]
  },
  {
   "cell_type": "code",
   "execution_count": 3,
   "metadata": {
    "collapsed": false
   },
   "outputs": [
    {
     "data": {
      "text/plain": [
       "0: [   1    0    0    0]\n",
       "   [   0  234    0    0]\n",
       "   [   0    0 1287    0]\n",
       "   [   0    0    0   78]\n",
       "\n",
       "1: [   0    1    0    0]\n",
       "   [   1   68  165    0]\n",
       "   [   0  165 1056   66]\n",
       "   [   0    0   66   12]\n",
       "\n",
       "2: [   0    0    1    0]\n",
       "   [   0   30  192   12]\n",
       "   [   1  192 1030   64]\n",
       "   [   0   12   64    2]\n",
       "\n",
       "3: [   0    0    0    1]\n",
       "   [   0    0  198   36]\n",
       "   [   0  198 1056   33]\n",
       "   [   1   36   33    8]"
      ]
     },
     "execution_count": 3,
     "metadata": {},
     "output_type": "execute_result"
    }
   ],
   "source": [
    "p.pTable()"
   ]
  },
  {
   "cell_type": "markdown",
   "metadata": {},
   "source": [
    "The Krein parameters are also nonnegative. We have `q[1, 2, 2] = q[2, 1, 2] = q[2, 2, 1] = 0`, so the graph would be *Q*-polynomial with respect to the ordering of the eigenvalues `0, 2, 3, 1`."
   ]
  },
  {
   "cell_type": "code",
   "execution_count": 4,
   "metadata": {
    "collapsed": false
   },
   "outputs": [
    {
     "data": {
      "text/plain": [
       "0: [   1    0    0    0]\n",
       "   [   0   78    0    0]\n",
       "   [   0    0  234    0]\n",
       "   [   0    0    0 1287]\n",
       "\n",
       "1: [   0    1    0    0]\n",
       "   [   1    8   36   33]\n",
       "   [   0   36    0  198]\n",
       "   [   0   33  198 1056]\n",
       "\n",
       "2: [   0    0    1    0]\n",
       "   [   0   12    0   66]\n",
       "   [   1    0   68  165]\n",
       "   [   0   66  165 1056]\n",
       "\n",
       "3: [   0    0    0    1]\n",
       "   [   0    2   12   64]\n",
       "   [   0   12   30  192]\n",
       "   [   1   64  192 1030]"
      ]
     },
     "execution_count": 4,
     "metadata": {},
     "output_type": "execute_result"
    }
   ],
   "source": [
    "p.kreinParameters()"
   ]
  },
  {
   "cell_type": "markdown",
   "metadata": {},
   "source": [
    "We check the remaining known feasibility conditions. We skip the sporadic nonexistence check since the intersection array is already included."
   ]
  },
  {
   "cell_type": "code",
   "execution_count": 5,
   "metadata": {
    "collapsed": true
   },
   "outputs": [],
   "source": [
    "p.check_feasible(skip = [\"sporadic\"])"
   ]
  },
  {
   "cell_type": "markdown",
   "metadata": {},
   "source": [
    "We now compute the triple intersection numbers with respect to three vertices `u, v, w` at mutual distances 3. Note that we have `p[3, 3, 3] = 8`, so such triples must exist. The parameter `a` will denote the number of vertices at distance 3 from all of `u, v, w`."
   ]
  },
  {
   "cell_type": "code",
   "execution_count": 6,
   "metadata": {
    "collapsed": false
   },
   "outputs": [
    {
     "data": {
      "text/plain": [
       "0: [0 0 0 0]\n",
       "   [0 0 0 0]\n",
       "   [0 0 0 0]\n",
       "   [0 0 0 1]\n",
       "\n",
       "1: [        0         0         0         0]\n",
       "   [        0         0         0         0]\n",
       "   [        0         0 3*a + 186 -3*a + 12]\n",
       "   [        0         0 -3*a + 12  3*a + 24]\n",
       "\n",
       "2: [          0           0           0           0]\n",
       "   [          0           0   3*a + 186   -3*a + 12]\n",
       "   [          0   3*a + 186 -10*a + 832    7*a + 38]\n",
       "   [          0   -3*a + 12    7*a + 38   -4*a - 17]\n",
       "\n",
       "3: [        0         0         0         1]\n",
       "   [        0         0 -3*a + 12  3*a + 24]\n",
       "   [        0 -3*a + 12  7*a + 38 -4*a - 17]\n",
       "   [        1  3*a + 24 -4*a - 17         a]"
      ]
     },
     "execution_count": 6,
     "metadata": {},
     "output_type": "execute_result"
    }
   ],
   "source": [
    "S333 = p.tripleEquations(3, 3, 3, params = {\"a\": (3, 3, 3)})\n",
    "S333"
   ]
  },
  {
   "cell_type": "markdown",
   "metadata": {},
   "source": [
    "We now note that since `a` must be nonnegative, the number of vertices at distances `2, 3, 3` from `u, v, w` must be negative - contradiction"
   ]
  },
  {
   "cell_type": "code",
   "execution_count": 7,
   "metadata": {
    "collapsed": false
   },
   "outputs": [
    {
     "name": "stdout",
     "output_type": "stream",
     "text": [
      "-4*a - 17\n",
      "a\n"
     ]
    }
   ],
   "source": [
    "print(S333[2, 3, 3])\n",
    "print(S333[3, 3, 3])"
   ]
  },
  {
   "cell_type": "markdown",
   "metadata": {},
   "source": [
    "We thus conclude that a graph with intersection array {234, 165, 12; 1, 30, 198} **does not exist**."
   ]
  }
 ],
 "metadata": {
  "kernelspec": {
   "display_name": "SageMath 7.6",
   "language": "",
   "name": "sagemath"
  },
  "language_info": {
   "codemirror_mode": {
    "name": "ipython",
    "version": 2
   },
   "file_extension": ".py",
   "mimetype": "text/x-python",
   "name": "python",
   "nbconvert_exporter": "python",
   "pygments_lexer": "ipython2",
   "version": "2.7.13"
  }
 },
 "nbformat": 4,
 "nbformat_minor": 2
}
