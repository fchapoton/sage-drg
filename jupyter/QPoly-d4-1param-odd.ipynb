{
 "cells": [
  {
   "cell_type": "markdown",
   "metadata": {},
   "source": [
    "# Nonexistence of a $Q$-polynomial association scheme with Krein array $\\{r^3, r^3-1, r^3-r, r^3-r^2+1; 1, r, r^2-1, r^3\\}$ and $r$ odd\n",
    "\n",
    "We show that a $Q$-polynomial association scheme with Krein array $\\{r^3, r^3-1, r^3-r, r^3-r^2+1; 1, r, r^2-1, r^3\\}$ and $r$ odd does not exist. This Krein array is feasible for all $r \\ge 2$. For $r = 2$, this Krein array is realized by the halved $8$-cube. The formal dual of this parameter set, i.e., a distance-regular graph with such an intersection array, is realized by a Pasechnik graph whenever $r$ is a prime power."
   ]
  },
  {
   "cell_type": "code",
   "execution_count": 1,
   "metadata": {},
   "outputs": [],
   "source": [
    "import drg"
   ]
  },
  {
   "cell_type": "markdown",
   "metadata": {},
   "source": [
    "Such a scheme would have $2r^6$ vertices."
   ]
  },
  {
   "cell_type": "code",
   "execution_count": 2,
   "metadata": {},
   "outputs": [
    {
     "data": {
      "text/plain": [
       "2*r^6"
      ]
     },
     "execution_count": 2,
     "metadata": {},
     "output_type": "execute_result"
    }
   ],
   "source": [
    "r = var(\"r\")\n",
    "p = drg.QPolyParameters([r^3, r^3-1, r^3-r, r^3-r^2+1], [1, r, r^2-1, r^3])\n",
    "p.order(factor = True, simplify = True)"
   ]
  },
  {
   "cell_type": "markdown",
   "metadata": {},
   "source": [
    "This scheme is $Q$-bipartite, so it has $q^h_{ij} = 0$ whenever $h+i+j$ is odd, or $h, i, j$ do not satisfy the triangle inequality."
   ]
  },
  {
   "cell_type": "code",
   "execution_count": 3,
   "metadata": {},
   "outputs": [
    {
     "data": {
      "text/plain": [
       "0: [                                    1                                     0                                     0                                     0                                     0]\n",
       "   [                                    0                                   r^3                                     0                                     0                                     0]\n",
       "   [                                    0                                     0             (r^2 + r + 1)*(r - 1)*r^2                                     0                                     0]\n",
       "   [                                    0                                     0                                     0             (r^2 + r + 1)*(r - 1)*r^3                                     0]\n",
       "   [                                    0                                     0                                     0                                     0 (r^3 - r^2 + 1)*(r^2 + r + 1)*(r - 1)]\n",
       "\n",
       "1: [                                    0                                     1                                     0                                     0                                     0]\n",
       "   [                                    1                                     0                 (r^2 + r + 1)*(r - 1)                                     0                                     0]\n",
       "   [                                    0                 (r^2 + r + 1)*(r - 1)                                     0       (r^2 + r + 1)*(r + 1)*(r - 1)^2                                     0]\n",
       "   [                                    0                                     0       (r^2 + r + 1)*(r + 1)*(r - 1)^2                                     0 (r^3 - r^2 + 1)*(r^2 + r + 1)*(r - 1)]\n",
       "   [                                    0                                     0                                     0 (r^3 - r^2 + 1)*(r^2 + r + 1)*(r - 1)                                     0]\n",
       "\n",
       "2: [                                  0                                   0                                   1                                   0                                   0]\n",
       "   [                                  0                                   r                                   0                   (r + 1)*(r - 1)*r                                   0]\n",
       "   [                                  1                                   0                   (r^2 + r - 3)*r^2                                   0     (r^3 - r^2 + 1)*(r + 1)*(r - 1)]\n",
       "   [                                  0                   (r + 1)*(r - 1)*r                                   0 (r^4 + r^3 + r^2 - r - 1)*(r - 1)*r                                   0]\n",
       "   [                                  0                                   0     (r^3 - r^2 + 1)*(r + 1)*(r - 1)                                   0         (r^3 - r^2 + 1)*(r - 1)*r^2]\n",
       "\n",
       "3: [                                0                                 0                                 0                                 1                                 0]\n",
       "   [                                0                                 0                   (r + 1)*(r - 1)                                 0                     r^3 - r^2 + 1]\n",
       "   [                                0                   (r + 1)*(r - 1)                                 0 (r^4 + r^3 + r^2 - r - 1)*(r - 1)                                 0]\n",
       "   [                                1                                 0 (r^4 + r^3 + r^2 - r - 1)*(r - 1)                                 0         (r^3 - r^2 + 1)*(r^3 - 2)]\n",
       "   [                                0                     r^3 - r^2 + 1                                 0         (r^3 - r^2 + 1)*(r^3 - 2)                                 0]\n",
       "\n",
       "4: [                          0                           0                           0                           0                           1]\n",
       "   [                          0                           0                           0                         r^3                           0]\n",
       "   [                          0                           0         (r + 1)*(r - 1)*r^2                           0                 (r - 1)*r^4]\n",
       "   [                          0                         r^3                           0               (r^3 - 2)*r^3                           0]\n",
       "   [                          1                           0                 (r - 1)*r^4                           0 r^6 - 2*r^5 + r^4 + r^2 - 2]"
      ]
     },
     "execution_count": 3,
     "metadata": {},
     "output_type": "execute_result"
    }
   ],
   "source": [
    "p.kreinParameters(factor = True, simplify = True)"
   ]
  },
  {
   "cell_type": "markdown",
   "metadata": {},
   "source": [
    "The intersection numbers can be checked to be nonnegative and integral for both even and odd values of $r \\ge 2$."
   ]
  },
  {
   "cell_type": "code",
   "execution_count": 4,
   "metadata": {},
   "outputs": [
    {
     "data": {
      "text/plain": [
       "0: [                                      1                                       0                                       0                                       0                                       0]\n",
       "   [                                      0               (r^2 + r + 1)*(r - 1)*r^2                                       0                                       0                                       0]\n",
       "   [                                      0                                       0 2*(r^3 - r^2 + 1)*(r^2 + r + 1)*(r - 1)                                       0                                       0]\n",
       "   [                                      0                                       0                                       0               (r^2 + r + 1)*(r - 1)*r^2                                       0]\n",
       "   [                                      0                                       0                                       0                                       0                                       1]\n",
       "\n",
       "1: [                              0                               1                               0                               0                               0]\n",
       "   [                              1   1/2*(2*r^2 - r - 2)*(r + 1)*r (r^3 - r^2 + 1)*(r + 1)*(r - 1)           1/2*(r - 1)*(r - 2)*r                               0]\n",
       "   [                              0 (r^3 - r^2 + 1)*(r + 1)*(r - 1)   2*(r^3 - r^2 + 1)*(r - 1)*r^2 (r^3 - r^2 + 1)*(r + 1)*(r - 1)                               0]\n",
       "   [                              0           1/2*(r - 1)*(r - 2)*r (r^3 - r^2 + 1)*(r + 1)*(r - 1)   1/2*(2*r^2 - r - 2)*(r + 1)*r                               1]\n",
       "   [                              0                               0                               0                               1                               0]\n",
       "\n",
       "2: [                                0                                 0                                 1                                 0                                 0]\n",
       "   [                                0           1/2*(r + 1)*(r - 1)*r^2                       (r - 1)*r^4           1/2*(r + 1)*(r - 1)*r^2                                 0]\n",
       "   [                                1                       (r - 1)*r^4 2*r^6 - 4*r^5 + 2*r^4 + 2*r^2 - 4                       (r - 1)*r^4                                 1]\n",
       "   [                                0           1/2*(r + 1)*(r - 1)*r^2                       (r - 1)*r^4           1/2*(r + 1)*(r - 1)*r^2                                 0]\n",
       "   [                                0                                 0                                 1                                 0                                 0]\n",
       "\n",
       "3: [                              0                               0                               0                               1                               0]\n",
       "   [                              0           1/2*(r - 1)*(r - 2)*r (r^3 - r^2 + 1)*(r + 1)*(r - 1)   1/2*(2*r^2 - r - 2)*(r + 1)*r                               1]\n",
       "   [                              0 (r^3 - r^2 + 1)*(r + 1)*(r - 1)   2*(r^3 - r^2 + 1)*(r - 1)*r^2 (r^3 - r^2 + 1)*(r + 1)*(r - 1)                               0]\n",
       "   [                              1   1/2*(2*r^2 - r - 2)*(r + 1)*r (r^3 - r^2 + 1)*(r + 1)*(r - 1)           1/2*(r - 1)*(r - 2)*r                               0]\n",
       "   [                              0                               1                               0                               0                               0]\n",
       "\n",
       "4: [                                      0                                       0                                       0                                       0                                       1]\n",
       "   [                                      0                                       0                                       0               (r^2 + r + 1)*(r - 1)*r^2                                       0]\n",
       "   [                                      0                                       0 2*(r^3 - r^2 + 1)*(r^2 + r + 1)*(r - 1)                                       0                                       0]\n",
       "   [                                      0               (r^2 + r + 1)*(r - 1)*r^2                                       0                                       0                                       0]\n",
       "   [                                      1                                       0                                       0                                       0                                       0]"
      ]
     },
     "execution_count": 4,
     "metadata": {},
     "output_type": "execute_result"
    }
   ],
   "source": [
    "p.pTable(factor = True, simplify = True)"
   ]
  },
  {
   "cell_type": "markdown",
   "metadata": {},
   "source": [
    "We now compute the triple intersection numbers with respect to three vertices $x, y, z$ such that $x$ is in relation $1$ with $y$ and $z$, and $y$ is in relation $2$ with $z$. Note that we have $p^2_{11} = r^2 (r^2-1)/2 > 0$ for all $r \\ge 2$, so such triples must exist. The parameter $a$ will denote the number of vertices in relation $1$ to all of $x, y, z$."
   ]
  },
  {
   "cell_type": "code",
   "execution_count": 5,
   "metadata": {},
   "outputs": [
    {
     "data": {
      "text/plain": [
       "-r^3 + 1/2*r^2 + a + r"
      ]
     },
     "execution_count": 5,
     "metadata": {},
     "output_type": "execute_result"
    }
   ],
   "source": [
    "S112 = p.tripleEquations(1, 1, 2, params={'a': (1, 1, 1)})\n",
    "S112[1, 1, 3]"
   ]
  },
  {
   "cell_type": "markdown",
   "metadata": {},
   "source": [
    "We see that the above triple intersection number can only be integral when $r$ is even. We thus conclude that a $Q$-polynomial association scheme with Krein array $\\{r^3, r^3-1, r^3-r, r^3-r^2+1; 1, r, r^2-1, r^3\\}$ and $r$ odd **does not exist**."
   ]
  }
 ],
 "metadata": {
  "kernelspec": {
   "display_name": "SageMath 8.2.beta8",
   "language": "",
   "name": "sagemath"
  },
  "language_info": {
   "codemirror_mode": {
    "name": "ipython",
    "version": 2
   },
   "file_extension": ".py",
   "mimetype": "text/x-python",
   "name": "python",
   "nbconvert_exporter": "python",
   "pygments_lexer": "ipython2",
   "version": "2.7.14"
  }
 },
 "nbformat": 4,
 "nbformat_minor": 2
}
