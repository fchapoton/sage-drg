{
 "cells": [
  {
   "cell_type": "markdown",
   "metadata": {},
   "source": [
    "# Nonexistence of a $Q$-polynomial association scheme with Krein array $\\{24, 20, 36/11;1, 30/11, 24\\}$\n",
    "\n",
    "We will show that a $Q$-polynomial association scheme with Krein array $\\{24, 20, 36/11;1, 30/11, 24\\}$ does not exist."
   ]
  },
  {
   "cell_type": "code",
   "execution_count": 1,
   "metadata": {},
   "outputs": [],
   "source": [
    "import drg"
   ]
  },
  {
   "cell_type": "markdown",
   "metadata": {},
   "source": [
    "Such a scheme would have $225$ vertices."
   ]
  },
  {
   "cell_type": "code",
   "execution_count": 2,
   "metadata": {},
   "outputs": [
    {
     "data": {
      "text/plain": [
       "225"
      ]
     },
     "execution_count": 2,
     "metadata": {},
     "output_type": "execute_result"
    }
   ],
   "source": [
    "p = drg.QPolyParameters([24, 20, 36/11], [1, 30/11, 24])\n",
    "p.order()"
   ]
  },
  {
   "cell_type": "markdown",
   "metadata": {},
   "source": [
    "We see that the Krein parameters are nonnegative, and the intersection numbers are nonnegative integers. Note that $q^1_{33} = 0$, so the scheme has a second $Q$-polynomial ordering."
   ]
  },
  {
   "cell_type": "code",
   "execution_count": 3,
   "metadata": {},
   "outputs": [
    {
     "data": {
      "text/plain": [
       "0: [  1   0   0   0]\n",
       "   [  0  24   0   0]\n",
       "   [  0   0 176   0]\n",
       "   [  0   0   0  24]\n",
       "\n",
       "1: [  0   1   0   0]\n",
       "   [  1   3  20   0]\n",
       "   [  0  20 132  24]\n",
       "   [  0   0  24   0]\n",
       "\n",
       "2: [    0     0     1     0]\n",
       "   [    0 30/11    18 36/11]\n",
       "   [    1    18   139    18]\n",
       "   [    0 36/11    18 30/11]\n",
       "\n",
       "3: [  0   0   0   1]\n",
       "   [  0   0  24   0]\n",
       "   [  0  24 132  20]\n",
       "   [  1   0  20   3]"
      ]
     },
     "execution_count": 3,
     "metadata": {},
     "output_type": "execute_result"
    }
   ],
   "source": [
    "p.kreinParameters()"
   ]
  },
  {
   "cell_type": "code",
   "execution_count": 4,
   "metadata": {},
   "outputs": [
    {
     "data": {
      "text/plain": [
       "0: [ 1  0  0  0]\n",
       "   [ 0 88  0  0]\n",
       "   [ 0  0 88  0]\n",
       "   [ 0  0  0 48]\n",
       "\n",
       "1: [ 0  1  0  0]\n",
       "   [ 1 43 32 12]\n",
       "   [ 0 32 32 24]\n",
       "   [ 0 12 24 12]\n",
       "\n",
       "2: [ 0  0  1  0]\n",
       "   [ 0 32 32 24]\n",
       "   [ 1 32 43 12]\n",
       "   [ 0 24 12 12]\n",
       "\n",
       "3: [ 0  0  0  1]\n",
       "   [ 0 22 44 22]\n",
       "   [ 0 44 22 22]\n",
       "   [ 1 22 22  3]"
      ]
     },
     "execution_count": 4,
     "metadata": {},
     "output_type": "execute_result"
    }
   ],
   "source": [
    "p.pTable()"
   ]
  },
  {
   "cell_type": "markdown",
   "metadata": {},
   "source": [
    "We now compute the triple intersection numbers with respect to three vertices $x, y, z$ mutually in relation $3$. Note that we have $p^3_{33} = 3$, so such triples must exist. The parameters $a$ and $b$ will denote the number of vertices in relations $(1,1,1)$ and $(1,1,2)$, respectively, to $x, y, z$."
   ]
  },
  {
   "cell_type": "code",
   "execution_count": 5,
   "metadata": {},
   "outputs": [
    {
     "data": {
      "text/plain": [
       "0: [0 0 0 0]\n",
       "   [0 0 0 0]\n",
       "   [0 0 0 0]\n",
       "   [0 0 0 1]\n",
       "\n",
       "1: [              0               0               0               0]\n",
       "   [              0               a               b     -a - b + 22]\n",
       "   [              0               b -a - 7/2*b + 66  a + 5/2*b - 22]\n",
       "   [              0     -a - b + 22  a + 5/2*b - 22     -3/2*b + 22]\n",
       "\n",
       "2: [                    0                     0                     0                     0]\n",
       "   [                    0                     b       -a - 7/2*b + 66        a + 5/2*b - 22]\n",
       "   [                    0       -a - 7/2*b + 66  7/2*a + 45/4*b - 165 -5/2*a - 31/4*b + 121]\n",
       "   [                    0        a + 5/2*b - 22 -5/2*a - 31/4*b + 121   3/2*a + 21/4*b - 77]\n",
       "\n",
       "3: [                    0                     0                     0                     1]\n",
       "   [                    0           -a - b + 22        a + 5/2*b - 22           -3/2*b + 22]\n",
       "   [                    0        a + 5/2*b - 22 -5/2*a - 31/4*b + 121   3/2*a + 21/4*b - 77]\n",
       "   [                    1           -3/2*b + 22   3/2*a + 21/4*b - 77  -3/2*a - 15/4*b + 57]"
      ]
     },
     "execution_count": 5,
     "metadata": {},
     "output_type": "execute_result"
    }
   ],
   "source": [
    "S333 = p.tripleEquations(3, 3, 3, params = {'a': (1, 1, 1), 'b': (1, 1, 2)})\n",
    "S333"
   ]
  },
  {
   "cell_type": "markdown",
   "metadata": {},
   "source": [
    "We now find that there is a single solution such that the above triple intersection numbers are integral and nonnegative."
   ]
  },
  {
   "cell_type": "code",
   "execution_count": 6,
   "metadata": {},
   "outputs": [
    {
     "data": {
      "text/plain": [
       "(a == 3, b == 14)"
      ]
     },
     "execution_count": 6,
     "metadata": {},
     "output_type": "execute_result"
    }
   ],
   "source": [
    "sol, = S333.find()\n",
    "sol"
   ]
  },
  {
   "cell_type": "code",
   "execution_count": 7,
   "metadata": {},
   "outputs": [
    {
     "data": {
      "text/plain": [
       "0: [0 0 0 0]\n",
       "   [0 0 0 0]\n",
       "   [0 0 0 0]\n",
       "   [0 0 0 1]\n",
       "\n",
       "1: [ 0  0  0  0]\n",
       "   [ 0  3 14  5]\n",
       "   [ 0 14 14 16]\n",
       "   [ 0  5 16  1]\n",
       "\n",
       "2: [ 0  0  0  0]\n",
       "   [ 0 14 14 16]\n",
       "   [ 0 14  3  5]\n",
       "   [ 0 16  5  1]\n",
       "\n",
       "3: [ 0  0  0  1]\n",
       "   [ 0  5 16  1]\n",
       "   [ 0 16  5  1]\n",
       "   [ 1  1  1  0]"
      ]
     },
     "execution_count": 7,
     "metadata": {},
     "output_type": "execute_result"
    }
   ],
   "source": [
    "S333.subs(sol)"
   ]
  },
  {
   "cell_type": "markdown",
   "metadata": {},
   "source": [
    "As `S333[1, 3, 3] = 1`, there is a unique vertex $w$ in relations $1, 3, 3$ with $x, y, z$. Let us compute the triple intersection numbers with respect to the vertices $w, x, y$, which are in relations $(1, 3, 3)$. The parameters $c$ and $d$ will denote the number of vertices in relations $(1,1,1)$ and $(1,1,2)$, respectively, to $w, x, y$."
   ]
  },
  {
   "cell_type": "code",
   "execution_count": 8,
   "metadata": {},
   "outputs": [
    {
     "data": {
      "text/plain": [
       "0: [0 0 0 0]\n",
       "   [0 0 0 1]\n",
       "   [0 0 0 0]\n",
       "   [0 0 0 0]\n",
       "\n",
       "1: [               0                0                0                1]\n",
       "   [               0                c                d      -c - d + 43]\n",
       "   [               0           d - 14 -c - 7/2*d + 107   c + 5/2*d - 61]\n",
       "   [               0      -c - d + 36   c + 5/2*d - 63      -3/2*d + 39]\n",
       "\n",
       "2: [                      0                       0                       0                       0]\n",
       "   [                      0                  d - 14        -c - 7/2*d + 107          c + 5/2*d - 61]\n",
       "   [                      0        -c - 7/2*d + 115  7/2*c + 45/4*d - 617/2 -5/2*c - 31/4*d + 451/2]\n",
       "   [                      0          c + 5/2*d - 57 -5/2*c - 31/4*d + 447/2  3/2*c + 21/4*d - 285/2]\n",
       "\n",
       "3: [                      0                       0                       0                       0]\n",
       "   [                      0             -c - d + 36          c + 5/2*d - 63             -3/2*d + 39]\n",
       "   [                      0          c + 5/2*d - 57 -5/2*c - 31/4*d + 447/2  3/2*c + 21/4*d - 285/2]\n",
       "   [                      1             -3/2*d + 43  3/2*c + 21/4*d - 277/2 -3/2*c - 15/4*d + 213/2]"
      ]
     },
     "execution_count": 8,
     "metadata": {},
     "output_type": "execute_result"
    }
   ],
   "source": [
    "S133 = p.tripleEquations(1, 3, 3, params = {'c': (1, 1, 1), 'd': (1, 1, 2)})\n",
    "S133"
   ]
  },
  {
   "cell_type": "markdown",
   "metadata": {},
   "source": [
    "There are precisely two solutions for which the above triple intersection numbers are integral and nonnegative."
   ]
  },
  {
   "cell_type": "code",
   "execution_count": 9,
   "metadata": {},
   "outputs": [
    {
     "data": {
      "text/plain": [
       "[(d == 24, c == 11), (d == 26, c == 6)]"
      ]
     },
     "execution_count": 9,
     "metadata": {},
     "output_type": "execute_result"
    }
   ],
   "source": [
    "sols = list(S133.find())\n",
    "sols"
   ]
  },
  {
   "cell_type": "markdown",
   "metadata": {},
   "source": [
    "The vertex $z$ is in relation $3$ to each of $w, x, y$, so `S133[3, 3, 3] > 0` should hold for a valid solution. However, we find that this is not the case for the solutions found above."
   ]
  },
  {
   "cell_type": "code",
   "execution_count": 10,
   "metadata": {},
   "outputs": [
    {
     "data": {
      "text/plain": [
       "[0, 0]"
      ]
     },
     "execution_count": 10,
     "metadata": {},
     "output_type": "execute_result"
    }
   ],
   "source": [
    "[S133[3, 3, 3].subs(s) for s in sols]"
   ]
  },
  {
   "cell_type": "markdown",
   "metadata": {},
   "source": [
    "We thus conclude that a $Q$-polynomial association scheme with Krein array $\\{24, 20, 36/11;1, 30/11, 24\\}$ **does not exist**."
   ]
  }
 ],
 "metadata": {
  "kernelspec": {
   "display_name": "SageMath 8.2.beta8",
   "language": "",
   "name": "sagemath"
  },
  "language_info": {
   "codemirror_mode": {
    "name": "ipython",
    "version": 2
   },
   "file_extension": ".py",
   "mimetype": "text/x-python",
   "name": "python",
   "nbconvert_exporter": "python",
   "pygments_lexer": "ipython2",
   "version": "2.7.14"
  }
 },
 "nbformat": 4,
 "nbformat_minor": 2
}
