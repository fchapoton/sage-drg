{
 "cells": [
  {
   "cell_type": "markdown",
   "metadata": {},
   "source": [
    "# Nonexistence of a $Q$-polynomial association scheme with Krein array $\\{24, 20, 36/11; 1, 30/11, 24\\}$\n",
    "\n",
    "We will show that a $Q$-polynomial association scheme with Krein array $\\{24, 20, 36/11; 1, 30/11, 24\\}$ does not exist."
   ]
  },
  {
   "cell_type": "code",
   "execution_count": 1,
   "metadata": {},
   "outputs": [],
   "source": [
    "%display latex\n",
    "import drg"
   ]
  },
  {
   "cell_type": "markdown",
   "metadata": {},
   "source": [
    "Such a scheme would have $225$ vertices."
   ]
  },
  {
   "cell_type": "code",
   "execution_count": 2,
   "metadata": {},
   "outputs": [
    {
     "data": {
      "text/html": [
       "<html><script type=\"math/tex; mode=display\">\\newcommand{\\Bold}[1]{\\mathbf{#1}}225</script></html>"
      ],
      "text/plain": [
       "225"
      ]
     },
     "execution_count": 2,
     "metadata": {},
     "output_type": "execute_result"
    }
   ],
   "source": [
    "p = drg.QPolyParameters([24, 20, 36/11], [1, 30/11, 24])\n",
    "p.order()"
   ]
  },
  {
   "cell_type": "markdown",
   "metadata": {},
   "source": [
    "The scheme has two $Q$-polynomial orderings $(0, 1, 2, 3)$ and $(0, 3, 2, 1)$, so we have $q^3_{11} = q^1_{13} = q^1_{31} = q^1_{33} = q^3_{13} = q^3_{31} = 0$."
   ]
  },
  {
   "cell_type": "code",
   "execution_count": 3,
   "metadata": {},
   "outputs": [
    {
     "data": {
      "text/html": [
       "<html><script type=\"math/tex; mode=display\">\\newcommand{\\Bold}[1]{\\mathbf{#1}}\\begin{aligned}0: &\\ \\left(\\begin{array}{rrrr}\n",
       "1 & 0 & 0 & 0 \\\\\n",
       "0 & 24 & 0 & 0 \\\\\n",
       "0 & 0 & 176 & 0 \\\\\n",
       "0 & 0 & 0 & 24\n",
       "\\end{array}\\right) \\\\\n",
       "1: &\\ \\left(\\begin{array}{rrrr}\n",
       "0 & 1 & 0 & 0 \\\\\n",
       "1 & 3 & 20 & 0 \\\\\n",
       "0 & 20 & 132 & 24 \\\\\n",
       "0 & 0 & 24 & 0\n",
       "\\end{array}\\right) \\\\\n",
       "2: &\\ \\left(\\begin{array}{rrrr}\n",
       "0 & 0 & 1 & 0 \\\\\n",
       "0 & \\frac{30}{11} & 18 & \\frac{36}{11} \\\\\n",
       "1 & 18 & 139 & 18 \\\\\n",
       "0 & \\frac{36}{11} & 18 & \\frac{30}{11}\n",
       "\\end{array}\\right) \\\\\n",
       "3: &\\ \\left(\\begin{array}{rrrr}\n",
       "0 & 0 & 0 & 1 \\\\\n",
       "0 & 0 & 24 & 0 \\\\\n",
       "0 & 24 & 132 & 20 \\\\\n",
       "1 & 0 & 20 & 3\n",
       "\\end{array}\\right) \\\\\\end{aligned}</script></html>"
      ],
      "text/plain": [
       "0: [  1   0   0   0]\n",
       "   [  0  24   0   0]\n",
       "   [  0   0 176   0]\n",
       "   [  0   0   0  24]\n",
       "\n",
       "1: [  0   1   0   0]\n",
       "   [  1   3  20   0]\n",
       "   [  0  20 132  24]\n",
       "   [  0   0  24   0]\n",
       "\n",
       "2: [    0     0     1     0]\n",
       "   [    0 30/11    18 36/11]\n",
       "   [    1    18   139    18]\n",
       "   [    0 36/11    18 30/11]\n",
       "\n",
       "3: [  0   0   0   1]\n",
       "   [  0   0  24   0]\n",
       "   [  0  24 132  20]\n",
       "   [  1   0  20   3]"
      ]
     },
     "execution_count": 3,
     "metadata": {},
     "output_type": "execute_result"
    }
   ],
   "source": [
    "p.kreinParameters()"
   ]
  },
  {
   "cell_type": "markdown",
   "metadata": {},
   "source": [
    "The intersection numbers are integral and nonnegative."
   ]
  },
  {
   "cell_type": "code",
   "execution_count": 4,
   "metadata": {},
   "outputs": [
    {
     "data": {
      "text/html": [
       "<html><script type=\"math/tex; mode=display\">\\newcommand{\\Bold}[1]{\\mathbf{#1}}\\begin{aligned}0: &\\ \\left(\\begin{array}{rrrr}\n",
       "1 & 0 & 0 & 0 \\\\\n",
       "0 & 88 & 0 & 0 \\\\\n",
       "0 & 0 & 88 & 0 \\\\\n",
       "0 & 0 & 0 & 48\n",
       "\\end{array}\\right) \\\\\n",
       "1: &\\ \\left(\\begin{array}{rrrr}\n",
       "0 & 1 & 0 & 0 \\\\\n",
       "1 & 43 & 32 & 12 \\\\\n",
       "0 & 32 & 32 & 24 \\\\\n",
       "0 & 12 & 24 & 12\n",
       "\\end{array}\\right) \\\\\n",
       "2: &\\ \\left(\\begin{array}{rrrr}\n",
       "0 & 0 & 1 & 0 \\\\\n",
       "0 & 32 & 32 & 24 \\\\\n",
       "1 & 32 & 43 & 12 \\\\\n",
       "0 & 24 & 12 & 12\n",
       "\\end{array}\\right) \\\\\n",
       "3: &\\ \\left(\\begin{array}{rrrr}\n",
       "0 & 0 & 0 & 1 \\\\\n",
       "0 & 22 & 44 & 22 \\\\\n",
       "0 & 44 & 22 & 22 \\\\\n",
       "1 & 22 & 22 & 3\n",
       "\\end{array}\\right) \\\\\\end{aligned}</script></html>"
      ],
      "text/plain": [
       "0: [ 1  0  0  0]\n",
       "   [ 0 88  0  0]\n",
       "   [ 0  0 88  0]\n",
       "   [ 0  0  0 48]\n",
       "\n",
       "1: [ 0  1  0  0]\n",
       "   [ 1 43 32 12]\n",
       "   [ 0 32 32 24]\n",
       "   [ 0 12 24 12]\n",
       "\n",
       "2: [ 0  0  1  0]\n",
       "   [ 0 32 32 24]\n",
       "   [ 1 32 43 12]\n",
       "   [ 0 24 12 12]\n",
       "\n",
       "3: [ 0  0  0  1]\n",
       "   [ 0 22 44 22]\n",
       "   [ 0 44 22 22]\n",
       "   [ 1 22 22  3]"
      ]
     },
     "execution_count": 4,
     "metadata": {},
     "output_type": "execute_result"
    }
   ],
   "source": [
    "p.pTable()"
   ]
  },
  {
   "cell_type": "markdown",
   "metadata": {},
   "source": [
    "The parameters do not exceed the absolute bound."
   ]
  },
  {
   "cell_type": "code",
   "execution_count": 5,
   "metadata": {},
   "outputs": [
    {
     "data": {
      "text/html": [
       "<html><script type=\"math/tex; mode=display\">\\newcommand{\\Bold}[1]{\\mathbf{#1}}\\left\\{\\right\\}</script></html>"
      ],
      "text/plain": [
       "{}"
      ]
     },
     "execution_count": 5,
     "metadata": {},
     "output_type": "execute_result"
    }
   ],
   "source": [
    "p.check_absoluteBound()"
   ]
  },
  {
   "cell_type": "markdown",
   "metadata": {},
   "source": [
    "Let $w, x, y, z$ be vertices such that $z$ is in relation $1$ with $x$ and $y$, and $w, x, y$ are mutually in relation $3$. Note that we have $p^3_{11} = 22$ and $p^3_{33} = 3$, so such vertices must exist. We first compute the triple intersection numbers with respect to $x, y, z$. The parameters $\\alpha$ and $\\beta$ will denote the numbers of vertices in relations $(2, 1, 1)$ and $(2, 2, 1)$, respectively, to $x, y, z$."
   ]
  },
  {
   "cell_type": "code",
   "execution_count": 6,
   "metadata": {},
   "outputs": [
    {
     "data": {
      "text/html": [
       "<html><script type=\"math/tex; mode=display\">\\newcommand{\\Bold}[1]{\\mathbf{#1}}\\begin{aligned}0: &\\ \\left(\\begin{array}{rrrr}\n",
       "0 & 0 & 0 & 0 \\\\\n",
       "0 & 0 & 0 & 0 \\\\\n",
       "0 & 0 & 0 & 0 \\\\\n",
       "0 & 1 & 0 & 0\n",
       "\\end{array}\\right) \\\\\n",
       "1: &\\ \\left(\\begin{array}{rrrr}\n",
       "0 & 0 & 0 & 0 \\\\\n",
       "1 & -\\frac{7}{2} \\, \\alpha - \\beta + 97 & \\alpha - 16 & \\frac{5}{2} \\, \\alpha + \\beta - 60 \\\\\n",
       "0 & \\alpha & \\beta + 8 & -\\alpha - \\beta + 36 \\\\\n",
       "0 & \\frac{5}{2} \\, \\alpha + \\beta - 54 & -\\alpha - \\beta + 40 & -\\frac{3}{2} \\, \\alpha + 36\n",
       "\\end{array}\\right) \\\\\n",
       "2: &\\ \\left(\\begin{array}{rrrr}\n",
       "0 & 0 & 0 & 0 \\\\\n",
       "0 & \\alpha & \\beta + 8 & -\\alpha - \\beta + 36 \\\\\n",
       "0 & \\beta & -\\alpha - \\frac{7}{2} \\, \\beta + 52 & \\alpha + \\frac{5}{2} \\, \\beta - 30 \\\\\n",
       "0 & -\\alpha - \\beta + 32 & \\alpha + \\frac{5}{2} \\, \\beta - 28 & -\\frac{3}{2} \\, \\beta + 18\n",
       "\\end{array}\\right) \\\\\n",
       "3: &\\ \\left(\\begin{array}{rrrr}\n",
       "0 & 1 & 0 & 0 \\\\\n",
       "0 & \\frac{5}{2} \\, \\alpha + \\beta - 54 & -\\alpha - \\beta + 40 & -\\frac{3}{2} \\, \\alpha + 36 \\\\\n",
       "0 & -\\alpha - \\beta + 32 & \\alpha + \\frac{5}{2} \\, \\beta - 28 & -\\frac{3}{2} \\, \\beta + 18 \\\\\n",
       "0 & -\\frac{3}{2} \\, \\alpha + 33 & -\\frac{3}{2} \\, \\beta + 12 & \\frac{3}{2} \\, \\alpha + \\frac{3}{2} \\, \\beta - 42\n",
       "\\end{array}\\right) \\\\\\end{aligned}</script></html>"
      ],
      "text/plain": [
       "0: [0 0 0 0]\n",
       "   [0 0 0 0]\n",
       "   [0 0 0 0]\n",
       "   [0 1 0 0]\n",
       "\n",
       "1: [                     0                      0                      0                      0]\n",
       "   [                     1 -7/2*alpha - beta + 97             alpha - 16  5/2*alpha + beta - 60]\n",
       "   [                     0                  alpha               beta + 8     -alpha - beta + 36]\n",
       "   [                     0  5/2*alpha + beta - 54     -alpha - beta + 40        -3/2*alpha + 36]\n",
       "\n",
       "2: [                     0                      0                      0                      0]\n",
       "   [                     0                  alpha               beta + 8     -alpha - beta + 36]\n",
       "   [                     0                   beta -alpha - 7/2*beta + 52  alpha + 5/2*beta - 30]\n",
       "   [                     0     -alpha - beta + 32  alpha + 5/2*beta - 28         -3/2*beta + 18]\n",
       "\n",
       "3: [                        0                         1                         0                         0]\n",
       "   [                        0     5/2*alpha + beta - 54        -alpha - beta + 40           -3/2*alpha + 36]\n",
       "   [                        0        -alpha - beta + 32     alpha + 5/2*beta - 28            -3/2*beta + 18]\n",
       "   [                        0           -3/2*alpha + 33            -3/2*beta + 12 3/2*alpha + 3/2*beta - 42]"
      ]
     },
     "execution_count": 6,
     "metadata": {},
     "output_type": "execute_result"
    }
   ],
   "source": [
    "p.tripleEquations(3, 1, 1, params={\"alpha\": (2, 1, 1), \"beta\": (2, 2, 1)})"
   ]
  },
  {
   "cell_type": "markdown",
   "metadata": {},
   "source": [
    "From $[1\\ 1\\ 3] \\ge 0$ and $[3\\ 3\\ 2] \\ge 0$, it follows that $60 - 5\\alpha/2 \\le \\beta \\le 8$. Using this and $[3\\ 3\\ 1] \\ge 0$, we obtain $20.8 \\le a \\le 22$, but since $\\alpha$ and $\\beta$ must clearly be even integers, it follows that there are two solutions with $\\alpha = 22$ and $\\beta \\in \\{6, 8\\}$. In both cases we have $[3\\ 3\\ 1] = 0$, implying that $w$ cannot be in relation $1$ with $z$ for any choice of $w, x, y, z$ as above.\n",
    "\n",
    "We now compute the triple intersection numbers with respect to $w, x, y$. The parameters $\\gamma$ and $\\delta$ will denote the numbers of vertices in relations $(1, 1, 2)$ and $(1, 2, 2)$, respectively, to $w, x, y$."
   ]
  },
  {
   "cell_type": "code",
   "execution_count": 7,
   "metadata": {},
   "outputs": [
    {
     "data": {
      "text/html": [
       "<html><script type=\"math/tex; mode=display\">\\newcommand{\\Bold}[1]{\\mathbf{#1}}\\begin{aligned}0: &\\ \\left(\\begin{array}{rrrr}\n",
       "0 & 0 & 0 & 0 \\\\\n",
       "0 & 0 & 0 & 0 \\\\\n",
       "0 & 0 & 0 & 0 \\\\\n",
       "0 & 0 & 0 & 1\n",
       "\\end{array}\\right) \\\\\n",
       "1: &\\ \\left(\\begin{array}{rrrr}\n",
       "0 & 0 & 0 & 0 \\\\\n",
       "0 & -\\delta - \\frac{7}{2} \\, \\gamma + 66 & \\gamma & \\delta + \\frac{5}{2} \\, \\gamma - 44 \\\\\n",
       "0 & \\gamma & \\delta & -\\delta - \\gamma + 44 \\\\\n",
       "0 & \\delta + \\frac{5}{2} \\, \\gamma - 44 & -\\delta - \\gamma + 44 & -\\frac{3}{2} \\, \\gamma + 22\n",
       "\\end{array}\\right) \\\\\n",
       "2: &\\ \\left(\\begin{array}{rrrr}\n",
       "0 & 0 & 0 & 0 \\\\\n",
       "0 & \\gamma & \\delta & -\\delta - \\gamma + 44 \\\\\n",
       "0 & \\delta & -\\frac{7}{2} \\, \\delta - \\gamma + 66 & \\frac{5}{2} \\, \\delta + \\gamma - 44 \\\\\n",
       "0 & -\\delta - \\gamma + 44 & \\frac{5}{2} \\, \\delta + \\gamma - 44 & -\\frac{3}{2} \\, \\delta + 22\n",
       "\\end{array}\\right) \\\\\n",
       "3: &\\ \\left(\\begin{array}{rrrr}\n",
       "0 & 0 & 0 & 1 \\\\\n",
       "0 & \\delta + \\frac{5}{2} \\, \\gamma - 44 & -\\delta - \\gamma + 44 & -\\frac{3}{2} \\, \\gamma + 22 \\\\\n",
       "0 & -\\delta - \\gamma + 44 & \\frac{5}{2} \\, \\delta + \\gamma - 44 & -\\frac{3}{2} \\, \\delta + 22 \\\\\n",
       "1 & -\\frac{3}{2} \\, \\gamma + 22 & -\\frac{3}{2} \\, \\delta + 22 & \\frac{3}{2} \\, \\delta + \\frac{3}{2} \\, \\gamma - 42\n",
       "\\end{array}\\right) \\\\\\end{aligned}</script></html>"
      ],
      "text/plain": [
       "0: [0 0 0 0]\n",
       "   [0 0 0 0]\n",
       "   [0 0 0 0]\n",
       "   [0 0 0 1]\n",
       "\n",
       "1: [                      0                       0                       0                       0]\n",
       "   [                      0 -delta - 7/2*gamma + 66                   gamma  delta + 5/2*gamma - 44]\n",
       "   [                      0                   gamma                   delta     -delta - gamma + 44]\n",
       "   [                      0  delta + 5/2*gamma - 44     -delta - gamma + 44         -3/2*gamma + 22]\n",
       "\n",
       "2: [                      0                       0                       0                       0]\n",
       "   [                      0                   gamma                   delta     -delta - gamma + 44]\n",
       "   [                      0                   delta -7/2*delta - gamma + 66  5/2*delta + gamma - 44]\n",
       "   [                      0     -delta - gamma + 44  5/2*delta + gamma - 44         -3/2*delta + 22]\n",
       "\n",
       "3: [                         0                          0                          0                          1]\n",
       "   [                         0     delta + 5/2*gamma - 44        -delta - gamma + 44            -3/2*gamma + 22]\n",
       "   [                         0        -delta - gamma + 44     5/2*delta + gamma - 44            -3/2*delta + 22]\n",
       "   [                         1            -3/2*gamma + 22            -3/2*delta + 22 3/2*delta + 3/2*gamma - 42]"
      ]
     },
     "execution_count": 7,
     "metadata": {},
     "output_type": "execute_result"
    }
   ],
   "source": [
    "p.tripleEquations(3, 3, 3, params={\"gamma\": (1, 1, 2), \"delta\": (1, 2, 2)})"
   ]
  },
  {
   "cell_type": "markdown",
   "metadata": {},
   "source": [
    "From $[1\\ 3\\ 3] \\ge 0$ and $[2\\ 3\\ 3] \\ge 0$, it follows that $\\gamma, \\delta \\le 44/3$, while $[3\\ 3\\ 3] \\ge 0$ implies $\\gamma + \\delta \\ge 28$. Since $\\gamma$ and $\\delta$ must clearly be even integers, it follows that there is only one solution with $\\gamma = \\delta = 14$ and therefore $[1\\ 1\\ 1] = 3$. This would imply the existence of a vertex $z$ as above that is in relation $1$ with $w$ - a contradiction! We thus conclude that a $Q$-polynomial association scheme with Krein array $\\{24, 20, 36/11; 1, 30/11, 24\\}$ **does not exist**."
   ]
  }
 ],
 "metadata": {
  "kernelspec": {
   "display_name": "SageMath 8.9.beta2",
   "language": "sage",
   "name": "sagemath"
  },
  "language_info": {
   "codemirror_mode": {
    "name": "ipython",
    "version": 2
   },
   "file_extension": ".py",
   "mimetype": "text/x-python",
   "name": "python",
   "nbconvert_exporter": "python",
   "pygments_lexer": "ipython2",
   "version": "2.7.15"
  }
 },
 "nbformat": 4,
 "nbformat_minor": 2
}
