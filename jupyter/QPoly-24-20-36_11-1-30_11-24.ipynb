{
 "cells": [
  {
   "cell_type": "markdown",
   "metadata": {},
   "source": [
    "# Nonexistence of a $Q$-polynomial association scheme with Krein array $\\{24, 20, 36/11; 1, 30/11, 24\\}$\n",
    "\n",
    "We will show that a $Q$-polynomial association scheme with Krein array $\\{24, 20, 36/11; 1, 30/11, 24\\}$ does not exist."
   ]
  },
  {
   "cell_type": "code",
   "execution_count": 1,
   "metadata": {},
   "outputs": [],
   "source": [
    "import drg"
   ]
  },
  {
   "cell_type": "markdown",
   "metadata": {},
   "source": [
    "Such a scheme would have $225$ vertices."
   ]
  },
  {
   "cell_type": "code",
   "execution_count": 2,
   "metadata": {},
   "outputs": [
    {
     "data": {
      "text/plain": [
       "225"
      ]
     },
     "execution_count": 2,
     "metadata": {},
     "output_type": "execute_result"
    }
   ],
   "source": [
    "p = drg.QPolyParameters([24, 20, 36/11], [1, 30/11, 24])\n",
    "p.order()"
   ]
  },
  {
   "cell_type": "markdown",
   "metadata": {},
   "source": [
    "The scheme has two $Q$-polynomial orderings $(0, 1, 2, 3)$ and $(0, 3, 2, 1)$, so we have $q^3_{11} = q^1_{13} = q^1_{31} = q^1_{33} = q^3_{13} = q^3_{31} = 0$."
   ]
  },
  {
   "cell_type": "code",
   "execution_count": 3,
   "metadata": {},
   "outputs": [
    {
     "data": {
      "text/plain": [
       "0: [  1   0   0   0]\n",
       "   [  0  24   0   0]\n",
       "   [  0   0 176   0]\n",
       "   [  0   0   0  24]\n",
       "\n",
       "1: [  0   1   0   0]\n",
       "   [  1   3  20   0]\n",
       "   [  0  20 132  24]\n",
       "   [  0   0  24   0]\n",
       "\n",
       "2: [    0     0     1     0]\n",
       "   [    0 30/11    18 36/11]\n",
       "   [    1    18   139    18]\n",
       "   [    0 36/11    18 30/11]\n",
       "\n",
       "3: [  0   0   0   1]\n",
       "   [  0   0  24   0]\n",
       "   [  0  24 132  20]\n",
       "   [  1   0  20   3]"
      ]
     },
     "execution_count": 3,
     "metadata": {},
     "output_type": "execute_result"
    }
   ],
   "source": [
    "p.kreinParameters()"
   ]
  },
  {
   "cell_type": "markdown",
   "metadata": {},
   "source": [
    "The intersection numbers are integral and nonnegative."
   ]
  },
  {
   "cell_type": "code",
   "execution_count": 4,
   "metadata": {},
   "outputs": [
    {
     "data": {
      "text/plain": [
       "0: [ 1  0  0  0]\n",
       "   [ 0 88  0  0]\n",
       "   [ 0  0 88  0]\n",
       "   [ 0  0  0 48]\n",
       "\n",
       "1: [ 0  1  0  0]\n",
       "   [ 1 43 32 12]\n",
       "   [ 0 32 32 24]\n",
       "   [ 0 12 24 12]\n",
       "\n",
       "2: [ 0  0  1  0]\n",
       "   [ 0 32 32 24]\n",
       "   [ 1 32 43 12]\n",
       "   [ 0 24 12 12]\n",
       "\n",
       "3: [ 0  0  0  1]\n",
       "   [ 0 22 44 22]\n",
       "   [ 0 44 22 22]\n",
       "   [ 1 22 22  3]"
      ]
     },
     "execution_count": 4,
     "metadata": {},
     "output_type": "execute_result"
    }
   ],
   "source": [
    "p.pTable()"
   ]
  },
  {
   "cell_type": "markdown",
   "metadata": {},
   "source": [
    "The parameters do not exceed the absolute bound."
   ]
  },
  {
   "cell_type": "code",
   "execution_count": 5,
   "metadata": {},
   "outputs": [
    {
     "data": {
      "text/plain": [
       "{}"
      ]
     },
     "execution_count": 5,
     "metadata": {},
     "output_type": "execute_result"
    }
   ],
   "source": [
    "p.check_absoluteBound()"
   ]
  },
  {
   "cell_type": "markdown",
   "metadata": {},
   "source": [
    "Let $u, v, w, x$ be vertices such that $w$ is in relation $1$ with $u$ and $v$, and $u, v, x$ are mutually in relation $3$. Note that we have $p^3_{11} = 22$ and $p^3_{33} = 3$, so such vertices must exist. We first compute the triple intersection numbers with respect to $u, v, w$. The parameters $a$ and $b$ will denote the numbers of vertices in relations $(2, 1, 1)$ and $(2, 2, 1)$, respectively, to $u, v, w$."
   ]
  },
  {
   "cell_type": "code",
   "execution_count": 6,
   "metadata": {},
   "outputs": [
    {
     "data": {
      "text/plain": [
       "0: [0 0 0 0]\n",
       "   [0 0 0 0]\n",
       "   [0 0 0 0]\n",
       "   [0 1 0 0]\n",
       "\n",
       "1: [              0               0               0               0]\n",
       "   [              1 -7/2*a - b + 97          a - 16  5/2*a + b - 60]\n",
       "   [              0               a           b + 8     -a - b + 36]\n",
       "   [              0  5/2*a + b - 54     -a - b + 40     -3/2*a + 36]\n",
       "\n",
       "2: [              0               0               0               0]\n",
       "   [              0               a           b + 8     -a - b + 36]\n",
       "   [              0               b -a - 7/2*b + 52  a + 5/2*b - 30]\n",
       "   [              0     -a - b + 32  a + 5/2*b - 28     -3/2*b + 18]\n",
       "\n",
       "3: [                 0                  1                  0                  0]\n",
       "   [                 0     5/2*a + b - 54        -a - b + 40        -3/2*a + 36]\n",
       "   [                 0        -a - b + 32     a + 5/2*b - 28        -3/2*b + 18]\n",
       "   [                 0        -3/2*a + 33        -3/2*b + 12 3/2*a + 3/2*b - 42]"
      ]
     },
     "execution_count": 6,
     "metadata": {},
     "output_type": "execute_result"
    }
   ],
   "source": [
    "p.tripleEquations(3, 1, 1, params = {\"a\": (2, 1, 1), \"b\": (2, 2, 1)})"
   ]
  },
  {
   "cell_type": "markdown",
   "metadata": {},
   "source": [
    "From $[1\\ 1\\ 3] \\ge 0$ and $[3\\ 3\\ 2] \\ge 0$, it follows that $60 - 5a/2 \\le b \\le 8$. Using this and $[3\\ 3\\ 1] \\ge 0$, we obtain $20.8 \\le a \\le 22$, but since $a$ and $b$ must clearly be even integers, it follows that there are two solutions with $a = 22$ and $b \\in \\{6, 8\\}$. In both cases we have $[3\\ 3\\ 1] = 0$, implying that $x$ cannot be in relation $1$ with $w$ for any choice of $u, v, w$ as above.\n",
    "\n",
    "We now compute the triple intersection numbers with respect to $u, v, x$. The parameters $c$ and $d$ will denote the numbers of vertices in relations $(1, 1, 2)$ and $(1, 2, 2)$, respectively, to $u, v, x$."
   ]
  },
  {
   "cell_type": "code",
   "execution_count": 7,
   "metadata": {},
   "outputs": [
    {
     "data": {
      "text/plain": [
       "0: [0 0 0 0]\n",
       "   [0 0 0 0]\n",
       "   [0 0 0 0]\n",
       "   [0 0 0 1]\n",
       "\n",
       "1: [              0               0               0               0]\n",
       "   [              0 -7/2*c - d + 66               c  5/2*c + d - 44]\n",
       "   [              0               c               d     -c - d + 44]\n",
       "   [              0  5/2*c + d - 44     -c - d + 44     -3/2*c + 22]\n",
       "\n",
       "2: [              0               0               0               0]\n",
       "   [              0               c               d     -c - d + 44]\n",
       "   [              0               d -c - 7/2*d + 66  c + 5/2*d - 44]\n",
       "   [              0     -c - d + 44  c + 5/2*d - 44     -3/2*d + 22]\n",
       "\n",
       "3: [                 0                  0                  0                  1]\n",
       "   [                 0     5/2*c + d - 44        -c - d + 44        -3/2*c + 22]\n",
       "   [                 0        -c - d + 44     c + 5/2*d - 44        -3/2*d + 22]\n",
       "   [                 1        -3/2*c + 22        -3/2*d + 22 3/2*c + 3/2*d - 42]"
      ]
     },
     "execution_count": 7,
     "metadata": {},
     "output_type": "execute_result"
    }
   ],
   "source": [
    "p.tripleEquations(3, 3, 3, params = {\"c\": (1, 1, 2), \"d\": (1, 2, 2)})"
   ]
  },
  {
   "cell_type": "markdown",
   "metadata": {},
   "source": [
    "From $[1\\ 3\\ 3] \\ge 0$ and $[2\\ 3\\ 3]$, it follows that $c, d \\le 44/3$, while $[3\\ 3\\ 3] \\ge 0$ implies $c + d \\ge 28$. Since $c$ and $d$ must clearly be even integers, it follows that there is only one solution with $c = d = 14$ and therefore $[1\\ 1\\ 1] = 3$. This would imply the existence of a vertex $w$ as above that is in relation $1$ with $x$ - a contradiction! We thus conclude that a $Q$-polynomial association scheme with Krein array $\\{24, 20, 36/11; 1, 30/11, 24\\}$ **does not exist**."
   ]
  }
 ],
 "metadata": {
  "kernelspec": {
   "display_name": "SageMath 8.3",
   "language": "",
   "name": "sagemath"
  },
  "language_info": {
   "codemirror_mode": {
    "name": "ipython",
    "version": 2
   },
   "file_extension": ".py",
   "mimetype": "text/x-python",
   "name": "python",
   "nbconvert_exporter": "python",
   "pygments_lexer": "ipython2",
   "version": "2.7.15"
  }
 },
 "nbformat": 4,
 "nbformat_minor": 2
}
