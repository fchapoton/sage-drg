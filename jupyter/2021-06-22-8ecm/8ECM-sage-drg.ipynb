{
 "cells": [
  {
   "cell_type": "markdown",
   "metadata": {
    "slideshow": {
     "slide_type": "notes"
    }
   },
   "source": [
    "This notebook is meant to be viewed as a [RISE](https://github.com/damianavila/RISE) slideshow. When run, a custom stylesheet will be applied:\n",
    "* *italic* text will be shown in *blue*,\n",
    "* **bold** text will be showin in **red**, and\n",
    "* ~~strikethrough~~ text will be shown in ~~green~~.\n",
    "\n",
    "The code below is meant to be run before the presentation to ensure that Sage and its dependencies are properly initialized, so no waiting is required during the presentation."
   ]
  },
  {
   "cell_type": "code",
   "execution_count": null,
   "metadata": {
    "slideshow": {
     "slide_type": "skip"
    }
   },
   "outputs": [],
   "source": [
    "import drg\n",
    "p = [[[1, 0, 0, 0], [0, 6, 0, 0], [0, 0, 3, 0], [0, 0, 0, 6]],\n",
    "     [[0, 1, 0, 0], [1, 2, 1, 2], [0, 1, 0, 2], [0, 2, 2, 2]],\n",
    "     [[0, 0, 1, 0], [0, 2, 0, 4], [1, 0, 2, 0], [0, 4, 0, 2]],\n",
    "     [[0, 0, 0, 1], [0, 2, 2, 2], [0, 2, 0, 1], [1, 2, 1, 2]]]\n",
    "scheme = drg.ASParameters(p)\n",
    "scheme.kreinParameters()"
   ]
  },
  {
   "cell_type": "markdown",
   "metadata": {
    "slideshow": {
     "slide_type": "slide"
    }
   },
   "source": [
    "# Computing distance-regular graph and association scheme parameters in SageMath with [`sage-drg`](https://github.com/jaanos/sage-drg)\n",
    "\n",
    "### Janoš Vidali\n",
    "#### University of Ljubljana\n",
    "\n",
    "Based on joint work with <b>Alexander Gavrilyuk</b>, <b>Aleksandar Jurišić</b>, <b>Sho Suda</b> and <b>Jason Williford</b>\n",
    "\n",
    "[Live slides](https://mybinder.org/v2/gh/jaanos/sage-drg/master?filepath=jupyter/2021-06-22-8ecm/8ECM-sage-drg.ipynb) on [Binder](https://mybinder.org)\n",
    "\n",
    "https://github.com/jaanos/sage-drg"
   ]
  },
  {
   "cell_type": "markdown",
   "metadata": {
    "slideshow": {
     "slide_type": "slide"
    }
   },
   "source": [
    "## Association schemes\n",
    "\n",
    "* **Association schemes** were defined by *Bose* and *Shimamoto* in *1952* as a theory underlying **experimental design**.\n",
    "* They provide a ~~unified approach~~ to many topics, such as\n",
    "  - *combinatorial designs*,\n",
    "  - *coding theory*,\n",
    "  - generalizing *groups*, and\n",
    "  - *strongly regular* and *distance-regular graphs*."
   ]
  },
  {
   "cell_type": "markdown",
   "metadata": {
    "slideshow": {
     "slide_type": "slide"
    }
   },
   "source": [
    "## Examples\n",
    "\n",
    "* *Hamming schemes*: **$X = \\mathbb{Z}_n^d$**, **$x \\ R_i \\ y \\Leftrightarrow \\operatorname{weight}(x-y) = i$**\n",
    "* *Johnson schemes*: **$X = \\{S \\subseteq \\mathbb{Z}_n \\mid |S| = d\\}$** ($2d \\le n$), **$x \\ R_i \\ y \\Leftrightarrow |x \\cap y| = d-i$**\n",
    "\n",
    "<center><img src=\"as.png\" /></center>"
   ]
  },
  {
   "cell_type": "markdown",
   "metadata": {
    "slideshow": {
     "slide_type": "slide"
    }
   },
   "source": [
    "## Definition\n",
    "\n",
    "* Let **$X$** be a set of *vertices* and **$\\mathcal{R} = \\{R_0 = \\operatorname{id}_X, R_1, \\dots, R_D\\}$** a set of *symmetric relations* partitioning *$X^2$*.\n",
    "\n",
    "* **$(X, \\mathcal{R})$** is said to be a **$D$-class association scheme** if there exist numbers **$p^h_{ij}$** ($0 \\le h, i, j \\le D$) such that, for any *$x, y \\in X$*,\n",
    "  **$$\n",
    "  x \\ R_h \\ y \\Rightarrow |\\{z \\in X \\mid x \\ R_i \\ z \\ R_j \\ y\\}| = p^h_{ij}\n",
    "  $$**\n",
    "\n",
    "* We call the numbers **$p^h_{ij}$** ($0 \\le h, i, j \\le D$) **intersection numbers**."
   ]
  },
  {
   "cell_type": "markdown",
   "metadata": {
    "slideshow": {
     "slide_type": "slide"
    }
   },
   "source": [
    "## Main problem\n",
    "\n",
    "* Does an association scheme with given parameters ~~exist~~?\n",
    "  - If so, is it ~~unique~~?\n",
    "  - Can we determine ~~all~~ such schemes?\n",
    "* ~~Lists~~ of feasible parameter sets have been compiled for [**strongly regular**](https://www.win.tue.nl/~aeb/graphs/srg/srgtab.html) and [**distance-regular graphs**](https://www.win.tue.nl/~aeb/drg/drgtables.html).\n",
    "* Recently, lists have also been compiled for some [**$Q$-polynomial association schemes**](http://www.uwyo.edu/jwilliford/).\n",
    "* Computer software allows us to *efficiently* compute parameters and check for *existence conditions*, and also to obtain new information which would be helpful in the ~~construction~~ of new examples."
   ]
  },
  {
   "cell_type": "markdown",
   "metadata": {
    "slideshow": {
     "slide_type": "slide"
    }
   },
   "source": [
    "## Bose-Mesner algebra\n",
    "\n",
    "* Let **$A_i$** be the *binary matrix* corresponding to the relation *$R_i$* ($0 \\le i \\le D$).\n",
    "\n",
    "* The vector space **$\\mathcal{M}$** over *$\\mathbb{R}$* spanned by *$A_i$* ($0 \\le i \\le D$) is called the **Bose-Mesner algebra**.\n",
    "\n",
    "* *$\\mathcal{M}$* has a second basis ~~$\\{E_0, E_1, \\dots, E_D\\}$~~ consisting of *projectors* to the *common eigenspaces* of *$A_i$* ($0 \\le i \\le D$).\n",
    "\n",
    "* There exist the **eigenmatrix** ~~$P$~~ and the **dual eigenmatrix** ~~$Q$~~ such that\n",
    "  *$$\n",
    "  A_j = \\sum_{i=0}^D P_{ij} E_i, \\qquad E_j = {1 \\over |X|} \\sum_{i=0}^D Q_{ij} A_i.\n",
    "  $$*\n",
    "\n",
    "* There are ~~nonnegative~~ constants **$q^h_{ij}$**, called **Krein parameters**, such that\n",
    "  **$$\n",
    "  E_i \\circ E_j = {1 \\over |X|} \\sum_{h=0}^D q^h_{ij} E_h ,\n",
    "  $$**\n",
    "  where **$\\circ$** is the *entrywise matrix product*."
   ]
  },
  {
   "cell_type": "markdown",
   "metadata": {
    "slideshow": {
     "slide_type": "slide"
    }
   },
   "source": [
    "## Parameter computation: general association schemes"
   ]
  },
  {
   "cell_type": "code",
   "execution_count": null,
   "metadata": {
    "slideshow": {
     "slide_type": "fragment"
    }
   },
   "outputs": [],
   "source": [
    "%display latex\n",
    "import drg\n",
    "p = [[[1, 0, 0, 0], [0, 6, 0, 0], [0, 0, 3, 0], [0, 0, 0, 6]],\n",
    "     [[0, 1, 0, 0], [1, 2, 1, 2], [0, 1, 0, 2], [0, 2, 2, 2]],\n",
    "     [[0, 0, 1, 0], [0, 2, 0, 4], [1, 0, 2, 0], [0, 4, 0, 2]],\n",
    "     [[0, 0, 0, 1], [0, 2, 2, 2], [0, 2, 0, 1], [1, 2, 1, 2]]]\n",
    "scheme = drg.ASParameters(p)\n",
    "scheme.kreinParameters()"
   ]
  },
  {
   "cell_type": "markdown",
   "metadata": {
    "slideshow": {
     "slide_type": "slide"
    }
   },
   "source": [
    "## Metric and cometric schemes\n",
    "\n",
    "* If **$p^h_{ij} \\ne 0$** (resp. **$q^h_{ij} \\ne 0$**) implies **$|i-j| \\le h \\le i+j$**, then the association scheme is said to be **metric** (resp. **cometric**).\n",
    "\n",
    "* The *parameters* of a *metric* (or **$P$-polynomial**) association scheme can be ~~determined~~ from the **intersection array**\n",
    "  *$$\n",
    "  \\{b_0, b_1, \\dots, b_{D-1}; c_1, c_2, \\dots, c_D\\}\n",
    "  \\quad (b_i = p^i_{1,i+1}, c_i = p^i_{1,i-1}).\n",
    "  $$*\n",
    "\n",
    "* The *parameters* of a *cometric* (or **$Q$-polynomial**) association scheme can be ~~determined~~ from the **Krein array**\n",
    "  *$$\n",
    "  \\{b^*_0, b^*_1, \\dots, b^*_{D-1}; c^*_1, c^*_2, \\dots, c^*_D\\}\n",
    "  \\quad (b^*_i = q^i_{1,i+1}, c^*_i = q^i_{1,i-1}).\n",
    "  $$*\n",
    "\n",
    "* *Metric* association schemes correspond to *distance-regular graphs*."
   ]
  },
  {
   "cell_type": "markdown",
   "metadata": {
    "slideshow": {
     "slide_type": "slide"
    }
   },
   "source": [
    "## Parameter computation: metric and cometric schemes"
   ]
  },
  {
   "cell_type": "code",
   "execution_count": null,
   "metadata": {
    "slideshow": {
     "slide_type": "fragment"
    }
   },
   "outputs": [],
   "source": [
    "from drg import DRGParameters\n",
    "syl = DRGParameters([5, 4, 2], [1, 1, 4])\n",
    "syl"
   ]
  },
  {
   "cell_type": "code",
   "execution_count": null,
   "metadata": {
    "slideshow": {
     "slide_type": "fragment"
    }
   },
   "outputs": [],
   "source": [
    "syl.order()"
   ]
  },
  {
   "cell_type": "code",
   "execution_count": null,
   "metadata": {
    "slideshow": {
     "slide_type": "fragment"
    }
   },
   "outputs": [],
   "source": [
    "from drg import QPolyParameters\n",
    "q225 = QPolyParameters([24, 20, 36/11], [1, 30/11, 24])\n",
    "q225"
   ]
  },
  {
   "cell_type": "code",
   "execution_count": null,
   "metadata": {
    "slideshow": {
     "slide_type": "fragment"
    }
   },
   "outputs": [],
   "source": [
    "q225.order()"
   ]
  },
  {
   "cell_type": "code",
   "execution_count": null,
   "metadata": {
    "slideshow": {
     "slide_type": "subslide"
    }
   },
   "outputs": [],
   "source": [
    "syl.pTable()"
   ]
  },
  {
   "cell_type": "code",
   "execution_count": null,
   "metadata": {
    "slideshow": {
     "slide_type": "subslide"
    }
   },
   "outputs": [],
   "source": [
    "syl.kreinParameters()"
   ]
  },
  {
   "cell_type": "code",
   "execution_count": null,
   "metadata": {
    "slideshow": {
     "slide_type": "subslide"
    }
   },
   "outputs": [],
   "source": [
    "syl.distancePartition()"
   ]
  },
  {
   "cell_type": "code",
   "execution_count": null,
   "metadata": {
    "slideshow": {
     "slide_type": "subslide"
    }
   },
   "outputs": [],
   "source": [
    "syl.distancePartition(1)"
   ]
  },
  {
   "cell_type": "markdown",
   "metadata": {
    "slideshow": {
     "slide_type": "slide"
    }
   },
   "source": [
    "## Parameter computation: parameters with variables\n",
    "\n",
    "Let us define a *one-parametric family* of *intersection arrays*."
   ]
  },
  {
   "cell_type": "code",
   "execution_count": null,
   "metadata": {
    "slideshow": {
     "slide_type": "fragment"
    }
   },
   "outputs": [],
   "source": [
    "r = var(\"r\")\n",
    "f = DRGParameters([2*r^2*(2*r+1), (2*r-1)*(2*r^2+r+1), 2*r^2], [1, 2*r^2, r*(4*r^2-1)])\n",
    "f.order(factor=True)"
   ]
  },
  {
   "cell_type": "code",
   "execution_count": null,
   "metadata": {
    "slideshow": {
     "slide_type": "fragment"
    }
   },
   "outputs": [],
   "source": [
    "f1 = f.subs(r == 1)\n",
    "f1"
   ]
  },
  {
   "cell_type": "markdown",
   "metadata": {
    "slideshow": {
     "slide_type": "fragment"
    }
   },
   "source": [
    "The parameters of `f1` are known to ~~uniquely determine~~ the *Hamming scheme $H(3, 3)$*."
   ]
  },
  {
   "cell_type": "code",
   "execution_count": null,
   "metadata": {
    "slideshow": {
     "slide_type": "fragment"
    }
   },
   "outputs": [],
   "source": [
    "f2 = f.subs(r == 2)\n",
    "f2"
   ]
  },
  {
   "cell_type": "markdown",
   "metadata": {
    "slideshow": {
     "slide_type": "slide"
    }
   },
   "source": [
    "## Feasibility checking\n",
    "\n",
    "A parameter set is called **feasible** if it passes all known *existence conditions*."
   ]
  },
  {
   "cell_type": "markdown",
   "metadata": {
    "slideshow": {
     "slide_type": "fragment"
    }
   },
   "source": [
    "Let us verify that *$H(3, 3)$* is feasible."
   ]
  },
  {
   "cell_type": "code",
   "execution_count": null,
   "metadata": {
    "slideshow": {
     "slide_type": "fragment"
    }
   },
   "outputs": [],
   "source": [
    "f1.check_feasible()"
   ]
  },
  {
   "cell_type": "markdown",
   "metadata": {
    "slideshow": {
     "slide_type": "fragment"
    }
   },
   "source": [
    "No error has occured, since all existence conditions are met."
   ]
  },
  {
   "cell_type": "markdown",
   "metadata": {
    "slideshow": {
     "slide_type": "subslide"
    }
   },
   "source": [
    "Let us now check whether the second member of the family is feasible."
   ]
  },
  {
   "cell_type": "code",
   "execution_count": null,
   "metadata": {
    "slideshow": {
     "slide_type": "fragment"
    }
   },
   "outputs": [],
   "source": [
    "f2.check_feasible()"
   ]
  },
  {
   "cell_type": "markdown",
   "metadata": {
    "slideshow": {
     "slide_type": "fragment"
    }
   },
   "source": [
    "In this case, ~~nonexistence~~ has been shown by *matching* the parameters against a list of **nonexistent families**."
   ]
  },
  {
   "cell_type": "markdown",
   "metadata": {
    "slideshow": {
     "slide_type": "slide"
    }
   },
   "source": [
    "## Triple intersection numbers\n",
    "\n",
    "* In some cases, **triple intersection numbers** can be computed.\n",
    "  **$$\n",
    "  [h \\ i \\ j] = \\begin{bmatrix} x & y & z \\\\ h & i & j \\end{bmatrix} = |\\{w \\in X \\mid w \\ R_i \\ x \\land w \\ R_j \\ y \\land w \\ R_h \\ z\\}|\n",
    "  $$**\n",
    "* If **$x \\ R_W \\ y$**, **$x \\ R_V \\ z$** and **$y \\ R_U \\ z$**, then we have\n",
    "  *$$\n",
    "  \\sum_{\\ell=1}^D [\\ell\\ j\\ h] = p^U_{jh} - [0\\ j\\ h], \\qquad\n",
    "  \\sum_{\\ell=1}^D [i\\ \\ell\\ h] = p^V_{ih} - [i\\ 0\\ h], \\qquad\n",
    "  \\sum_{\\ell=1}^D [i\\ j\\ \\ell] = p^W_{ij} - [i\\ j\\ 0],\n",
    "  $$*\n",
    "  where\n",
    "  *$$\n",
    "  [0\\ j\\ h] = \\delta_{jW} \\delta_{hV}, \\qquad\n",
    "  [i\\ 0\\ h] = \\delta_{iW} \\delta_{hU}, \\qquad\n",
    "  [i\\ j\\ 0] = \\delta_{iV} \\delta_{jU}.\n",
    "  $$*\n",
    "* Additionally, **$q^h_{ij} = 0$** ~~if and only if~~\n",
    "  ~~$$\n",
    "  \\sum_{r,s,t=0}^D Q_{ri}Q_{sj}Q_{th} \\begin{bmatrix} x & y & z \\\\ r & s & t \\end{bmatrix} = 0\n",
    "  $$~~\n",
    "  for ~~all $x, y, z \\in X$~~."
   ]
  },
  {
   "cell_type": "markdown",
   "metadata": {
    "slideshow": {
     "slide_type": "subslide"
    }
   },
   "source": [
    "## Example: parameters for a bipartite DRG of diameter $5$\n",
    "\n",
    "We will show that a distance-regular graph with intersection array **$\\{55, 54, 50, 35, 10; 1, 5, 20, 45, 55\\}$** ~~does not exist~~. The existence of such a graph would give a *counterexample* to a conjecture by MacLean and Terwilliger, see [Bipartite distance-regular graphs: The $Q$-polynomial property and pseudo primitive idempotents](http://dx.doi.org/10.1016/j.disc.2014.04.025) by M. Lang."
   ]
  },
  {
   "cell_type": "code",
   "execution_count": null,
   "metadata": {
    "slideshow": {
     "slide_type": "fragment"
    }
   },
   "outputs": [],
   "source": [
    "p = drg.DRGParameters([55, 54, 50, 35, 10], [1, 5, 20, 45, 55])\n",
    "p.check_feasible(skip=[\"sporadic\"])\n",
    "p.order()"
   ]
  },
  {
   "cell_type": "code",
   "execution_count": null,
   "metadata": {
    "slideshow": {
     "slide_type": "subslide"
    }
   },
   "outputs": [],
   "source": [
    "p.kreinParameters()"
   ]
  },
  {
   "cell_type": "markdown",
   "metadata": {
    "slideshow": {
     "slide_type": "subslide"
    }
   },
   "source": [
    "We now compute the triple intersection numbers with respect to three vertices **$x, y, z$ at mutual distances $2$**. Note that we have ~~$p^2_{22} = 243$~~, so such triples must exist. The parameter **$\\alpha$** will denote the number of vertices adjacent to all of *$x, y, z$*."
   ]
  },
  {
   "cell_type": "code",
   "execution_count": null,
   "metadata": {
    "slideshow": {
     "slide_type": "fragment"
    }
   },
   "outputs": [],
   "source": [
    "p.distancePartition(2)"
   ]
  },
  {
   "cell_type": "code",
   "execution_count": null,
   "metadata": {
    "slideshow": {
     "slide_type": "fragment"
    }
   },
   "outputs": [],
   "source": [
    "S222 = p.tripleEquations(2, 2, 2, params={\"alpha\": (1, 1, 1)})\n",
    "show(S222[1, 1, 1])\n",
    "show(S222[5, 5, 5])"
   ]
  },
  {
   "cell_type": "markdown",
   "metadata": {
    "slideshow": {
     "slide_type": "fragment"
    }
   },
   "source": [
    "Let us consider the set **$A$** of **common neighbours of $x$ and $y$**, and the set **$B$** of vertices at **distance $2$ from both $x$ and $y$**. By the above, each vertex in *$B$* has ~~at most one neighbour~~ in *$A$*, so there are ~~at most $243$~~ edges between *$A$* and *$B$*. However, each vertex in *$A$* is adjacent to both *$x$* and *$y$*, and the other ~~$53$~~ neighbours are in *$B$*, amounting to a total of ~~$5 \\cdot 53 = 265$~~ edges. We have arrived to a ~~contradiction~~, and we must conclude that a graph with intersection array *$\\{55, 54, 50, 35, 10; 1, 5, 20, 45, 55\\}$* ~~does not exist~~."
   ]
  },
  {
   "cell_type": "markdown",
   "metadata": {
    "slideshow": {
     "slide_type": "slide"
    }
   },
   "source": [
    "## Double counting\n",
    "\n",
    "* Let **$x, y \\in X$** with **$x \\ R_r \\ y$**.\n",
    "* Let **$\\alpha_1, \\alpha_2, \\dots \\alpha_u$** and **$\\kappa_1, \\kappa_2, \\dots \\kappa_u$** be numbers such that there are precisely *$\\kappa_\\ell$* vertices **$z \\in X$** with **$x \\ R_s \\ z \\ R_t \\ y$** such that\n",
    "  **$$\n",
    "  \\begin{bmatrix} x & y & z \\\\ h & i & j \\end{bmatrix} = \\alpha_\\ell \\qquad (1 \\le \\ell \\le u).\n",
    "  $$**\n",
    "* Let **$\\beta_1, \\beta_2, \\dots \\beta_v$** and **$\\lambda_1, \\lambda_2, \\dots \\lambda_v$** be numbers such that there are precisely *$\\lambda_\\ell$* vertices **$w \\in X$** with **$x \\ R_h \\ w \\ R_i \\ y$** such that\n",
    "  **$$\n",
    "  \\begin{bmatrix} w & x & y \\\\ j & s & t \\end{bmatrix} = \\beta_\\ell \\qquad (1 \\le \\ell \\le v).\n",
    "  $$**\n",
    "* Double-counting pairs *$(w, z)$* with **$w \\ R_j \\ z$** gives\n",
    "  ~~$$\n",
    "  \\sum_{\\ell=1}^u \\kappa_\\ell \\alpha_\\ell = \\sum_{\\ell=1}^v \\lambda_\\ell \\beta_\\ell\n",
    "  $$~~\n",
    "* Special case: **$u = 1, \\alpha_1 = 0$** implies ~~$v = 1, \\beta_1 = 0$~~."
   ]
  },
  {
   "cell_type": "markdown",
   "metadata": {
    "slideshow": {
     "slide_type": "slide"
    }
   },
   "source": [
    "## Example: parameters for a $3$-class $Q$-polynomial scheme\n",
    "\n",
    "~~Nonexistence~~ of some *$Q$-polynomial* association schemes has been proven by obtaining a *contradiction* in *double counting* with triple intersection numbers."
   ]
  },
  {
   "cell_type": "code",
   "execution_count": null,
   "metadata": {
    "slideshow": {
     "slide_type": "fragment"
    }
   },
   "outputs": [],
   "source": [
    "q225"
   ]
  },
  {
   "cell_type": "code",
   "execution_count": null,
   "metadata": {
    "slideshow": {
     "slide_type": "fragment"
    }
   },
   "outputs": [],
   "source": [
    "q225.check_quadruples()"
   ]
  },
  {
   "cell_type": "markdown",
   "metadata": {
    "slideshow": {
     "slide_type": "fragment"
    }
   },
   "source": [
    "*Integer linear programming* has been used to find solutions to multiple systems of *linear Diophantine equations*,\n",
    "*eliminating* inconsistent solutions."
   ]
  },
  {
   "cell_type": "markdown",
   "metadata": {
    "slideshow": {
     "slide_type": "slide"
    }
   },
   "source": [
    "## More results\n",
    "\n",
    "There is no *distance-regular graph* with intersection array\n",
    "* ~~$\\{83, 54, 21; 1, 6, 63\\}$~~ (~~$1080$~~ vertices)\n",
    "* ~~$\\{135, 128, 16; 1, 16, 120\\}$~~ (~~$1360$~~ vertices)\n",
    "* ~~$\\{104, 70, 25; 1, 7, 80\\}$~~ (~~$1470$~~ vertices)\n",
    "* ~~$\\{234, 165, 12; 1, 30, 198\\}$~~ (~~$1600$~~ vertices)\n",
    "* ~~$\\{195, 160, 28; 1, 20, 168\\}$~~ (~~$2016$~~ vertices)\n",
    "* ~~$\\{125, 108, 24; 1, 9, 75\\}$~~ (~~$2106$~~ vertices)\n",
    "* ~~$\\{126, 90, 10; 1, 6, 105\\}$~~ (~~$2197$~~ vertices)\n",
    "* ~~$\\{203, 160, 34; 1, 16, 170\\}$~~ (~~$2640$~~ vertices)\n",
    "* ~~$\\{53, 40, 28, 16; 1, 4, 10, 28\\}$~~ (~~$2916$~~ vertices)\n",
    "\n",
    "~~Nonexistence~~ of *$Q$-polynomial association schemes* [GVW21] with parameters listed as *feasible* by [Williford](http://www.uwyo.edu/jwilliford/) has been shown for\n",
    "* ~~$29$~~ cases of *$3$-class primitive* $Q$-polynomial association schemes\n",
    "  - *double counting* has been used in ~~two~~ cases\n",
    "* ~~$92$~~ cases of *$4$-class $Q$-bipartite* $Q$-polynomial association schemes\n",
    "* ~~$11$~~ cases of *$5$-class $Q$-bipartite* $Q$-polynomial association schemes\n"
   ]
  },
  {
   "cell_type": "markdown",
   "metadata": {
    "slideshow": {
     "slide_type": "subslide"
    }
   },
   "source": [
    "## Nonexistence of infinite families\n",
    "\n",
    "Association schemes with the following parameters do not exist.\n",
    "\n",
    "* *distance-regular graphs* with *intersection arrays* ~~$\\{(2r+1)(4r+1)(4t-1), 8r(4rt-r+2t), (r+t)(4r+1); 1, (r+t)(4r+1), 4r(2r+1)(4t-1)\\}$~~ (**$r, t \\ge 1$**)\n",
    "* *primitive $Q$-polynomial association schemes* with *Krein arrays* ~~$\\{2r^2-1, 2r^2-2, r^2+1; 1, 2, r^2-1\\}$~~ (**$r \\ge 3$ odd**)\n",
    "* *$Q$-bipartite $Q$-polynomial association schemes* with *Krein arrays* ~~$\\left\\{m, m-1, {m(r^2-1) \\over r^2}, m-r^2+1; 1, {m \\over r^2}, r^2-1, m\\right\\}$~~ (**$m, r \\ge 3$ odd**)\n",
    "* *$Q$-bipartite $Q$-polynomial association schemes* with *Krein arrays* ~~$\\left\\{{r^2+1 \\over 2}, {r^2-1 \\over 2}, {(r^2+1)^2 \\over 2r(r+1)},\n",
    "    {(r-1)(r^2+1) \\over 4r}, {r^2+1 \\over 2r};\n",
    "    1, {(r-1)(r^2+1) \\over 2r(r+1)}, {(r+1)(r^2 + 1) \\over 4r},\n",
    "    {(r-1)(r^2+1) \\over 2r}, {r^2+1 \\over 2}\\right\\}$~~ (**$r \\ge 5$**, **$r \\equiv 3 \\pmod{4}$**)\n",
    "* *$Q$-antipodal $Q$-polynomial association schemes* with *Krein arrays* ~~$\\left\\{r^2 - 4, r^2 - 9, \\frac{12(s-1)}{s}, 1; 1, \\frac{12}{s}, r^2 - 9, r^2 - 4\\right\\}$~~ (**$r \\ge 5$**, **$s \\ge 4$**)\n",
    "  - **Corollary**: a *tight $4$-design* in **$H((9a^2+1)/5,6)$** ~~does not exist~~ [GSV20]."
   ]
  },
  {
   "cell_type": "markdown",
   "metadata": {
    "slideshow": {
     "slide_type": "slide"
    }
   },
   "source": [
    "## Using Schönberg's theorem\n",
    "\n",
    "* **Schönberg's theorem**: A *polynomial* **$f: [-1, 1] \\to \\mathbb{R}$** of degree **$D$** is ~~positive definite on $S^{m-1}$~~ iff it is a ~~nonnegative linear combination~~ of *Gegenbauer polynomials* **$Q^m_{\\ell}$** (**$0 \\le \\ell \\le D$**).\n",
    "* **Theorem** (*Kodalen, Martin*): If **$(X, \\mathcal{R})$** is an *association scheme*, then\n",
    "  ~~$$\n",
    "  Q_{\\ell}^{m_i} \\left({1 \\over m_i} L^*_i \\right) = {1 \\over |X|} \\sum_{j=0}^D \\theta_{\\ell j} L^*_j\n",
    "  $$~~\n",
    "  for some ~~nonnegative constants~~ **$\\theta_{\\ell j}$** (**$0 \\le j \\le D$**), where **$m_i = \\operatorname{rank}(E_i)$** and **$L^*_i = (q^h_{ij})_{h,j=0}^D$**."
   ]
  },
  {
   "cell_type": "code",
   "execution_count": null,
   "metadata": {
    "slideshow": {
     "slide_type": "fragment"
    }
   },
   "outputs": [],
   "source": [
    "q594 = drg.QPolyParameters([9, 8, 81/11, 63/8], [1, 18/11, 9/8, 9])\n",
    "q594.order()"
   ]
  },
  {
   "cell_type": "code",
   "execution_count": null,
   "metadata": {
    "slideshow": {
     "slide_type": "fragment"
    }
   },
   "outputs": [],
   "source": [
    "q594.check_schoenberg()"
   ]
  },
  {
   "cell_type": "markdown",
   "metadata": {
    "slideshow": {
     "slide_type": "slide"
    }
   },
   "source": [
    "## The Terwilliger polynomial\n",
    "\n",
    "* *Terwilliger* has observed that for a *$Q$-polynomial distance-regular graph $\\Gamma$*, there exists a ~~polynomial $T$ of degree $4$~~ whose coefficients can be expressed in terms of the *intersection numbers* of *$\\Gamma$* such that ~~$T(\\theta) \\ge 0$~~ for each *non-principal eigenvalue* **$\\theta$** of the **local graph** at a vertex of *$\\Gamma$*.\n",
    "* `sage-drg` can be used to *compute* this polynomial."
   ]
  },
  {
   "cell_type": "code",
   "execution_count": null,
   "metadata": {
    "slideshow": {
     "slide_type": "fragment"
    }
   },
   "outputs": [],
   "source": [
    "p750 = drg.DRGParameters([49, 40, 22], [1, 5, 28])\n",
    "p750.order()"
   ]
  },
  {
   "cell_type": "code",
   "execution_count": null,
   "metadata": {
    "slideshow": {
     "slide_type": "fragment"
    }
   },
   "outputs": [],
   "source": [
    "T750 = p750.terwilligerPolynomial()\n",
    "T750"
   ]
  },
  {
   "cell_type": "code",
   "execution_count": null,
   "metadata": {},
   "outputs": [],
   "source": [
    "sorted(s.rhs() for s in solve(T750 == 0, x))"
   ]
  },
  {
   "cell_type": "code",
   "execution_count": null,
   "metadata": {
    "slideshow": {
     "slide_type": "fragment"
    }
   },
   "outputs": [],
   "source": [
    "plot(T750, (x, -4, 5))"
   ]
  },
  {
   "cell_type": "markdown",
   "metadata": {
    "slideshow": {
     "slide_type": "subslide"
    }
   },
   "source": [
    "We may now use **[BCN, Thm. 4.4.4]** to further *restrict* the possible *non-principal eigenvalues* of the *local graphs*."
   ]
  },
  {
   "cell_type": "code",
   "execution_count": null,
   "metadata": {
    "slideshow": {
     "slide_type": "fragment"
    }
   },
   "outputs": [],
   "source": [
    "l, u = -1 - p750.b[1] / (p750.theta[1] + 1), -1 - p750.b[1] / (p750.theta[3] + 1)\n",
    "l, u"
   ]
  },
  {
   "cell_type": "code",
   "execution_count": null,
   "metadata": {
    "slideshow": {
     "slide_type": "fragment"
    }
   },
   "outputs": [],
   "source": [
    "plot(T750, (x, -4, 5)) + line([(l, 0), (u, 0)], color=\"red\", thickness=3)"
   ]
  },
  {
   "cell_type": "markdown",
   "metadata": {
    "slideshow": {
     "slide_type": "fragment"
    }
   },
   "source": [
    "Since graph eigenvalues are *algebraic integers* and all *non-integral eigenvalues* of the *local graph* lie on a subinterval of ~~$(-4, -1)$~~, it can be shown that the only permissible *non-principal eigenvalues* are ~~$-3, -2, 3$~~."
   ]
  },
  {
   "cell_type": "markdown",
   "metadata": {
    "slideshow": {
     "slide_type": "subslide"
    }
   },
   "source": [
    "We may now set up a *system of equations* to determine the *multiplicities*."
   ]
  },
  {
   "cell_type": "code",
   "execution_count": null,
   "metadata": {
    "slideshow": {
     "slide_type": "fragment"
    }
   },
   "outputs": [],
   "source": [
    "var(\"m1 m2 m3\")\n",
    "solve([1 + m1 + m2 + m3 == p750.k[1],\n",
    "       1 * p750.a[1] + m1 * 3 + m2 * (-2) + m3 * (-3) == 0,\n",
    "       1 * p750.a[1]^2 + m1 * 3^2 + m2 * (-2)^2 + m3 * (-3)^2 == p750.k[1] * p750.a[1]],\n",
    "      (m1, m2, m3))"
   ]
  },
  {
   "cell_type": "markdown",
   "metadata": {
    "slideshow": {
     "slide_type": "fragment"
    }
   },
   "source": [
    "Since all multiplicities are not *nonnegative integers*, we conclude that there is no *distance-regular graph* with intersection array\n",
    "* ~~$\\{49, 40, 22; 1, 5, 28\\}$~~ (~~$750$~~ vertices)\n",
    "* ~~$\\{109, 80, 22; 1, 10, 88\\}$~~ (~~$1200$~~ vertices)\n",
    "* ~~$\\{164, 121, 33; 1, 11, 132\\}$~~ (~~$2420$~~ vertices)"
   ]
  },
  {
   "cell_type": "markdown",
   "metadata": {
    "slideshow": {
     "slide_type": "slide"
    }
   },
   "source": [
    "## Distance-regular graphs with classical parameters\n",
    "\n",
    "We use a similar technique to prove ~~nonexistence~~ of certain *distance-regular graphs* with *classical parameters* **$(D, b, \\alpha, \\beta)$**:\n",
    "* ~~$(3, 2, 2, 9)$~~ (~~$430$~~ vertices)\n",
    "* ~~$(3, 2, 5, 21)$~~ (~~$1100$~~ vertices)\n",
    "* ~~$(6, 2, 2, 107)$~~ (~~$87\\,725\\,820\\,468$~~ vertices)\n",
    "* ~~$(b, \\alpha) = (2, 1)$~~ and\n",
    "  - ~~$D = 4$~~, ~~$\\beta \\in \\{8, 10, 12\\}$~~\n",
    "  - ~~$D = 5$~~, ~~$\\beta \\in \\{16, 17, 19, 20, 21, 28\\}$~~\n",
    "  - ~~$D = 6$~~, ~~$\\beta \\in \\{32, 33, 34, 35, 36, 38, 40, 46, 49, 54, 60\\}$~~\n",
    "  - ~~$D = 7$~~, ~~$\\beta \\in \\{64, 65, 66, 67, 69, 70, 71, 72, 73, 74, 77, 79, 81, 84, 85, 92, 99, 124\\}$~~\n",
    "  - ~~$D = 8$~~, ~~$\\beta \\in \\{128, 129, 130, 131, 133, 134, 135, 136, 137, 139, 140, 141, 151, 152, 155, 158, 160, 165, 168, 174, 175, 183, 184, 190, 202, 238, 252\\}$~~\n",
    "  - ~~$D \\ge 3$~~, ~~$\\beta \\in \\{2^{D-1}, 2^D-4\\}$~~"
   ]
  },
  {
   "cell_type": "markdown",
   "metadata": {
    "slideshow": {
     "slide_type": "subslide"
    }
   },
   "source": [
    "## Local graphs with at most four eigenvalues\n",
    "\n",
    "* **Lemma** (*Van Dam*): A *connected graph* on **$n$** vertices with *spectrum*\n",
    "  **$$\n",
    "  {\\theta_0}^{\\ell_0} \\quad\n",
    "  {\\theta_1}^{\\ell_1} \\quad\n",
    "  {\\theta_2}^{\\ell_2} \\quad\n",
    "  {\\theta_3}^{\\ell_3}\n",
    "  $$**\n",
    "  is ~~walk-regular~~ with precisely\n",
    "  ~~$$\n",
    "  w_r = {1 \\over n} \\sum_{i=0}^3 \\ell_i \\cdot {(\\theta_i)}^r\n",
    "  $$~~\n",
    "  *closed $r$-walks* (**$r \\ge 3$**) through *each vertex*.\n",
    "  - If **$r$** is *odd*, **$w_r$** must be ~~even~~.\n",
    "* A *distance-regular graph* **$\\Gamma$** with *classical parameters* **$(D, 2, 1, \\beta)$** has *local graphs* with\n",
    "  - precisely **three distinct eigenvalues** if **$\\beta = 2^D - 1$**, and then *$\\Gamma$* is a ~~bilinear forms graph~~ (Gavrilyuk, Koolen)\n",
    "  - precisely **four distinct eigenvalues** if **$(\\beta+1) \\mid (2^D-2)(2^D-1)$**, and then ~~$\\beta = 2^D-2$~~ (or *$w_3$* is ~~nonintegral~~)\n",
    "* There is no *distance-regular graph* with *classical parameters* **$(D, 2, 1, \\beta)$** such that\n",
    "  - ~~$(D, \\beta) \\in \\{(3, 5), (4, 9), (4, 13), (5, 29), (6, 41), (6, 61), (7, 125), (8, 169), (8, 253)\\}$~~\n",
    "  - ~~$D \\ge 3$~~ and ~~$\\beta = 2^D - 3$~~"
   ]
  }
 ],
 "metadata": {
  "celltoolbar": "Slideshow",
  "kernelspec": {
   "display_name": "SageMath 9.2.rc2",
   "language": "sage",
   "name": "sagemath"
  },
  "language_info": {
   "codemirror_mode": {
    "name": "ipython",
    "version": 3
   },
   "file_extension": ".py",
   "mimetype": "text/x-python",
   "name": "python",
   "nbconvert_exporter": "python",
   "pygments_lexer": "ipython3",
   "version": "3.8.5"
  },
  "livereveal": {
   "transition": "none"
  },
  "rise": {
   "enable_chalkboard": true,
   "scroll": true,
   "transition": "none"
  }
 },
 "nbformat": 4,
 "nbformat_minor": 2
}
