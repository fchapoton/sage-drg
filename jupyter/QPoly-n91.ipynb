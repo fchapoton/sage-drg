{
 "cells": [
  {
   "cell_type": "markdown",
   "metadata": {},
   "source": [
    "# Nonexistence of a $Q$-polynomial association scheme with Krein array $\\{12, 338/35, 39/25; 1, 312/175, 39/5\\}$\n",
    "\n",
    "We will show that a $Q$-polynomial association scheme with Krein array $\\{12, 338/35, 39/25; 1, 312/175, 39/5\\}$ does not exist. These parameters were given as feasible in\n",
    "\n",
    "van Dam, E. R., Three-class association schemes, J. Alg. Combinatorics 10 (1999), 69-107."
   ]
  },
  {
   "cell_type": "code",
   "execution_count": 1,
   "metadata": {},
   "outputs": [],
   "source": [
    "import drg"
   ]
  },
  {
   "cell_type": "markdown",
   "metadata": {},
   "source": [
    "Such a scheme would have $91$ vertices."
   ]
  },
  {
   "cell_type": "code",
   "execution_count": 2,
   "metadata": {},
   "outputs": [
    {
     "data": {
      "text/plain": [
       "91"
      ]
     },
     "execution_count": 2,
     "metadata": {},
     "output_type": "execute_result"
    }
   ],
   "source": [
    "p = drg.QPolyParameters([12, 338/35, 39/25], [1, 312/175, 39/5])\n",
    "p.order()"
   ]
  },
  {
   "cell_type": "markdown",
   "metadata": {},
   "source": [
    "We see that the Krein parameters are nonnegative, and the intersection numbers are nonnegative integers."
   ]
  },
  {
   "cell_type": "code",
   "execution_count": 3,
   "metadata": {},
   "outputs": [
    {
     "data": {
      "text/plain": [
       "0: [ 1  0  0  0]\n",
       "   [ 0 12  0  0]\n",
       "   [ 0  0 65  0]\n",
       "   [ 0  0  0 13]\n",
       "\n",
       "1: [      0       1       0       0]\n",
       "   [      1   47/35  338/35       0]\n",
       "   [      0  338/35 1313/28  169/20]\n",
       "   [      0       0  169/20   91/20]\n",
       "\n",
       "2: [      0       0       1       0]\n",
       "   [      0 312/175  303/35   39/25]\n",
       "   [      1  303/35 2535/56  403/40]\n",
       "   [      0   39/25  403/40 273/200]\n",
       "\n",
       "3: [     0      0      0      1]\n",
       "   [     0      0   39/5   21/5]\n",
       "   [     0   39/5  403/8 273/40]\n",
       "   [     1   21/5 273/40  39/40]"
      ]
     },
     "execution_count": 3,
     "metadata": {},
     "output_type": "execute_result"
    }
   ],
   "source": [
    "p.kreinParameters()"
   ]
  },
  {
   "cell_type": "code",
   "execution_count": 4,
   "metadata": {},
   "outputs": [
    {
     "data": {
      "text/plain": [
       "0: [ 1  0  0  0]\n",
       "   [ 0 20  0  0]\n",
       "   [ 0  0 30  0]\n",
       "   [ 0  0  0 40]\n",
       "\n",
       "1: [ 0  1  0  0]\n",
       "   [ 1  3 12  4]\n",
       "   [ 0 12  6 12]\n",
       "   [ 0  4 12 24]\n",
       "\n",
       "2: [ 0  0  1  0]\n",
       "   [ 0  8  4  8]\n",
       "   [ 1  4 13 12]\n",
       "   [ 0  8 12 20]\n",
       "\n",
       "3: [ 0  0  0  1]\n",
       "   [ 0  2  6 12]\n",
       "   [ 0  6  9 15]\n",
       "   [ 1 12 15 12]"
      ]
     },
     "execution_count": 4,
     "metadata": {},
     "output_type": "execute_result"
    }
   ],
   "source": [
    "p.pTable()"
   ]
  },
  {
   "cell_type": "markdown",
   "metadata": {},
   "source": [
    "We now compute the triple intersection numbers with respect to three vertices $x, y, z$ such that $x$ is in relation $1$ with $y$ and $z$, and $y$ is in relation $3$ with $z$. Note that we have $p^3_{11} = 2$, so such triples must exist. The parameters $a, b, c, d, e$ will denote the number of vertices in relations $(1, 1, 1), (1, 1, 2), (1, 2, 1), (2, 1, 1), (1, 2, 2)$, respectively, to $x, y, z$."
   ]
  },
  {
   "cell_type": "code",
   "execution_count": 5,
   "metadata": {},
   "outputs": [
    {
     "data": {
      "text/plain": [
       "0: [0 0 0 0]\n",
       "   [0 1 0 0]\n",
       "   [0 0 0 0]\n",
       "   [0 0 0 0]\n",
       "\n",
       "1: [                 0                  0                  0                  1]\n",
       "   [                 0                  a                  b         -a - b + 3]\n",
       "   [                 0                  c                  e        -c - e + 12]\n",
       "   [                 1         -a - c + 3        -b - e + 12 a + b + c + e - 12]\n",
       "\n",
       "2: [                                         0                                          0                                          0                                          0]\n",
       "   [                                         0                                          d                      3/2*c - 3/2*d + e - 6                    -3/2*c + 1/2*d - e + 18]\n",
       "   [                                         0                      3/2*b - 3/2*d + e - 6 9/4*a - 3/4*b - 3/4*c + 9/4*d - 2*e + 63/4  -9/4*a - 3/4*b + 3/4*c - 3/4*d + e - 15/4]\n",
       "   [                                         0                    -3/2*b + 1/2*d - e + 18  -9/4*a + 3/4*b - 3/4*c - 3/4*d + e - 15/4        9/4*a + 3/4*b + 3/4*c + 1/4*d - 9/4]\n",
       "\n",
       "3: [                                          0                                           0                                           0                                           0]\n",
       "   [                                          0                                  -a - d + 1                 -b - 3/2*c + 3/2*d - e + 12               a + b + 3/2*c - 1/2*d + e - 9]\n",
       "   [                                          0                 -3/2*b - c + 3/2*d - e + 12   -9/4*a + 3/4*b + 3/4*c - 9/4*d + e - 27/4        9/4*a + 3/4*b + 1/4*c + 3/4*d + 27/4]\n",
       "   [                                          0               a + 3/2*b + c - 1/2*d + e - 9        9/4*a + 1/4*b + 3/4*c + 3/4*d + 27/4 -13/4*a - 7/4*b - 7/4*c - 1/4*d - e + 105/4]"
      ]
     },
     "execution_count": 5,
     "metadata": {},
     "output_type": "execute_result"
    }
   ],
   "source": [
    "S113 = p.tripleEquations(1, 1, 3, params = {'a': (1, 1, 1), 'b': (1, 1, 2), 'c': (1, 2, 1), 'd': (2, 1, 1), 'e': (1, 2, 2)})\n",
    "S113"
   ]
  },
  {
   "cell_type": "markdown",
   "metadata": {},
   "source": [
    "Let us now show that there is a single integral nonnegative solution. We will consider the nonnegativity of a subset of the triple intersection numbers computed above."
   ]
  },
  {
   "cell_type": "code",
   "execution_count": 6,
   "metadata": {},
   "outputs": [
    {
     "data": {
      "text/plain": [
       "[a >= 0,\n",
       " d >= 0,\n",
       " -a - b + 3 >= 0,\n",
       " -a - c + 3 >= 0,\n",
       " -a - d + 1 >= 0,\n",
       " a + b + c + e - 12 >= 0,\n",
       " 9/4*a - 3/4*b - 3/4*c + 9/4*d - 2*e + 63/4 >= 0]"
      ]
     },
     "execution_count": 6,
     "metadata": {},
     "output_type": "execute_result"
    }
   ],
   "source": [
    "(a, b), (c, e) = S113[1, 1:3, 1:3]\n",
    "d = S113[2, 1, 1]\n",
    "[S113[i] >= 0 for i in [(1, 1, 1), (2, 1, 1), (1, 1, 3), (1, 3, 1), (3, 1, 1), (1, 3, 3), (2, 2, 2)]]"
   ]
  },
  {
   "cell_type": "markdown",
   "metadata": {},
   "source": [
    "Clearly, $a+d \\in \\{0, 1\\}$. Suppose first that $a+d = 0$, i.e., $a = d = 0$. Then we may rewrite the above inequalities as\n",
    "\\begin{align*}\n",
    "5b &\\le 15 \\\\\n",
    "5c &\\le 15 \\\\\n",
    "3b + 3c + 8e &\\le 63 \\\\\n",
    "8b + 8c + 8e &\\ge 96\n",
    "\\end{align*}\n",
    "Summing the first three inequalities gives us $8b + 8c + 8e \\le 93$, which contradicts the last inequality."
   ]
  },
  {
   "cell_type": "markdown",
   "metadata": {},
   "source": [
    "We must thus have $a+d = 1$. The inequality corresponding to `S113[2, 2, 2]` can therefore be rewritten as\n",
    "$$\n",
    "3/4 (b+c) + 2e \\le 18,\n",
    "$$\n",
    "and the left-hand side must be integral. Since $e$ is integral, $b+c$ must be divisible by $4$. If $a = 0$, then $d = 1$ and\n",
    "\\begin{align*}\n",
    "b &\\le 3 \\\\\n",
    "c &\\le 3 \\\\\n",
    "-3b - 3c - 8e &\\ge -72 \\\\\n",
    "8b + 8c + 8e &\\ge 96\n",
    "\\end{align*}\n",
    "Summing the first two inequalities gives us $b+c \\le 6$, while summing the last two inequalities yields $5b + 5c \\ge 24$.\n",
    "Therefore, $b+c \\in \\{5, 6\\}$ and is thus not divisible by $4$, contradiction."
   ]
  },
  {
   "cell_type": "markdown",
   "metadata": {},
   "source": [
    "The only remaining possibility is then $a = 1, d = 0$. This gives\n",
    "\\begin{align*}\n",
    "5/8 b &\\le 5/4 \\\\\n",
    "5/8 c &\\le 5/4 \\\\\n",
    "3/8 b + 3/8 c + e &\\le 9 \\\\\n",
    "b + c + e &\\ge 11\n",
    "\\end{align*}\n",
    "Summing the first three inequalities gives $b+c+e \\le 23/2$, which together with the last inequality implies $b+c+e = 11$. Also, the last two inequalities imply $b+c \\ge 16/5$. As $b+c$ is divisible by $4$, the only solution is then $b = c = 2, e = 7$. Let us verify that this gives a feasible solution."
   ]
  },
  {
   "cell_type": "code",
   "execution_count": 7,
   "metadata": {},
   "outputs": [
    {
     "data": {
      "text/plain": [
       "0: [0 0 0 0]\n",
       "   [0 1 0 0]\n",
       "   [0 0 0 0]\n",
       "   [0 0 0 0]\n",
       "\n",
       "1: [0 0 0 1]\n",
       "   [0 1 2 0]\n",
       "   [0 2 7 3]\n",
       "   [1 0 3 0]\n",
       "\n",
       "2: [0 0 0 0]\n",
       "   [0 0 4 8]\n",
       "   [0 4 1 1]\n",
       "   [0 8 1 3]\n",
       "\n",
       "3: [ 0  0  0  0]\n",
       "   [ 0  0  0  4]\n",
       "   [ 0  0  1 11]\n",
       "   [ 0  4 11  9]"
      ]
     },
     "execution_count": 7,
     "metadata": {},
     "output_type": "execute_result"
    }
   ],
   "source": [
    "S113.subs([a == 1, b == 2, c == 2, d == 0, e == 7])"
   ]
  },
  {
   "cell_type": "markdown",
   "metadata": {},
   "source": [
    "Since `S113[1, 1, 1] == 1`, there is a unique vertex $w$ that is in relation $1$ with each of $x, y, z$. We thus compute the triple intersection numbers with respect to the vertices $w, x, y$, which are mutually in relation $1$. Note that we have $p^1_{11} = 3$, so such triples must exist. The parameters $r, s, t, u, v$ will denote the number of vertices in relations $(1, 1, 1), (1, 1, 2), (1, 2, 1), (2, 1, 1), (1, 2, 2)$, respectively, to $w, x, y$."
   ]
  },
  {
   "cell_type": "code",
   "execution_count": 8,
   "metadata": {},
   "outputs": [
    {
     "data": {
      "text/plain": [
       "0: [0 0 0 0]\n",
       "   [0 1 0 0]\n",
       "   [0 0 0 0]\n",
       "   [0 0 0 0]\n",
       "\n",
       "1: [                 0                  1                  0                  0]\n",
       "   [                 1                  r                  s         -r - s + 2]\n",
       "   [                 0                  t                  v        -t - v + 12]\n",
       "   [                 0         -r - t + 2        -s - v + 12 r + s + t + v - 10]\n",
       "\n",
       "2: [                                         0                                          0                                          0                                          0]\n",
       "   [                                         0                                          u                          3/2*t - 3/2*u + v                    -3/2*t + 1/2*u - v + 12]\n",
       "   [                                         0                          3/2*s - 3/2*u + v 9/4*r - 3/4*s - 3/4*t + 9/4*u - 2*v + 21/2   -9/4*r - 3/4*s + 3/4*t - 3/4*u + v - 9/2]\n",
       "   [                                         0                    -3/2*s + 1/2*u - v + 12   -9/4*r + 3/4*s - 3/4*t - 3/4*u + v - 9/2        9/4*r + 3/4*s + 3/4*t + 1/4*u + 9/2]\n",
       "\n",
       "3: [                                         0                                          0                                          0                                          0]\n",
       "   [                                         0                                 -r - u + 2                -s - 3/2*t + 3/2*u - v + 12             r + s + 3/2*t - 1/2*u + v - 10]\n",
       "   [                                         0                -3/2*s - t + 3/2*u - v + 12   -9/4*r + 3/4*s + 3/4*t - 9/4*u + v - 9/2        9/4*r + 3/4*s + 1/4*t + 3/4*u + 9/2]\n",
       "   [                                         0             r + 3/2*s + t - 1/2*u + v - 10        9/4*r + 1/4*s + 3/4*t + 3/4*u + 9/2 -13/4*r - 7/4*s - 7/4*t - 1/4*u - v + 59/2]"
      ]
     },
     "execution_count": 8,
     "metadata": {},
     "output_type": "execute_result"
    }
   ],
   "source": [
    "S111 = p.tripleEquations(1, 1, 1, params = {'r': (1, 1, 1), 's': (1, 1, 2), 't': (1, 2, 1), 'u': (2, 1, 1), 'v': (1, 2, 2)})\n",
    "S111"
   ]
  },
  {
   "cell_type": "markdown",
   "metadata": {},
   "source": [
    "Let us now show that there is a single integral nonnegative solution. We will consider the nonnegativity of a subset of the triple intersection numbers computed above."
   ]
  },
  {
   "cell_type": "code",
   "execution_count": 9,
   "metadata": {},
   "outputs": [
    {
     "data": {
      "text/plain": [
       "[r >= 0,\n",
       " -r - s + 2 >= 0,\n",
       " -r - t + 2 >= 0,\n",
       " -r - u + 2 >= 0,\n",
       " r + s + t + v - 10 >= 0,\n",
       " 9/4*r - 3/4*s - 3/4*t + 9/4*u - 2*v + 21/2 >= 0]"
      ]
     },
     "execution_count": 9,
     "metadata": {},
     "output_type": "execute_result"
    }
   ],
   "source": [
    "(r, s), (t, v) = S111[1, 1:3, 1:3]\n",
    "u = S111[2, 1, 1]\n",
    "[S111[i] >= 0 for i in [(1, 1, 1), (1, 1, 3), (1, 3, 1), (3, 1, 1), (1, 3, 3), (2, 2, 2)]]"
   ]
  },
  {
   "cell_type": "markdown",
   "metadata": {},
   "source": [
    "We may rewrite the first five inequalities:\n",
    "\\begin{align*}\n",
    "-1/2 r &\\le 0 \\\\\n",
    "5/4 r + 5/4 s &\\le 5/2 \\\\\n",
    "5/4 r + 5/4 t &\\le 5/2 \\\\\n",
    "9/4 r + 9/4 u &\\le 9/2 \\\\\n",
    "-2 r - 2 s - 2 t - 2 v &\\le -20\n",
    "\\end{align*}\n",
    "Summing the above inequalities gives $9/4 r - 3/4 s - 3/4 t + 9/4 u - 2 v \\le -21/2$, implying that all of the above inequalities hold with equality. Thus, there is a single solution with $r = 0, s = t = u = 2, v = 6$:"
   ]
  },
  {
   "cell_type": "code",
   "execution_count": 10,
   "metadata": {},
   "outputs": [
    {
     "data": {
      "text/plain": [
       "0: [0 0 0 0]\n",
       "   [0 1 0 0]\n",
       "   [0 0 0 0]\n",
       "   [0 0 0 0]\n",
       "\n",
       "1: [0 1 0 0]\n",
       "   [1 0 2 0]\n",
       "   [0 2 6 4]\n",
       "   [0 0 4 0]\n",
       "\n",
       "2: [0 0 0 0]\n",
       "   [0 2 6 4]\n",
       "   [0 6 0 0]\n",
       "   [0 4 0 8]\n",
       "\n",
       "3: [ 0  0  0  0]\n",
       "   [ 0  0  4  0]\n",
       "   [ 0  4  0  8]\n",
       "   [ 0  0  8 16]"
      ]
     },
     "execution_count": 10,
     "metadata": {},
     "output_type": "execute_result"
    }
   ],
   "source": [
    "S111.subs([r == 0, s == 2, t == 2, u == 2, v == 6])"
   ]
  },
  {
   "cell_type": "markdown",
   "metadata": {},
   "source": [
    "Since `S111[1, 1, 3] == 0`, there is no vertex that is in relation $1$ with $w$ and $x$, and in relation $3$ with $y$. However, this contradicts with $z$ being such a vertex. We thus conclude that a $Q$-polynomial association scheme with Krein array $\\{12, 338/35, 39/25; 1, 312/175, 39/5\\}$ **does not exist**."
   ]
  }
 ],
 "metadata": {
  "kernelspec": {
   "display_name": "SageMath 8.2.beta8",
   "language": "",
   "name": "sagemath"
  },
  "language_info": {
   "codemirror_mode": {
    "name": "ipython",
    "version": 2
   },
   "file_extension": ".py",
   "mimetype": "text/x-python",
   "name": "python",
   "nbconvert_exporter": "python",
   "pygments_lexer": "ipython2",
   "version": "2.7.14"
  }
 },
 "nbformat": 4,
 "nbformat_minor": 2
}
