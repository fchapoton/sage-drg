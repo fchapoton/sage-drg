{
 "cells": [
  {
   "cell_type": "markdown",
   "metadata": {},
   "source": [
    "# Setup\n",
    "\n",
    "Once the notebook is started, the package can be imported."
   ]
  },
  {
   "cell_type": "code",
   "execution_count": 1,
   "metadata": {},
   "outputs": [],
   "source": [
    "%display latex\n",
    "import drg"
   ]
  },
  {
   "cell_type": "markdown",
   "metadata": {},
   "source": [
    "The central class is `drg.DRGParameters`, which can be given an intersection array in the form of two lists or tuples of the same length."
   ]
  },
  {
   "cell_type": "code",
   "execution_count": 2,
   "metadata": {},
   "outputs": [
    {
     "data": {
      "text/html": [
       "<html><script type=\"math/tex; mode=display\">\\newcommand{\\Bold}[1]{\\mathbf{#1}}\\text{Parameters of a distance-regular graph with intersection array } \\left\\{5, 4, 2; 1, 1, 4\\right\\}</script></html>"
      ],
      "text/plain": [
       "Parameters of a distance-regular graph with intersection array {5, 4, 2; 1, 1, 4}"
      ]
     },
     "execution_count": 2,
     "metadata": {},
     "output_type": "execute_result"
    }
   ],
   "source": [
    "syl = drg.DRGParameters([5, 4, 2], [1, 1, 4])\n",
    "syl"
   ]
  },
  {
   "cell_type": "markdown",
   "metadata": {},
   "source": [
    "Instead of an intersection array, parameters $(k, \\lambda, \\mu)$ for a strongly regular graph or classical parameters $(d, b, \\alpha, \\beta)$ may also be specified."
   ]
  },
  {
   "cell_type": "code",
   "execution_count": 3,
   "metadata": {},
   "outputs": [
    {
     "data": {
      "text/html": [
       "<html><script type=\"math/tex; mode=display\">\\newcommand{\\Bold}[1]{\\mathbf{#1}}\\text{Parameters of a distance-regular graph with intersection array } \\left\\{3, 2; 1, 1\\right\\}</script></html>"
      ],
      "text/plain": [
       "Parameters of a distance-regular graph with intersection array {3, 2; 1, 1}"
      ]
     },
     "execution_count": 3,
     "metadata": {},
     "output_type": "execute_result"
    }
   ],
   "source": [
    "petersen = drg.DRGParameters(3, 0, 1)\n",
    "petersen"
   ]
  },
  {
   "cell_type": "code",
   "execution_count": 4,
   "metadata": {},
   "outputs": [
    {
     "data": {
      "text/html": [
       "<html><script type=\"math/tex; mode=display\">\\newcommand{\\Bold}[1]{\\mathbf{#1}}\\text{Parameters of a distance-regular graph with intersection array } \\left\\{7, 6, 5, 4, 3, 2, 1; 1, 2, 3, 4, 5, 6, 7\\right\\}</script></html>"
      ],
      "text/plain": [
       "Parameters of a distance-regular graph with intersection array {7, 6, 5, 4, 3, 2, 1; 1, 2, 3, 4, 5, 6, 7}"
      ]
     },
     "execution_count": 4,
     "metadata": {},
     "output_type": "execute_result"
    }
   ],
   "source": [
    "q7 = drg.DRGParameters(7, 1, 0, 1)\n",
    "q7"
   ]
  },
  {
   "cell_type": "markdown",
   "metadata": {},
   "source": [
    "The intersection array (given in any of the forms above) may also contain variables. Substitution of variables is possible using the `subs` method. Note that the diameter must be constant."
   ]
  },
  {
   "cell_type": "code",
   "execution_count": 5,
   "metadata": {},
   "outputs": [
    {
     "data": {
      "text/html": [
       "<html><script type=\"math/tex; mode=display\">\\newcommand{\\Bold}[1]{\\mathbf{#1}}\\text{Parameters of a distance-regular graph with intersection array } \\left\\{6, 4, 2; 1, 2, 3\\right\\}</script></html>"
      ],
      "text/plain": [
       "Parameters of a distance-regular graph with intersection array {6, 4, 2; 1, 2, 3}"
      ]
     },
     "execution_count": 5,
     "metadata": {},
     "output_type": "execute_result"
    }
   ],
   "source": [
    "r = var(\"r\")\n",
    "fam = drg.DRGParameters([2*r^2*(2*r+1), (2*r-1)*(2*r^2+r+1), 2*r^2], [1, 2*r^2, r*(4*r^2-1)])\n",
    "fam1 = fam.subs(r == 1)\n",
    "fam1"
   ]
  },
  {
   "cell_type": "markdown",
   "metadata": {},
   "source": [
    "# Parameter computation\n",
    "\n",
    "As a `drg.DRGParameters` object is being constructed, its intersection numbers are computed. If any of them is determined to be negative or nonintegral, then an exception is thrown and the construction is aborted. Several other conditions are also checked, for example that the sequences $\\{b_i\\}_{i=0}^d$ and $\\{c_i\\}_{i=0}^d$ are non-ascending and non-descending, respectively, and that $b_j \\ge c_i$ if $i + j \\le d$. The handshake lemma is also checked for each subconstituent. If the graph is determined to be antipodal, then the covering index is also checked for integrality.\n",
    "\n",
    "The number of vertices, their valency and the diameter of the graph can be obtained with the `order`, `valency`, and `diameter` methods."
   ]
  },
  {
   "cell_type": "code",
   "execution_count": 6,
   "metadata": {},
   "outputs": [
    {
     "data": {
      "text/html": [
       "<html><script type=\"math/tex; mode=display\">\\newcommand{\\Bold}[1]{\\mathbf{#1}}\\left(36, 5, 3\\right)</script></html>"
      ],
      "text/plain": [
       "(36, 5, 3)"
      ]
     },
     "execution_count": 6,
     "metadata": {},
     "output_type": "execute_result"
    }
   ],
   "source": [
    "syl.order(), syl.valency(), syl.diameter()"
   ]
  },
  {
   "cell_type": "markdown",
   "metadata": {},
   "source": [
    "The entire array of intersection numbers can be obtained with the `pTable` method, which returns a `drg.Array3D` object implementing a three-dimensional array."
   ]
  },
  {
   "cell_type": "code",
   "execution_count": 7,
   "metadata": {},
   "outputs": [
    {
     "data": {
      "text/html": [
       "<html><script type=\"math/tex; mode=display\">\\newcommand{\\Bold}[1]{\\mathbf{#1}}\\begin{aligned}0: &\\ \\left(\\begin{array}{rrrr}\n",
       "1 & 0 & 0 & 0 \\\\\n",
       "0 & 5 & 0 & 0 \\\\\n",
       "0 & 0 & 20 & 0 \\\\\n",
       "0 & 0 & 0 & 10\n",
       "\\end{array}\\right) \\\\\n",
       "1: &\\ \\left(\\begin{array}{rrrr}\n",
       "0 & 1 & 0 & 0 \\\\\n",
       "1 & 0 & 4 & 0 \\\\\n",
       "0 & 4 & 8 & 8 \\\\\n",
       "0 & 0 & 8 & 2\n",
       "\\end{array}\\right) \\\\\n",
       "2: &\\ \\left(\\begin{array}{rrrr}\n",
       "0 & 0 & 1 & 0 \\\\\n",
       "0 & 1 & 2 & 2 \\\\\n",
       "1 & 2 & 11 & 6 \\\\\n",
       "0 & 2 & 6 & 2\n",
       "\\end{array}\\right) \\\\\n",
       "3: &\\ \\left(\\begin{array}{rrrr}\n",
       "0 & 0 & 0 & 1 \\\\\n",
       "0 & 0 & 4 & 1 \\\\\n",
       "0 & 4 & 12 & 4 \\\\\n",
       "1 & 1 & 4 & 4\n",
       "\\end{array}\\right) \\\\\\end{aligned}</script></html>"
      ],
      "text/plain": [
       "0: [ 1  0  0  0]\n",
       "   [ 0  5  0  0]\n",
       "   [ 0  0 20  0]\n",
       "   [ 0  0  0 10]\n",
       "\n",
       "1: [0 1 0 0]\n",
       "   [1 0 4 0]\n",
       "   [0 4 8 8]\n",
       "   [0 0 8 2]\n",
       "\n",
       "2: [ 0  0  1  0]\n",
       "   [ 0  1  2  2]\n",
       "   [ 1  2 11  6]\n",
       "   [ 0  2  6  2]\n",
       "\n",
       "3: [ 0  0  0  1]\n",
       "   [ 0  0  4  1]\n",
       "   [ 0  4 12  4]\n",
       "   [ 1  1  4  4]"
      ]
     },
     "execution_count": 7,
     "metadata": {},
     "output_type": "execute_result"
    }
   ],
   "source": [
    "syl.pTable()"
   ]
  },
  {
   "cell_type": "markdown",
   "metadata": {},
   "source": [
    "The subsets of intersection numbers $\\{a_i\\}_{i=1}^d$, $\\{b_i\\}_{i=0}^{d-1}$ and $\\{c_i\\}_{i=1}^d$ can be obtained as tuples with the `aTable`, `bTable`, and `cTable` methods, respectively. There is also a method `intersectionArray` returning the entire intersection array as a pair of tuples."
   ]
  },
  {
   "cell_type": "code",
   "execution_count": 8,
   "metadata": {},
   "outputs": [
    {
     "data": {
      "text/html": [
       "<html><script type=\"math/tex; mode=display\">\\newcommand{\\Bold}[1]{\\mathbf{#1}}\\left(0, 2, 1\\right)</script></html>"
      ],
      "text/plain": [
       "(0, 2, 1)"
      ]
     },
     "metadata": {},
     "output_type": "display_data"
    },
    {
     "data": {
      "text/html": [
       "<html><script type=\"math/tex; mode=display\">\\newcommand{\\Bold}[1]{\\mathbf{#1}}\\left(5, 4, 2\\right)</script></html>"
      ],
      "text/plain": [
       "(5, 4, 2)"
      ]
     },
     "metadata": {},
     "output_type": "display_data"
    },
    {
     "data": {
      "text/html": [
       "<html><script type=\"math/tex; mode=display\">\\newcommand{\\Bold}[1]{\\mathbf{#1}}\\left(1, 1, 4\\right)</script></html>"
      ],
      "text/plain": [
       "(1, 1, 4)"
      ]
     },
     "metadata": {},
     "output_type": "display_data"
    },
    {
     "data": {
      "text/html": [
       "<html><script type=\"math/tex; mode=display\">\\newcommand{\\Bold}[1]{\\mathbf{#1}}\\left(\\left(5, 4, 2\\right), \\left(1, 1, 4\\right)\\right)</script></html>"
      ],
      "text/plain": [
       "((5, 4, 2), (1, 1, 4))"
      ]
     },
     "metadata": {},
     "output_type": "display_data"
    }
   ],
   "source": [
    "show(syl.aTable())\n",
    "show(syl.bTable())\n",
    "show(syl.cTable())\n",
    "show(syl.intersectionArray())"
   ]
  },
  {
   "cell_type": "markdown",
   "metadata": {},
   "source": [
    "Eigenvalues can be computed using the `eigenvalues` method. They are sorted in the decreasing order; if there is a variable in the intersection array, then the order is derived under the assumption that the variable takes a (large\n",
    "enough) positive value. If there is more than one variable, a warning is issued that the given ordering is not necessarily correct. This can be avoided by explicitly specifying an order of the variables using the `set_vars` method (see the [DRG-d3-2param.ipynb](DRG-d3-2param.ipynb) notebook for an example). The ordering of eigenvalues (and thus the ordering of corresponding parameters) can also be changed later using the `reorderEigenvalues` method, which accepts an ordering of the indices of the nontrivial eigenvalues (i.e., integers from $1$ to $d$).\n",
    "\n",
    "Once the ordering of eigenvalues is determined, the cosine sequences and multiplicities of the eigenvalues can be computed using the `cosineSequences` and `multiplicities` methods. The multiplicities are checked to be integral."
   ]
  },
  {
   "cell_type": "code",
   "execution_count": 9,
   "metadata": {},
   "outputs": [
    {
     "data": {
      "text/html": [
       "<html><script type=\"math/tex; mode=display\">\\newcommand{\\Bold}[1]{\\mathbf{#1}}\\left(5, 2, -1, -3\\right)</script></html>"
      ],
      "text/plain": [
       "(5, 2, -1, -3)"
      ]
     },
     "metadata": {},
     "output_type": "display_data"
    },
    {
     "data": {
      "text/html": [
       "<html><script type=\"math/tex; mode=display\">\\newcommand{\\Bold}[1]{\\mathbf{#1}}\\left(1, 16, 10, 9\\right)</script></html>"
      ],
      "text/plain": [
       "(1, 16, 10, 9)"
      ]
     },
     "metadata": {},
     "output_type": "display_data"
    },
    {
     "data": {
      "text/html": [
       "<html><script type=\"math/tex; mode=display\">\\newcommand{\\Bold}[1]{\\mathbf{#1}}\\left(\\begin{array}{rrrr}\n",
       "1 & 1 & 1 & 1 \\\\\n",
       "1 & \\frac{2}{5} & -\\frac{1}{20} & -\\frac{1}{5} \\\\\n",
       "1 & -\\frac{1}{5} & -\\frac{1}{5} & \\frac{2}{5} \\\\\n",
       "1 & -\\frac{3}{5} & \\frac{1}{5} & -\\frac{1}{5}\n",
       "\\end{array}\\right)</script></html>"
      ],
      "text/plain": [
       "[    1     1     1     1]\n",
       "[    1   2/5 -1/20  -1/5]\n",
       "[    1  -1/5  -1/5   2/5]\n",
       "[    1  -3/5   1/5  -1/5]"
      ]
     },
     "metadata": {},
     "output_type": "display_data"
    }
   ],
   "source": [
    "show(syl.eigenvalues())\n",
    "show(syl.multiplicities())\n",
    "show(syl.cosineSequences())"
   ]
  },
  {
   "cell_type": "markdown",
   "metadata": {},
   "source": [
    "The eigenmatrix and dual eigenmatrix can be computed using the `eigenmatrix` and `dualEigenmatrix` methods. The `is_formallySelfDual` method checks whether the two matrices are equal (using the current ordering of eigenvalues)."
   ]
  },
  {
   "cell_type": "code",
   "execution_count": 10,
   "metadata": {},
   "outputs": [
    {
     "data": {
      "text/html": [
       "<html><script type=\"math/tex; mode=display\">\\newcommand{\\Bold}[1]{\\mathbf{#1}}\\left(\\begin{array}{rrrr}\n",
       "1 & 5 & 20 & 10 \\\\\n",
       "1 & 2 & -1 & -2 \\\\\n",
       "1 & -1 & -4 & 4 \\\\\n",
       "1 & -3 & 4 & -2\n",
       "\\end{array}\\right)</script></html>"
      ],
      "text/plain": [
       "[ 1  5 20 10]\n",
       "[ 1  2 -1 -2]\n",
       "[ 1 -1 -4  4]\n",
       "[ 1 -3  4 -2]"
      ]
     },
     "metadata": {},
     "output_type": "display_data"
    },
    {
     "data": {
      "text/html": [
       "<html><script type=\"math/tex; mode=display\">\\newcommand{\\Bold}[1]{\\mathbf{#1}}\\left(\\begin{array}{rrrr}\n",
       "1 & 16 & 10 & 9 \\\\\n",
       "1 & \\frac{32}{5} & -2 & -\\frac{27}{5} \\\\\n",
       "1 & -\\frac{4}{5} & -2 & \\frac{9}{5} \\\\\n",
       "1 & -\\frac{16}{5} & 4 & -\\frac{9}{5}\n",
       "\\end{array}\\right)</script></html>"
      ],
      "text/plain": [
       "[    1    16    10     9]\n",
       "[    1  32/5    -2 -27/5]\n",
       "[    1  -4/5    -2   9/5]\n",
       "[    1 -16/5     4  -9/5]"
      ]
     },
     "metadata": {},
     "output_type": "display_data"
    },
    {
     "data": {
      "text/html": [
       "<html><script type=\"math/tex; mode=display\">\\newcommand{\\Bold}[1]{\\mathbf{#1}}\\mathrm{False}</script></html>"
      ],
      "text/plain": [
       "False"
      ]
     },
     "metadata": {},
     "output_type": "display_data"
    }
   ],
   "source": [
    "show(syl.eigenmatrix())\n",
    "show(syl.dualEigenmatrix())\n",
    "show(syl.is_formallySelfDual())"
   ]
  },
  {
   "cell_type": "markdown",
   "metadata": {},
   "source": [
    "The Krein parameters can be computed using the `kreinParameters` method, which returns a `drg.Array3D` object. The Krein parameters are checked to be nonnegative."
   ]
  },
  {
   "cell_type": "code",
   "execution_count": 11,
   "metadata": {},
   "outputs": [
    {
     "data": {
      "text/html": [
       "<html><script type=\"math/tex; mode=display\">\\newcommand{\\Bold}[1]{\\mathbf{#1}}\\begin{aligned}0: &\\ \\left(\\begin{array}{rrrr}\n",
       "1 & 0 & 0 & 0 \\\\\n",
       "0 & 16 & 0 & 0 \\\\\n",
       "0 & 0 & 10 & 0 \\\\\n",
       "0 & 0 & 0 & 9\n",
       "\\end{array}\\right) \\\\\n",
       "1: &\\ \\left(\\begin{array}{rrrr}\n",
       "0 & 1 & 0 & 0 \\\\\n",
       "1 & \\frac{44}{5} & \\frac{22}{5} & \\frac{9}{5} \\\\\n",
       "0 & \\frac{22}{5} & 2 & \\frac{18}{5} \\\\\n",
       "0 & \\frac{9}{5} & \\frac{18}{5} & \\frac{18}{5}\n",
       "\\end{array}\\right) \\\\\n",
       "2: &\\ \\left(\\begin{array}{rrrr}\n",
       "0 & 0 & 1 & 0 \\\\\n",
       "0 & \\frac{176}{25} & \\frac{16}{5} & \\frac{144}{25} \\\\\n",
       "1 & \\frac{16}{5} & 4 & \\frac{9}{5} \\\\\n",
       "0 & \\frac{144}{25} & \\frac{9}{5} & \\frac{36}{25}\n",
       "\\end{array}\\right) \\\\\n",
       "3: &\\ \\left(\\begin{array}{rrrr}\n",
       "0 & 0 & 0 & 1 \\\\\n",
       "0 & \\frac{16}{5} & \\frac{32}{5} & \\frac{32}{5} \\\\\n",
       "0 & \\frac{32}{5} & 2 & \\frac{8}{5} \\\\\n",
       "1 & \\frac{32}{5} & \\frac{8}{5} & 0\n",
       "\\end{array}\\right) \\\\\\end{aligned}</script></html>"
      ],
      "text/plain": [
       "0: [ 1  0  0  0]\n",
       "   [ 0 16  0  0]\n",
       "   [ 0  0 10  0]\n",
       "   [ 0  0  0  9]\n",
       "\n",
       "1: [   0    1    0    0]\n",
       "   [   1 44/5 22/5  9/5]\n",
       "   [   0 22/5    2 18/5]\n",
       "   [   0  9/5 18/5 18/5]\n",
       "\n",
       "2: [     0      0      1      0]\n",
       "   [     0 176/25   16/5 144/25]\n",
       "   [     1   16/5      4    9/5]\n",
       "   [     0 144/25    9/5  36/25]\n",
       "\n",
       "3: [   0    0    0    1]\n",
       "   [   0 16/5 32/5 32/5]\n",
       "   [   0 32/5    2  8/5]\n",
       "   [   1 32/5  8/5    0]"
      ]
     },
     "execution_count": 11,
     "metadata": {},
     "output_type": "execute_result"
    }
   ],
   "source": [
    "syl.kreinParameters()"
   ]
  },
  {
   "cell_type": "markdown",
   "metadata": {},
   "source": [
    "Classical parameters can be computed using the `is_classical` method, which returns a list of all tuples of classical parameters, or `False` if the graph is not classical."
   ]
  },
  {
   "cell_type": "code",
   "execution_count": 12,
   "metadata": {},
   "outputs": [
    {
     "data": {
      "text/html": [
       "<html><script type=\"math/tex; mode=display\">\\newcommand{\\Bold}[1]{\\mathbf{#1}}\\left[\\left(3, 1, 0, 2\\right)\\right]</script></html>"
      ],
      "text/plain": [
       "[(3, 1, 0, 2)]"
      ]
     },
     "execution_count": 12,
     "metadata": {},
     "output_type": "execute_result"
    }
   ],
   "source": [
    "fam1.is_classical()"
   ]
  },
  {
   "cell_type": "markdown",
   "metadata": {},
   "source": [
    "The method `genPoly_parameters` returns the tuple $(g, s, t)$ if the parameters correspond to those of a collinearity graph of a generalized $g$-gon of order $(s, t)$, or `(False, None, None)` if there is no such generalized $g$-gon."
   ]
  },
  {
   "cell_type": "code",
   "execution_count": 13,
   "metadata": {},
   "outputs": [
    {
     "data": {
      "text/html": [
       "<html><script type=\"math/tex; mode=display\">\\newcommand{\\Bold}[1]{\\mathbf{#1}}\\left(6, 2, 2\\right)</script></html>"
      ],
      "text/plain": [
       "(6, 2, 2)"
      ]
     },
     "execution_count": 13,
     "metadata": {},
     "output_type": "execute_result"
    }
   ],
   "source": [
    "drg.DRGParameters([6, 4, 4], [1, 1, 3]).genPoly_parameters()"
   ]
  },
  {
   "cell_type": "markdown",
   "metadata": {},
   "source": [
    "Note that the existence of a strongly regular graph for which $(g, s, t)$ are defined does not imply the existence of a corresponding generalized quadrangle. A distance-regular graph $\\Gamma$ of diameter at least $3$ has these parameters defined precisely when $\\Gamma$ is isomorphic to the collinearity graph of a corresponding generalized $g$-gon.\n",
    "\n",
    "All the methods mentioned above store their results, so subsequent calls will not redo the computations. Note that one does not need to call the methods in the order given here - if some required computation has not been done before, it will be performed when needed. Where applicable, the methods above also take three named boolean parameters `expand`, `factor`, and `simplify` (all set to `False` by default), which control how the returned expression(s) will be manipulated. In the case when there are no variables in use, setting these parameters has no effect."
   ]
  },
  {
   "cell_type": "markdown",
   "metadata": {},
   "source": [
    "# Parameters of derived graphs\n",
    "\n",
    "In some cases, the parameters of a distance-regular graph imply the existence of another distance-regular graph which can be derived from the original graph. This is true for imprimitive graphs (i.e., antipodal or bipartite), but sometimes, new distance-regular graphs can be obtained by taking subgraphs or by merging classes.\n",
    "\n",
    "The antipodality of a graph can be checked with the `is_antipodal` method, which returns the covering index for antipodal graphs, and `False` otherwise. The parameters of the antipodal quotient of an antipodal graph can then be obtained with the `antipodalQuotient` method."
   ]
  },
  {
   "cell_type": "code",
   "execution_count": 14,
   "metadata": {},
   "outputs": [
    {
     "data": {
      "text/html": [
       "<html><script type=\"math/tex; mode=display\">\\newcommand{\\Bold}[1]{\\mathbf{#1}}2</script></html>"
      ],
      "text/plain": [
       "2"
      ]
     },
     "metadata": {},
     "output_type": "display_data"
    },
    {
     "data": {
      "text/html": [
       "<html><script type=\"math/tex; mode=display\">\\newcommand{\\Bold}[1]{\\mathbf{#1}}\\text{Parameters of a distance-regular graph with intersection array } \\left\\{7, 6, 5; 1, 2, 3\\right\\}</script></html>"
      ],
      "text/plain": [
       "Parameters of a distance-regular graph with intersection array {7, 6, 5; 1, 2, 3}"
      ]
     },
     "execution_count": 14,
     "metadata": {},
     "output_type": "execute_result"
    }
   ],
   "source": [
    "show(q7.is_antipodal())\n",
    "q7.antipodalQuotient()"
   ]
  },
  {
   "cell_type": "markdown",
   "metadata": {},
   "source": [
    "The bipartiteness of a graph can be checked with the `is_bipartite` method. The parameters of the bipartite half of a bipartite graph can then be obtained with the `bipartiteHalf` method."
   ]
  },
  {
   "cell_type": "code",
   "execution_count": 15,
   "metadata": {},
   "outputs": [
    {
     "data": {
      "text/html": [
       "<html><script type=\"math/tex; mode=display\">\\newcommand{\\Bold}[1]{\\mathbf{#1}}\\mathrm{True}</script></html>"
      ],
      "text/plain": [
       "True"
      ]
     },
     "metadata": {},
     "output_type": "display_data"
    },
    {
     "data": {
      "text/html": [
       "<html><script type=\"math/tex; mode=display\">\\newcommand{\\Bold}[1]{\\mathbf{#1}}\\text{Parameters of a distance-regular graph with intersection array } \\left\\{21, 10, 3; 1, 6, 15\\right\\}</script></html>"
      ],
      "text/plain": [
       "Parameters of a distance-regular graph with intersection array {21, 10, 3; 1, 6, 15}"
      ]
     },
     "execution_count": 15,
     "metadata": {},
     "output_type": "execute_result"
    }
   ],
   "source": [
    "show(q7.is_bipartite())\n",
    "q7.bipartiteHalf()"
   ]
  },
  {
   "cell_type": "markdown",
   "metadata": {},
   "source": [
    "In some cases, distance-regularity of the local graph can be established (for instance, for tight graphs). In these cases, the parameters of the local graph can then be obtained with the `localGraph` method."
   ]
  },
  {
   "cell_type": "code",
   "execution_count": 16,
   "metadata": {},
   "outputs": [
    {
     "data": {
      "text/html": [
       "<html><script type=\"math/tex; mode=display\">\\newcommand{\\Bold}[1]{\\mathbf{#1}}\\text{Parameters of a distance-regular graph with intersection array } \\left\\{16, 5; 1, 8\\right\\}</script></html>"
      ],
      "text/plain": [
       "Parameters of a distance-regular graph with intersection array {16, 5; 1, 8}"
      ]
     },
     "execution_count": 16,
     "metadata": {},
     "output_type": "execute_result"
    }
   ],
   "source": [
    "drg.DRGParameters([27, 10, 1], [1, 10, 27]).localGraph()"
   ]
  },
  {
   "cell_type": "markdown",
   "metadata": {},
   "source": [
    "Similarly, the distance-regularity of a subconstituent (i.e., a graph induced by vertices at a given distance from a vertex) can be established in certain cases. Their parameters can be obtained using the `subconstituent` method. Usually, distance-regularity is derived from triple intersection numbers (see below), which are not computed by default. To force this computation, the parameter `compute` can be set to `True`."
   ]
  },
  {
   "cell_type": "code",
   "execution_count": 17,
   "metadata": {},
   "outputs": [
    {
     "data": {
      "text/html": [
       "<html><script type=\"math/tex; mode=display\">\\newcommand{\\Bold}[1]{\\mathbf{#1}}\\text{Parameters of a distance-regular graph with intersection array } \\left\\{144, 125, 32, 1; 1, 8, 125, 144\\right\\}</script></html>"
      ],
      "text/plain": [
       "Parameters of a distance-regular graph with intersection array {144, 125, 32, 1; 1, 8, 125, 144}"
      ]
     },
     "execution_count": 17,
     "metadata": {},
     "output_type": "execute_result"
    }
   ],
   "source": [
    "drg.DRGParameters([204, 175, 48, 1], [1, 12, 175, 204]).subconstituent(2, compute=True)"
   ]
  },
  {
   "cell_type": "markdown",
   "metadata": {},
   "source": [
    "Note that calling `localGraph()` is equivalent to calling `subconstituent(1)`. The `localGraph` method also accepts the `compute` parameter.\n",
    "\n",
    "The complement of a strongly regular graph is also strongly regular. If the complement is connected, its parameters can be obtained with the `complementaryGraph` method."
   ]
  },
  {
   "cell_type": "code",
   "execution_count": 18,
   "metadata": {},
   "outputs": [
    {
     "data": {
      "text/html": [
       "<html><script type=\"math/tex; mode=display\">\\newcommand{\\Bold}[1]{\\mathbf{#1}}\\text{Parameters of a distance-regular graph with intersection array } \\left\\{6, 2; 1, 4\\right\\}</script></html>"
      ],
      "text/plain": [
       "Parameters of a distance-regular graph with intersection array {6, 2; 1, 4}"
      ]
     },
     "execution_count": 18,
     "metadata": {},
     "output_type": "execute_result"
    }
   ],
   "source": [
    "petersen.complementaryGraph()"
   ]
  },
  {
   "cell_type": "markdown",
   "metadata": {},
   "source": [
    "Sometimes, merging classes of the underlying association scheme yields a new distance-regular graph. Its parameters (or the parameters of a connected component if the resulting graph is disconnected) can be obtained with the `mergeClasses` method, which takes the indices of classes which will be merged into the first class of the new scheme (i.e., the distances in the original graph which will correspond to adjacency in the new graph)."
   ]
  },
  {
   "cell_type": "code",
   "execution_count": 19,
   "metadata": {},
   "outputs": [
    {
     "data": {
      "text/html": [
       "<html><script type=\"math/tex; mode=display\">\\newcommand{\\Bold}[1]{\\mathbf{#1}}\\text{Parameters of a distance-regular graph with intersection array } \\left\\{63, 30, 1; 1, 30, 63\\right\\}</script></html>"
      ],
      "text/plain": [
       "Parameters of a distance-regular graph with intersection array {63, 30, 1; 1, 30, 63}"
      ]
     },
     "execution_count": 19,
     "metadata": {},
     "output_type": "execute_result"
    }
   ],
   "source": [
    "q7.mergeClasses(2, 3, 6)"
   ]
  },
  {
   "cell_type": "markdown",
   "metadata": {},
   "source": [
    "Note that `mergeClasses(2)` gives the parameters of the bipartite half for bipartite graphs, and of the complement for non-antipodal strongly regular graphs.\n",
    "\n",
    "A dictionary mapping the merged indices to parameters of a new graphs for all possibilities can be obtained using the `distanceGraphs` method."
   ]
  },
  {
   "cell_type": "code",
   "execution_count": 20,
   "metadata": {},
   "outputs": [
    {
     "data": {
      "text/html": [
       "<html><script type=\"math/tex; mode=display\">\\newcommand{\\Bold}[1]{\\mathbf{#1}}\\left\\{{\\left(1, 2\\right) : \\text{Parameters of a distance-regular graph with intersection array } \\left\\{28, 15, 6, 1; 1, 6, 15, 28\\right\\}}, {\\left(1, 2, 3, 4, 5, 6\\right) : \\text{Parameters of a distance-regular graph with intersection array } \\left\\{126, 1; 1, 126\\right\\}}, {\\left(1, 3, 5\\right) : \\text{Parameters of a distance-regular graph with intersection array } \\left\\{63, 62, 1; 1, 62, 63\\right\\}}, {\\left(1, 3, 5, 7\\right) : \\text{Parameters of a distance-regular graph with intersection array } \\left\\{64, 63; 1, 64\\right\\}}, {\\left(1, 4, 5\\right) : \\text{Parameters of a distance-regular graph with intersection array } \\left\\{63, 32, 1; 1, 32, 63\\right\\}}, {\\left(1, 5\\right) : \\text{Parameters of a distance-regular graph with intersection array } \\left\\{28, 27, 16; 1, 12, 28\\right\\}}, {\\left(1, 7\\right) : \\text{Parameters of a distance-regular graph with intersection array } \\left\\{8, 7, 6, 5; 1, 2, 3, 8\\right\\}}, {\\left(2\\right) : \\text{Parameters of a distance-regular graph with intersection array } \\left\\{21, 10, 3; 1, 6, 15\\right\\}}, {\\left(2, 3, 6\\right) : \\text{Parameters of a distance-regular graph with intersection array } \\left\\{63, 30, 1; 1, 30, 63\\right\\}}, {\\left(2, 4, 6\\right) : \\text{Parameters of a distance-regular graph with intersection array } \\left\\{63; 1\\right\\}}, {\\left(2, 6\\right) : \\text{Parameters of a distance-regular graph with intersection array } \\left\\{28, 15; 1, 12\\right\\}}, {\\left(3, 7\\right) : \\text{Parameters of a distance-regular graph with intersection array } \\left\\{36, 35, 16; 1, 20, 36\\right\\}}, {\\left(4\\right) : \\text{Parameters of a distance-regular graph with intersection array } \\left\\{35, 16; 1, 20\\right\\}}, {\\left(6\\right) : \\text{Parameters of a distance-regular graph with intersection array } \\left\\{7, 6, 5; 1, 2, 3\\right\\}}, {\\left(7\\right) : \\text{Parameters of a distance-regular graph with intersection array } \\left\\{1; 1\\right\\}}\\right\\}</script></html>"
      ],
      "text/plain": [
       "{(1,\n",
       "  2): Parameters of a distance-regular graph with intersection array {28, 15, 6, 1; 1, 6, 15, 28},\n",
       " (1,\n",
       "  2,\n",
       "  3,\n",
       "  4,\n",
       "  5,\n",
       "  6): Parameters of a distance-regular graph with intersection array {126, 1; 1, 126},\n",
       " (1,\n",
       "  3,\n",
       "  5): Parameters of a distance-regular graph with intersection array {63, 62, 1; 1, 62, 63},\n",
       " (1,\n",
       "  3,\n",
       "  5,\n",
       "  7): Parameters of a distance-regular graph with intersection array {64, 63; 1, 64},\n",
       " (1,\n",
       "  4,\n",
       "  5): Parameters of a distance-regular graph with intersection array {63, 32, 1; 1, 32, 63},\n",
       " (1,\n",
       "  5): Parameters of a distance-regular graph with intersection array {28, 27, 16; 1, 12, 28},\n",
       " (1,\n",
       "  7): Parameters of a distance-regular graph with intersection array {8, 7, 6, 5; 1, 2, 3, 8},\n",
       " (2,): Parameters of a distance-regular graph with intersection array {21, 10, 3; 1, 6, 15},\n",
       " (2,\n",
       "  3,\n",
       "  6): Parameters of a distance-regular graph with intersection array {63, 30, 1; 1, 30, 63},\n",
       " (2,\n",
       "  4,\n",
       "  6): Parameters of a distance-regular graph with intersection array {63; 1},\n",
       " (2,\n",
       "  6): Parameters of a distance-regular graph with intersection array {28, 15; 1, 12},\n",
       " (3,\n",
       "  7): Parameters of a distance-regular graph with intersection array {36, 35, 16; 1, 20, 36},\n",
       " (4,): Parameters of a distance-regular graph with intersection array {35, 16; 1, 20},\n",
       " (6,): Parameters of a distance-regular graph with intersection array {7, 6, 5; 1, 2, 3},\n",
       " (7,): Parameters of a distance-regular graph with intersection array {1; 1}}"
      ]
     },
     "execution_count": 20,
     "metadata": {},
     "output_type": "execute_result"
    }
   ],
   "source": [
    "q7.distanceGraphs()"
   ]
  },
  {
   "cell_type": "markdown",
   "metadata": {},
   "source": [
    "# Feasibility checking\n",
    "\n",
    "To check whether a given parameter set is feasible, the `check_feasible` method may be called. This method calls other `check_*` methods which perform the actual checks. Selected checks may also be skipped by providing a parameter skip with a list of strings identifying checks to be skipped.\n",
    "\n",
    "The following checks are available (see article for a detailed description):\n",
    "\n",
    "* `sporadic`: sporadic nonexistence results,\n",
    "* `family`: nonexistence results for families of intersection arrays,\n",
    "* `2graph`: checks related to $2$-graphs and Taylor graphs,\n",
    "* `classical`: nonexistence results for families of intersection arrays with classical parameters,\n",
    "* `combinatorial`: conditions derived from combinatorial arguments,\n",
    "* `conference`: checks for conference graphs,\n",
    "* `geodeticEmbedding`: checks related to geodetic embeddings,\n",
    "* `2design`: checks related to $2$-designs,\n",
    "* `hadamard`: checks related to Hadamard matrices,\n",
    "* `antipodal`: checks related to antipodal covers,\n",
    "* `genPoly`: checks related to generalized polygons,\n",
    "* `clawBound`: claw bound check (Brouwer & Van Lint),\n",
    "* `terwilliger`: checks related to Terwilliger graphs,\n",
    "* `secondEigenvalue`: checks related to the second largest eigenvalue,\n",
    "* `localEigenvalue`: checks related to the eigenvalues of local graphs,\n",
    "* `absoluteBound`: absolute bound checking on eigenvalue multiplicities.\n",
    "\n",
    "After running all the checks described above, the `check_feasbile` method calls itself on all already derived graphs (antipodal quotient, bipartite half, complement, $2$-graph derivation where applicable), and then also on each parameter set for distance-regular graphs obtained by merging classes. To avoid repetitions, a list of checked intersection arrays is maintained. This step can be skipped by setting the derived parameter to `False`.\n",
    "\n",
    "If the parameter set is feasible (i.e., it passes all checks), then `check_feasible` returns without error. Otherwise, a `drg.InfeasibleError` exception is thrown indicating the reason for nonexistence and providing a reference."
   ]
  },
  {
   "cell_type": "code",
   "execution_count": 21,
   "metadata": {},
   "outputs": [
    {
     "ename": "InfeasibleError",
     "evalue": "complement: nonexistence by GavrilyukMakhnev05",
     "output_type": "error",
     "traceback": [
      "\u001b[0;31m---------------------------------------------------------------------------\u001b[0m",
      "\u001b[0;31mInfeasibleError\u001b[0m                           Traceback (most recent call last)",
      "\u001b[0;32m<ipython-input-21-cbb835cbd7bf>\u001b[0m in \u001b[0;36m<module>\u001b[0;34m()\u001b[0m\n\u001b[0;32m----> 1\u001b[0;31m \u001b[0mdrg\u001b[0m\u001b[0;34m.\u001b[0m\u001b[0mDRGParameters\u001b[0m\u001b[0;34m(\u001b[0m\u001b[0mInteger\u001b[0m\u001b[0;34m(\u001b[0m\u001b[0;36m266\u001b[0m\u001b[0;34m)\u001b[0m\u001b[0;34m,\u001b[0m \u001b[0mInteger\u001b[0m\u001b[0;34m(\u001b[0m\u001b[0;36m220\u001b[0m\u001b[0;34m)\u001b[0m\u001b[0;34m,\u001b[0m \u001b[0mInteger\u001b[0m\u001b[0;34m(\u001b[0m\u001b[0;36m210\u001b[0m\u001b[0;34m)\u001b[0m\u001b[0;34m)\u001b[0m\u001b[0;34m.\u001b[0m\u001b[0mcheck_feasible\u001b[0m\u001b[0;34m(\u001b[0m\u001b[0;34m)\u001b[0m\u001b[0;34m\u001b[0m\u001b[0m\n\u001b[0m",
      "\u001b[0;32m/home/janos/repos/git/sage-drg/jupyter/drg/assoc_scheme.pyc\u001b[0m in \u001b[0;36mcheck_feasible\u001b[0;34m(self, checked, skip, derived, levels, queue, part)\u001b[0m\n\u001b[1;32m    806\u001b[0m                                        levels=levels, queue=queue, part=pt)\n\u001b[1;32m    807\u001b[0m                 \u001b[0;32mexcept\u001b[0m \u001b[0;34m(\u001b[0m\u001b[0mInfeasibleError\u001b[0m\u001b[0;34m,\u001b[0m \u001b[0mAssertionError\u001b[0m\u001b[0;34m)\u001b[0m \u001b[0;32mas\u001b[0m \u001b[0mex\u001b[0m\u001b[0;34m:\u001b[0m\u001b[0;34m\u001b[0m\u001b[0m\n\u001b[0;32m--> 808\u001b[0;31m                     \u001b[0;32mraise\u001b[0m \u001b[0mInfeasibleError\u001b[0m\u001b[0;34m(\u001b[0m\u001b[0mex\u001b[0m\u001b[0;34m,\u001b[0m \u001b[0mpart\u001b[0m\u001b[0;34m=\u001b[0m\u001b[0mpt\u001b[0m\u001b[0;34m)\u001b[0m\u001b[0;34m\u001b[0m\u001b[0m\n\u001b[0m\u001b[1;32m    809\u001b[0m                 \u001b[0mi\u001b[0m \u001b[0;34m+=\u001b[0m \u001b[0;36m1\u001b[0m\u001b[0;34m\u001b[0m\u001b[0m\n\u001b[1;32m    810\u001b[0m \u001b[0;34m\u001b[0m\u001b[0m\n",
      "\u001b[0;31mInfeasibleError\u001b[0m: complement: nonexistence by GavrilyukMakhnev05"
     ]
    }
   ],
   "source": [
    "drg.DRGParameters(266, 220, 210).check_feasible()"
   ]
  },
  {
   "cell_type": "markdown",
   "metadata": {},
   "source": [
    "Details on the given references are available in the `drg.refs` dictionary."
   ]
  },
  {
   "cell_type": "code",
   "execution_count": 22,
   "metadata": {},
   "outputs": [
    {
     "data": {
      "text/plain": [
       "{'author': [('Gavrilyuk', ('Alexander', 'L.')),\n",
       "  ('Makhnev', ('Alexander', 'Alexeevich'))],\n",
       " 'fjournal': 'Doklady Mathematics',\n",
       " 'journal': 'Dokl. Math.',\n",
       " 'number': 1,\n",
       " 'pages': (591, 594),\n",
       " 'title': 'Krein graphs without triangles',\n",
       " 'volume': 72,\n",
       " 'year': 2005}"
      ]
     },
     "execution_count": 22,
     "metadata": {},
     "output_type": "execute_result"
    }
   ],
   "source": [
    "%display plain\n",
    "drg.refs[\"GavrilyukMakhnev05\"].fields"
   ]
  },
  {
   "cell_type": "markdown",
   "metadata": {},
   "source": [
    "Details on the nonexistence may also be extracted from the exception."
   ]
  },
  {
   "cell_type": "code",
   "execution_count": 23,
   "metadata": {},
   "outputs": [
    {
     "name": "stdout",
     "output_type": "stream",
     "text": [
      "Part: ()\n",
      "Reason : coclique bound exceeded\n",
      "Authors : Jack H. Koolen and Jongyook Park\n",
      "Title : Shilla distance-regular graphs\n",
      "Theorem : Thm. 3.\n"
     ]
    }
   ],
   "source": [
    "try:\n",
    "    drg.DRGParameters([65, 44, 11], [1, 4, 55]).check_feasible()\n",
    "except drg.InfeasibleError as ex:\n",
    "    print(\"Part: %s\" % (ex.part, ))\n",
    "    print(\"Reason : %s\" % ex. reason)\n",
    "    for ref, thm in ex.refs:\n",
    "        print(\"Authors : %s\" % ref[\"author\"])\n",
    "        print(\"Title : %s\" % ref[\"title\"])\n",
    "        print(\"Theorem : %s\" % thm)"
   ]
  },
  {
   "cell_type": "markdown",
   "metadata": {},
   "source": [
    "# Partitions and triple intersection numbers\n",
    "\n",
    "For a given parameter set, the distance partition corresponding to a vertex can be obtained with the `distancePartition` method, which returns a graph representing the distance partition."
   ]
  },
  {
   "cell_type": "code",
   "execution_count": 24,
   "metadata": {},
   "outputs": [
    {
     "data": {
      "image/png": "[encoded data removed]",
      "text/plain": [
       "Distance partition of {5, 4, 2; 1, 1, 4}"
      ]
     },
     "execution_count": 24,
     "metadata": {},
     "output_type": "execute_result"
    }
   ],
   "source": [
    "syl.distancePartition()"
   ]
  },
  {
   "cell_type": "markdown",
   "metadata": {},
   "source": [
    "A distance partition corresponding to two vertices can be obtained by passing the distance between them as an argument to `distancePartition`."
   ]
  },
  {
   "cell_type": "code",
   "execution_count": 25,
   "metadata": {},
   "outputs": [
    {
     "data": {
      "image/png": "[encoded data removed]",
      "text/plain": [
       "1-distance partition of {5, 4, 2; 1, 1, 4}"
      ]
     },
     "execution_count": 25,
     "metadata": {},
     "output_type": "execute_result"
    }
   ],
   "source": [
    "syl.distancePartition(1)"
   ]
  },
  {
   "cell_type": "markdown",
   "metadata": {},
   "source": [
    "Note that edges are shown between any pair of cells such that their distances from either of the initial vertices differ by at most $1$. To show all the distance partitions corresponding to at most two vertices, the `show_distancePartitions` may be used (see below).\n",
    "\n",
    "For a given triple of distances $(U, V, W)$ such that $p^W_{UV} > 0$, the method `tripleEquations` gives the solution to the system of equations relating triple intersection numbers to the intersection numbers, augmented by equations derived from the Krein condition for each triple $(i, j, h)$ $(1 \\le i, j, h \\le d)$ such that $q^h_{ij} = 0$. The solution is\n",
    "returned as a `drg.Array3D` object."
   ]
  },
  {
   "cell_type": "code",
   "execution_count": 26,
   "metadata": {},
   "outputs": [
    {
     "data": {
      "text/html": [
       "<html><script type=\"math/tex; mode=display\">\\newcommand{\\Bold}[1]{\\mathbf{#1}}\\begin{aligned}0: &\\ \\left(\\begin{array}{rrrr}\n",
       "0 & 0 & 0 & 0 \\\\\n",
       "0 & 1 & 0 & 0 \\\\\n",
       "0 & 0 & 0 & 0 \\\\\n",
       "0 & 0 & 0 & 0\n",
       "\\end{array}\\right) \\\\\n",
       "1: &\\ \\left(\\begin{array}{rrrr}\n",
       "0 & 0 & 1 & 0 \\\\\n",
       "0 & 0 & 0 & 0 \\\\\n",
       "1 & 0 & 3 & 0 \\\\\n",
       "0 & 0 & 0 & 0\n",
       "\\end{array}\\right) \\\\\n",
       "2: &\\ \\left(\\begin{array}{rrrr}\n",
       "0 & 0 & 0 & 0 \\\\\n",
       "0 & 0 & 2 & 2 \\\\\n",
       "0 & 2 & 2 & 4 \\\\\n",
       "0 & 2 & 4 & 2\n",
       "\\end{array}\\right) \\\\\n",
       "3: &\\ \\left(\\begin{array}{rrrr}\n",
       "0 & 0 & 0 & 0 \\\\\n",
       "0 & 0 & 0 & 0 \\\\\n",
       "0 & 0 & 6 & 2 \\\\\n",
       "0 & 0 & 2 & 0\n",
       "\\end{array}\\right) \\\\\\end{aligned}</script></html>"
      ],
      "text/plain": [
       "0: [0 0 0 0]\n",
       "   [0 1 0 0]\n",
       "   [0 0 0 0]\n",
       "   [0 0 0 0]\n",
       "\n",
       "1: [0 0 1 0]\n",
       "   [0 0 0 0]\n",
       "   [1 0 3 0]\n",
       "   [0 0 0 0]\n",
       "\n",
       "2: [0 0 0 0]\n",
       "   [0 0 2 2]\n",
       "   [0 2 2 4]\n",
       "   [0 2 4 2]\n",
       "\n",
       "3: [0 0 0 0]\n",
       "   [0 0 0 0]\n",
       "   [0 0 6 2]\n",
       "   [0 0 2 0]"
      ]
     },
     "execution_count": 26,
     "metadata": {},
     "output_type": "execute_result"
    }
   ],
   "source": [
    "%display latex\n",
    "syl.tripleEquations(1, 1, 2)"
   ]
  },
  {
   "cell_type": "markdown",
   "metadata": {},
   "source": [
    "If the solution is not unique, one or more parameters will be present in the solution."
   ]
  },
  {
   "cell_type": "code",
   "execution_count": 27,
   "metadata": {},
   "outputs": [
    {
     "data": {
      "text/html": [
       "<html><script type=\"math/tex; mode=display\">\\newcommand{\\Bold}[1]{\\mathbf{#1}}\\begin{aligned}0: &\\ \\left(\\begin{array}{rrrr}\n",
       "0 & 0 & 0 & 0 \\\\\n",
       "0 & 0 & 1 & 0 \\\\\n",
       "0 & 0 & 0 & 0 \\\\\n",
       "0 & 0 & 0 & 0\n",
       "\\end{array}\\right) \\\\\n",
       "1: &\\ \\left(\\begin{array}{rrrr}\n",
       "0 & 0 & 0 & 1 \\\\\n",
       "0 & 0 & 0 & 0 \\\\\n",
       "0 & 1 & 2 & 1 \\\\\n",
       "0 & 0 & 0 & 0\n",
       "\\end{array}\\right) \\\\\n",
       "2: &\\ \\left(\\begin{array}{rrrr}\n",
       "0 & 0 & 0 & 0 \\\\\n",
       "0 & 0 & 3 & 1 \\\\\n",
       "0 & -r_{2} + 4 & -r_{2} + 8 & 2 \\, r_{2} - 4 \\\\\n",
       "1 & r_{2} - 2 & r_{2} & -2 \\, r_{2} + 9\n",
       "\\end{array}\\right) \\\\\n",
       "3: &\\ \\left(\\begin{array}{rrrr}\n",
       "0 & 0 & 0 & 0 \\\\\n",
       "0 & 0 & 0 & 0 \\\\\n",
       "0 & r_{2} - 1 & r_{2} + 2 & -2 \\, r_{2} + 7 \\\\\n",
       "0 & -r_{2} + 3 & -r_{2} + 4 & 2 \\, r_{2} - 5\n",
       "\\end{array}\\right) \\\\\\end{aligned}</script></html>"
      ],
      "text/plain": [
       "0: [0 0 0 0]\n",
       "   [0 0 1 0]\n",
       "   [0 0 0 0]\n",
       "   [0 0 0 0]\n",
       "\n",
       "1: [0 0 0 1]\n",
       "   [0 0 0 0]\n",
       "   [0 1 2 1]\n",
       "   [0 0 0 0]\n",
       "\n",
       "2: [        0         0         0         0]\n",
       "   [        0         0         3         1]\n",
       "   [        0   -r2 + 4   -r2 + 8  2*r2 - 4]\n",
       "   [        1    r2 - 2        r2 -2*r2 + 9]\n",
       "\n",
       "3: [        0         0         0         0]\n",
       "   [        0         0         0         0]\n",
       "   [        0    r2 - 1    r2 + 2 -2*r2 + 7]\n",
       "   [        0   -r2 + 3   -r2 + 4  2*r2 - 5]"
      ]
     },
     "execution_count": 27,
     "metadata": {},
     "output_type": "execute_result"
    }
   ],
   "source": [
    "syl.tripleEquations(1, 2, 3)"
   ]
  },
  {
   "cell_type": "markdown",
   "metadata": {},
   "source": [
    "Parameters may also be set explicitly by passing a `params` argument with a dictionary mapping the name of the parameter to the triple of distances it represents."
   ]
  },
  {
   "cell_type": "code",
   "execution_count": 28,
   "metadata": {},
   "outputs": [
    {
     "data": {
      "text/html": [
       "<html><script type=\"math/tex; mode=display\">\\newcommand{\\Bold}[1]{\\mathbf{#1}}\\begin{aligned}0: &\\ \\left(\\begin{array}{rrrr}\n",
       "0 & 0 & 0 & 0 \\\\\n",
       "0 & 0 & 0 & 1 \\\\\n",
       "0 & 0 & 0 & 0 \\\\\n",
       "0 & 0 & 0 & 0\n",
       "\\end{array}\\right) \\\\\n",
       "1: &\\ \\left(\\begin{array}{rrrr}\n",
       "0 & 0 & 0 & 1 \\\\\n",
       "0 & 0 & 0 & 0 \\\\\n",
       "0 & 0 & 4 & 0 \\\\\n",
       "0 & 0 & 0 & 0\n",
       "\\end{array}\\right) \\\\\n",
       "2: &\\ \\left(\\begin{array}{rrrr}\n",
       "0 & 0 & 0 & 0 \\\\\n",
       "0 & 0 & 4 & 0 \\\\\n",
       "0 & -\\frac{1}{2} \\, \\alpha + 4 & -\\frac{1}{2} \\, \\alpha + 4 & \\alpha \\\\\n",
       "0 & \\frac{1}{2} \\, \\alpha & \\frac{1}{2} \\, \\alpha + 4 & -\\alpha + 4\n",
       "\\end{array}\\right) \\\\\n",
       "3: &\\ \\left(\\begin{array}{rrrr}\n",
       "0 & 0 & 0 & 0 \\\\\n",
       "0 & 0 & 0 & 0 \\\\\n",
       "0 & \\frac{1}{2} \\, \\alpha & \\frac{1}{2} \\, \\alpha + 4 & -\\alpha + 4 \\\\\n",
       "1 & -\\frac{1}{2} \\, \\alpha + 1 & -\\frac{1}{2} \\, \\alpha & \\alpha\n",
       "\\end{array}\\right) \\\\\\end{aligned}</script></html>"
      ],
      "text/plain": [
       "0: [0 0 0 0]\n",
       "   [0 0 0 1]\n",
       "   [0 0 0 0]\n",
       "   [0 0 0 0]\n",
       "\n",
       "1: [0 0 0 1]\n",
       "   [0 0 0 0]\n",
       "   [0 0 4 0]\n",
       "   [0 0 0 0]\n",
       "\n",
       "2: [             0              0              0              0]\n",
       "   [             0              0              4              0]\n",
       "   [             0 -1/2*alpha + 4 -1/2*alpha + 4          alpha]\n",
       "   [             0      1/2*alpha  1/2*alpha + 4     -alpha + 4]\n",
       "\n",
       "3: [             0              0              0              0]\n",
       "   [             0              0              0              0]\n",
       "   [             0      1/2*alpha  1/2*alpha + 4     -alpha + 4]\n",
       "   [             1 -1/2*alpha + 1     -1/2*alpha          alpha]"
      ]
     },
     "execution_count": 28,
     "metadata": {},
     "output_type": "execute_result"
    }
   ],
   "source": [
    "syl.tripleEquations(1, 3, 3, params={\"alpha\": (3, 3, 3)})"
   ]
  },
  {
   "cell_type": "markdown",
   "metadata": {},
   "source": [
    "If the appropriate triple intersection number is computed to be zero, an edge will not be shown in the distance partition."
   ]
  },
  {
   "cell_type": "code",
   "execution_count": 29,
   "metadata": {},
   "outputs": [
    {
     "data": {
      "image/png": "[encoded data removed]",
      "text/plain": [
       "Graphics object consisting of 8 graphics primitives"
      ]
     },
     "metadata": {},
     "output_type": "display_data"
    },
    {
     "data": {
      "image/png": "[encoded data removed]",
      "text/plain": [
       "Graphics object consisting of 22 graphics primitives"
      ]
     },
     "metadata": {},
     "output_type": "display_data"
    },
    {
     "data": {
      "image/png": "[encoded data removed]",
      "text/plain": [
       "Graphics object consisting of 34 graphics primitives"
      ]
     },
     "metadata": {},
     "output_type": "display_data"
    },
    {
     "data": {
      "image/png": "[encoded data removed]",
      "text/plain": [
       "Graphics object consisting of 28 graphics primitives"
      ]
     },
     "metadata": {},
     "output_type": "display_data"
    }
   ],
   "source": [
    "syl.show_distancePartitions()"
   ]
  }
 ],
 "metadata": {
  "celltoolbar": "Raw Cell Format",
  "kernelspec": {
   "display_name": "SageMath 8.9.beta2",
   "language": "sage",
   "name": "sagemath"
  },
  "language_info": {
   "codemirror_mode": {
    "name": "ipython",
    "version": 2
   },
   "file_extension": ".py",
   "mimetype": "text/x-python",
   "name": "python",
   "nbconvert_exporter": "python",
   "pygments_lexer": "ipython2",
   "version": "2.7.15"
  }
 },
 "nbformat": 4,
 "nbformat_minor": 2
}
