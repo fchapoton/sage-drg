{
 "cells": [
  {
   "cell_type": "markdown",
   "metadata": {},
   "source": [
    "# Nonexistence of a $Q$-polynomial association scheme with Krein array $\\{2r^2-1, 2r^2-2, r^2+1; 1, 2, r^2-1\\}$ and $r$ odd\n",
    "\n",
    "We will show that a $Q$-polynomial association scheme with Krein array $\\{2r^2-1, 2r^2-2, r^2+1; 1, 2, r^2-1\\}$ and $r$ odd does not exist. This Krein array is feasible for all $r \\ge 2$. For $r = 2^j$, this Krein array is realized by the duals of Kasami codes with minimum distance $5$."
   ]
  },
  {
   "cell_type": "code",
   "execution_count": 1,
   "metadata": {},
   "outputs": [],
   "source": [
    "import drg"
   ]
  },
  {
   "cell_type": "markdown",
   "metadata": {},
   "source": [
    "Such a scheme would have $4r^4$ vertices."
   ]
  },
  {
   "cell_type": "code",
   "execution_count": 2,
   "metadata": {},
   "outputs": [
    {
     "data": {
      "text/plain": [
       "4*r^4"
      ]
     },
     "execution_count": 2,
     "metadata": {},
     "output_type": "execute_result"
    }
   ],
   "source": [
    "r = var(\"r\")\n",
    "p = drg.QPolyParameters([2*r^2-1, 2*r^2-2, r^2+1], [1, 2, r^2-1])\n",
    "p.order(expand = True, factor = True)"
   ]
  },
  {
   "cell_type": "markdown",
   "metadata": {},
   "source": [
    "Since the scheme is $Q$-polynomial, we have $q^1_{13} = q^1_{31} = q^3_{11} = 0$. Additionally, we have $q^1_{11} = 0$."
   ]
  },
  {
   "cell_type": "code",
   "execution_count": 3,
   "metadata": {},
   "outputs": [
    {
     "data": {
      "text/plain": [
       "[0, 0, 0, 0]"
      ]
     },
     "execution_count": 3,
     "metadata": {},
     "output_type": "execute_result"
    }
   ],
   "source": [
    "[p.q[1, 1, 1], p.q[1, 1, 3], p.q[1, 3, 1], p.q[3, 1, 1]]"
   ]
  },
  {
   "cell_type": "markdown",
   "metadata": {},
   "source": [
    "The intersection numbers can be checked to be nonnegative and integral for both even and odd values of $r \\ge 2$."
   ]
  },
  {
   "cell_type": "code",
   "execution_count": 4,
   "metadata": {},
   "outputs": [
    {
     "data": {
      "text/plain": [
       "0: [                        1                         0                         0                         0]\n",
       "   [                        0 1/2*(2*r^2 - 1)*(r + 1)*r                         0                         0]\n",
       "   [                        0                         0     (2*r^2 - 1)*(r^2 + 1)                         0]\n",
       "   [                        0                         0                         0 1/2*(2*r^2 - 1)*(r - 1)*r]\n",
       "\n",
       "1: [                            0                             1                             0                             0]\n",
       "   [                            1 1/4*(r + 3)*(r + 2)*(r - 1)*r 1/2*(r^2 + 1)*(r + 2)*(r - 1) 1/4*(r + 1)*(r - 1)*(r - 2)*r]\n",
       "   [                            0 1/2*(r^2 + 1)*(r + 2)*(r - 1)                 (r^2 + 1)*r^2       1/2*(r^2 + 1)*(r - 1)*r]\n",
       "   [                            0 1/4*(r + 1)*(r - 1)*(r - 2)*r       1/2*(r^2 + 1)*(r - 1)*r       1/4*(r + 2)*(r - 1)^2*r]\n",
       "\n",
       "2: [                            0                             0                             1                             0]\n",
       "   [                            0 1/4*(r + 2)*(r + 1)*(r - 1)*r               1/2*(r + 1)*r^3       1/4*(r + 1)*(r - 1)*r^2]\n",
       "   [                            1               1/2*(r + 1)*r^3     (r^2 + 2)*(r + 1)*(r - 1)               1/2*(r - 1)*r^3]\n",
       "   [                            0       1/4*(r + 1)*(r - 1)*r^2               1/2*(r - 1)*r^3 1/4*(r + 1)*(r - 1)*(r - 2)*r]\n",
       "\n",
       "3: [                            0                             0                             0                             1]\n",
       "   [                            0       1/4*(r + 1)^2*(r - 2)*r       1/2*(r^2 + 1)*(r + 1)*r 1/4*(r + 2)*(r + 1)*(r - 1)*r]\n",
       "   [                            0       1/2*(r^2 + 1)*(r + 1)*r                 (r^2 + 1)*r^2 1/2*(r^2 + 1)*(r + 1)*(r - 2)]\n",
       "   [                            1 1/4*(r + 2)*(r + 1)*(r - 1)*r 1/2*(r^2 + 1)*(r + 1)*(r - 2) 1/4*(r + 1)*(r - 2)*(r - 3)*r]"
      ]
     },
     "execution_count": 4,
     "metadata": {},
     "output_type": "execute_result"
    }
   ],
   "source": [
    "p.pTable(factor = True, simplify = True)"
   ]
  },
  {
   "cell_type": "markdown",
   "metadata": {},
   "source": [
    "We now compute the triple intersection numbers with respect to three vertices $x, y, z$ such that $x$ is in relation $1$ with $y$ and $z$, and $y$ is in relation $2$ with $z$. Note that we have $p^2_{11} = r(r+2)(r^2-1)/4 > 0$ for all $r \\ge 2$, so such triples must exist. The parameters $a, b, c, d$ will denote the number of vertices in relations $(1, 3, 1), (2, 3, 3), (3, 1, 1), (3, 3, 3)$, respectively, to $x, y, z$."
   ]
  },
  {
   "cell_type": "code",
   "execution_count": 5,
   "metadata": {},
   "outputs": [
    {
     "data": {
      "text/plain": [
       "-1/2*r^4 + 2*r^2 + a + 3*b - c + 4*d"
      ]
     },
     "execution_count": 5,
     "metadata": {},
     "output_type": "execute_result"
    }
   ],
   "source": [
    "S112 = p.tripleEquations(1, 1, 2, params={'a': (1, 3, 1), 'b': (2, 3, 3), 'c': (3, 1, 1), 'd': (3, 3, 3)})\n",
    "S112[1, 2, 3]"
   ]
  },
  {
   "cell_type": "markdown",
   "metadata": {},
   "source": [
    "We see that the above triple intersection number can only be integral when $r$ is even. We thus conclude that a $Q$-polynomial association scheme with Krein array $\\{2r^2-1, 2r^2-2, r^2+1; 1, 2, r^2-1\\}$ and $r$ odd **does not exist**."
   ]
  }
 ],
 "metadata": {
  "kernelspec": {
   "display_name": "SageMath 8.2.beta8",
   "language": "",
   "name": "sagemath"
  },
  "language_info": {
   "codemirror_mode": {
    "name": "ipython",
    "version": 2
   },
   "file_extension": ".py",
   "mimetype": "text/x-python",
   "name": "python",
   "nbconvert_exporter": "python",
   "pygments_lexer": "ipython2",
   "version": "2.7.14"
  }
 },
 "nbformat": 4,
 "nbformat_minor": 2
}
