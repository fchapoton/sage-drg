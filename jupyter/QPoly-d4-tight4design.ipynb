{
 "cells": [
  {
   "cell_type": "markdown",
   "metadata": {},
   "source": [
    "# Nonexistence of a $Q$-polynomial association scheme with Krein array $\\{9a^2 - 4, 9a^2 - 9, 10, 1; 1, 2, 9a^2 - 9, 9a^2 - 4\\}$ and $a > 3$\n",
    "\n",
    "Let $Y$ be a tight $4$-design in the Hamming scheme $H(n, q)$ (i.e., an orthogonal array of strength $4$ meeting the Rao bound). [Noda](https://londmathsoc.onlinelibrary.wiley.com/doi/abs/10.1112/jlms/s2-19.3.385) proved that then one of the following holds:\n",
    "1. $(|Y|, n, q) = (16, 5, 2)$,\n",
    "2. $(|Y|, n, q) = (243, 11, 3)$, or\n",
    "3. $(|Y|, n, q) = (9a^2 (9a^2-1)/2, (9a^2+1)/5, 6)$, where $a \\equiv 21, 69 \\pmod{240}$.\n",
    "\n",
    "Cases 1 and 2 uniquely determine a binary code with $4$ data bits and one parity bit, and the ternary Golay code, respectively. No examples are known for Case 3.\n",
    "\n",
    "Suda has shown that a $Q$-polynomial association scheme with $d = 4$ classes and Krein array $\\{9a^2 - 4, 9a^2 - 9, 10, 1; 1, 2, 9a^2 - 9, 9a^2 - 4\\}$ would arise from an example of Case 3. Here, we show that no corresponding schemes exist, and consequently also no example of Case 3 exists. Note however that we will consider all positive integral values of $a$."
   ]
  },
  {
   "cell_type": "code",
   "execution_count": 1,
   "metadata": {},
   "outputs": [],
   "source": [
    "import drg"
   ]
  },
  {
   "cell_type": "markdown",
   "metadata": {},
   "source": [
    "Such a scheme would have $9a^2 (9a^2 - 1)/2$ vertices."
   ]
  },
  {
   "cell_type": "code",
   "execution_count": 2,
   "metadata": {},
   "outputs": [
    {
     "data": {
      "text/plain": [
       "9/2*(3*a + 1)*(3*a - 1)*a^2"
      ]
     },
     "execution_count": 2,
     "metadata": {},
     "output_type": "execute_result"
    }
   ],
   "source": [
    "a = var(\"a\")\n",
    "p = drg.QPolyParameters([9*a^2 - 4, 9*a^2 - 9, 10, 1], [1, 2, 9*a^2 - 9, 9*a^2 - 4])\n",
    "p.order(factor = True, simplify = True)"
   ]
  },
  {
   "cell_type": "markdown",
   "metadata": {},
   "source": [
    "This scheme is $Q$-antipodal, so it has $q^h_{ij} = 0$ whenever $h, i, j$ do not satisfy the triangle inequality, or $h+i+j > 2d$ and $d-h, d-i, d-j$ do not satisfy the triangle inequality."
   ]
  },
  {
   "cell_type": "code",
   "execution_count": 3,
   "metadata": {},
   "outputs": [
    {
     "data": {
      "text/plain": [
       "0: [                                      1                                       0                                       0                                       0                                       0]\n",
       "   [                                      0                     (3*a + 2)*(3*a - 2)                                       0                                       0                                       0]\n",
       "   [                                      0                                       0 9/2*(3*a + 2)*(3*a - 2)*(a + 1)*(a - 1)                                       0                                       0]\n",
       "   [                                      0                                       0                                       0                   5*(3*a + 2)*(3*a - 2)                                       0]\n",
       "   [                                      0                                       0                                       0                                       0                                       5]\n",
       "\n",
       "1: [                                                                                                                                                                                                 0                                                                                                                                                                                                  1                                                                                                                                                                                                  0                                                                                                                                                                                                  0                                                                                                                                                                                                  0]\n",
       "   [                                                                                                                                                                                                 1                                                                                                                                                                                                  4                                                                                                                                                                                  9*(a + 1)*(a - 1)                                                                                                                                                                                                  0                                                                                                                                                                                                  0]\n",
       "   [                                                                                                                                                                                                 0                                                                                                                                                                                  9*(a + 1)*(a - 1)                                                                                                                                                            9/2*(3*a + 4)*(3*a - 4)*(a + 1)*(a - 1)                                                                                                                                                                                 45*(a + 1)*(a - 1)                                                                                                                                                                                                  0]\n",
       "   [                                                                                                                                                                                                 0                                                                                                                                                                                                  0                                                                                                                                                                                 45*(a + 1)*(a - 1)                                                                                                                                                                                                 20                                                                                                                                                                                                  5]\n",
       "   [                                                                                                                                                                                                 0                                                                                                                                                                                                  0 405*a^6/((9*a^2 - 4)*(a^2 - 1)) - 405*a^4/(9*a^2 - 4) - 1530*a^4/((9*a^2 - 4)*(a^2 - 1)) + 1125*a^2/(9*a^2 - 4) + 1845*a^2/((9*a^2 - 4)*(a^2 - 1)) - 720/(9*a^2 - 4) - 720/((9*a^2 - 4)*(a^2 - 1))                                                                                                                                                                                                  5                                                                                                                                                                                                  0]\n",
       "\n",
       "2: [                                                                              0                                                                               0                                                                               1                                                                               0                                                                               0]\n",
       "   [                                                                              0                                                                               2                                                             (3*a + 4)*(3*a - 4)                                                                              10                                                                               0]\n",
       "   [                                                                              1                                                             (3*a + 4)*(3*a - 4)                                                      81/2*a^4 - 225/2*a^2 + 108                                                           5*(3*a + 4)*(3*a - 4)                                                                               5]\n",
       "   [                                                                              0                                                                              10                                                           5*(3*a + 4)*(3*a - 4)                                                                              50                                                                               0]\n",
       "   [                                                                              0    40*a^2/((9*a^2 - 4)*(a^2 - 1)) - 40/(9*a^2 - 4) - 40/((9*a^2 - 4)*(a^2 - 1))                                                                               5 200*a^2/((9*a^2 - 4)*(a^2 - 1)) - 200/(9*a^2 - 4) - 200/((9*a^2 - 4)*(a^2 - 1))                                                                               0]\n",
       "\n",
       "3: [                                                                                                                                                                                                 0                                                                                                                                                                                                  0                                                                                                                                                                                                  0                                                                                                                                                                                                  1                                                                                                                                                                                                  0]\n",
       "   [                                                                                                                                                                                                 0                                                                                                                                                                                                  0                                                                                                                                                                                  9*(a + 1)*(a - 1)                                                                                                                                                                                                  4                                                                                                                                                                                                  1]\n",
       "   [                                                                                                                                                                                                 0                                                                                                                                                                                  9*(a + 1)*(a - 1)                                                                                                                                                            9/2*(3*a + 4)*(3*a - 4)*(a + 1)*(a - 1)                                                                                                                                                                                 45*(a + 1)*(a - 1)                                                                                                                                                                                                  0]\n",
       "   [                                                                                                                                                                                                 1                                                                                                                                                                                                  4                                                                                                                                                                                 45*(a + 1)*(a - 1)                                                                                                                                                                                                 16                                                                                                                                                                                                  4]\n",
       "   [                                                                                                                                                                                                 0                                                                                                                                                                                                  1 405*a^6/((9*a^2 - 4)*(a^2 - 1)) - 405*a^4/(9*a^2 - 4) - 1530*a^4/((9*a^2 - 4)*(a^2 - 1)) + 1125*a^2/(9*a^2 - 4) + 1845*a^2/((9*a^2 - 4)*(a^2 - 1)) - 720/(9*a^2 - 4) - 720/((9*a^2 - 4)*(a^2 - 1))                                                                                                                                                                                                  4                                                                                                                                                                                                  0]\n",
       "\n",
       "4: [                                                                                                                                                                                              0                                                                                                                                                                                               0                                                                                                                                                                                               0                                                                                                                                                                                               0                                                                                                                                                                                               1]\n",
       "   [                                                                                                                                                                                              0                                                                                                                                                                                               0                                                                                                                                                                                               0                                                                                                                                                                             (3*a + 2)*(3*a - 2)                                                                                                                                                                                               0]\n",
       "   [                                                                                                                                                                                              0                                                                                                                                                                                               0                                                                                                                                                         9/2*(3*a + 2)*(3*a - 2)*(a + 1)*(a - 1)                                                                                                                                                                                               0                                                                                                                                                                                               0]\n",
       "   [                                                                                                                                                                                              0                                                                                                                                                                             (3*a + 2)*(3*a - 2)                                                                                                                                                                                               0                                                                                                                                                                           4*(3*a + 2)*(3*a - 2)                                                                                                                                                                                               0]\n",
       "   [                                                                                                                                                                                              1                                                              36*a^4/((9*a^2 - 4)*(a^2 - 1)) - 36*a^2/(9*a^2 - 4) - 52*a^2/((9*a^2 - 4)*(a^2 - 1)) + 16/(9*a^2 - 4) + 16/((9*a^2 - 4)*(a^2 - 1)) 405*a^6/((9*a^2 - 4)*(a^2 - 1)) - 405*a^4/(9*a^2 - 4) - 990*a^4/((9*a^2 - 4)*(a^2 - 1)) + 585*a^2/(9*a^2 - 4) + 765*a^2/((9*a^2 - 4)*(a^2 - 1)) - 180/(9*a^2 - 4) - 180/((9*a^2 - 4)*(a^2 - 1))                                                           144*a^4/((9*a^2 - 4)*(a^2 - 1)) - 144*a^2/(9*a^2 - 4) - 208*a^2/((9*a^2 - 4)*(a^2 - 1)) + 64/(9*a^2 - 4) + 64/((9*a^2 - 4)*(a^2 - 1))                                                                                                                                                                                               4]"
      ]
     },
     "execution_count": 3,
     "metadata": {},
     "output_type": "execute_result"
    }
   ],
   "source": [
    "p.kreinParameters(factor = True, simplify = True)"
   ]
  },
  {
   "cell_type": "markdown",
   "metadata": {},
   "source": [
    "The intersection numbers can be checked to be nonnegative and integral for odd values of $a \\ge 3$."
   ]
  },
  {
   "cell_type": "code",
   "execution_count": 4,
   "metadata": {},
   "outputs": [
    {
     "data": {
      "text/plain": [
       "0: [                                        1                                         0                                         0                                         0                                         0]\n",
       "   [                                        0       5/8*(3*a + 1)*(3*a - 1)*(3*a - 2)*a                                         0                                         0                                         0]\n",
       "   [                                        0                                         0 1/8*(3*a + 2)*(3*a + 1)*(3*a - 2)*(a + 1)                                         0                                         0]\n",
       "   [                                        0                                         0                                         0       5/8*(3*a + 2)*(3*a + 1)*(3*a - 1)*a                                         0]\n",
       "   [                                        0                                         0                                         0                                         0 1/8*(3*a + 2)*(3*a - 1)*(3*a - 2)*(a - 1)]\n",
       "\n",
       "1: [                                         0                                          1                                          0                                          0                                          0]\n",
       "   [                                         1  1/4*(3*a^2 - 3*a + 2)*(3*a + 1)*(3*a - 1)   3/16*(3*a + 2)*(3*a + 1)*(a + 1)*(a - 1)  1/4*(3*a + 2)*(3*a + 1)*(3*a - 1)*(a - 1) 1/16*(3*a + 2)*(3*a - 1)*(3*a - 5)*(a - 1)]\n",
       "   [                                         0   3/16*(3*a + 2)*(3*a + 1)*(a + 1)*(a - 1)                                          0 1/16*(3*a + 2)*(3*a + 1)*(3*a - 1)*(a + 1)                                          0]\n",
       "   [                                         0  1/4*(3*a + 2)*(3*a + 1)*(3*a - 1)*(a - 1) 1/16*(3*a + 2)*(3*a + 1)*(3*a - 1)*(a + 1)  1/4*(3*a + 2)*(3*a + 1)*(3*a - 1)*(a + 1) 1/16*(3*a + 2)*(3*a + 1)*(3*a - 1)*(a - 1)]\n",
       "   [                                         0 1/16*(3*a + 2)*(3*a - 1)*(3*a - 5)*(a - 1)                                          0 1/16*(3*a + 2)*(3*a + 1)*(3*a - 1)*(a - 1)                                          0]\n",
       "\n",
       "2: [                                         0                                          0                                          1                                          0                                          0]\n",
       "   [                                         0        15/16*(3*a + 1)*(3*a - 1)*(a - 1)*a                                          0               5/16*(3*a + 1)*(3*a - 1)^2*a                                          0]\n",
       "   [                                         1                                          0 1/16*(3*a^2 + 3*a - 4)*(3*a + 5)*(3*a + 1)                                          0         1/16*(3*a + 4)*(3*a - 1)^2*(a - 1)]\n",
       "   [                                         0               5/16*(3*a + 1)*(3*a - 1)^2*a                                          0       5/16*(3*a + 5)*(3*a + 1)*(3*a - 1)*a                                          0]\n",
       "   [                                         0                                          0         1/16*(3*a + 4)*(3*a - 1)^2*(a - 1)                                          0 1/16*(3*a + 1)*(3*a - 1)*(3*a - 4)*(a - 1)]\n",
       "\n",
       "3: [                                         0                                          0                                          0                                          1                                          0]\n",
       "   [                                         0  1/4*(3*a + 1)*(3*a - 1)*(3*a - 2)*(a - 1) 1/16*(3*a + 1)*(3*a - 1)*(3*a - 2)*(a + 1)  1/4*(3*a + 1)*(3*a - 1)*(3*a - 2)*(a + 1) 1/16*(3*a + 1)*(3*a - 1)*(3*a - 2)*(a - 1)]\n",
       "   [                                         0 1/16*(3*a + 1)*(3*a - 1)*(3*a - 2)*(a + 1)                                          0 1/16*(3*a + 5)*(3*a + 1)*(3*a - 2)*(a + 1)                                          0]\n",
       "   [                                         1  1/4*(3*a + 1)*(3*a - 1)*(3*a - 2)*(a + 1) 1/16*(3*a + 5)*(3*a + 1)*(3*a - 2)*(a + 1)  1/4*(3*a^2 + 3*a + 2)*(3*a + 1)*(3*a - 1)   3/16*(3*a - 1)*(3*a - 2)*(a + 1)*(a - 1)]\n",
       "   [                                         0 1/16*(3*a + 1)*(3*a - 1)*(3*a - 2)*(a - 1)                                          0   3/16*(3*a - 1)*(3*a - 2)*(a + 1)*(a - 1)                                          0]\n",
       "\n",
       "4: [                                         0                                          0                                          0                                          0                                          1]\n",
       "   [                                         0       5/16*(3*a + 1)*(3*a - 1)*(3*a - 5)*a                                          0               5/16*(3*a + 1)^2*(3*a - 1)*a                                          0]\n",
       "   [                                         0                                          0 1/16*(3*a + 4)*(3*a + 1)*(3*a - 1)*(a + 1)                                          0         1/16*(3*a + 1)^2*(3*a - 4)*(a + 1)]\n",
       "   [                                         0               5/16*(3*a + 1)^2*(3*a - 1)*a                                          0        15/16*(3*a + 1)*(3*a - 1)*(a + 1)*a                                          0]\n",
       "   [                                         1                                          0         1/16*(3*a + 1)^2*(3*a - 4)*(a + 1)                                          0 1/16*(3*a^2 - 3*a - 4)*(3*a - 1)*(3*a - 5)]"
      ]
     },
     "execution_count": 4,
     "metadata": {},
     "output_type": "execute_result"
    }
   ],
   "source": [
    "p.pTable(factor = True, simplify = True)"
   ]
  },
  {
   "cell_type": "markdown",
   "metadata": {},
   "source": [
    "We now compute the triple intersection numbers with respect to three vertices $x, y, z$ mutually in relation $1$. Note that we have $p^1_{11} = (3a^2 - 3a + 2)(9a^2 - 1)/4 > 0$ for all $a \\ge 3$, so such triples must exist. The parameter $b$ will denote the number of vertices in relations $1, 2, 3$ to $x, y, z$, respectively."
   ]
  },
  {
   "cell_type": "code",
   "execution_count": 5,
   "metadata": {},
   "outputs": [
    {
     "data": {
      "text/plain": [
       "3/16*(27*a^5 + 6*a^3 - 18*a^2 - a*(16*b + 1) + 2)/a"
      ]
     },
     "execution_count": 5,
     "metadata": {},
     "output_type": "execute_result"
    }
   ],
   "source": [
    "S111 = p.tripleEquations(1, 1, 1, params={'b': (1, 2, 3)})\n",
    "S111[1, 1, 1]"
   ]
  },
  {
   "cell_type": "markdown",
   "metadata": {},
   "source": [
    "The above triple intersection number is integral for odd values of $a$ whenever $a - 4 + 3/a$ is divisible by $8$."
   ]
  },
  {
   "cell_type": "code",
   "execution_count": 6,
   "metadata": {},
   "outputs": [
    {
     "data": {
      "text/plain": [
       "81*x^4 + 162*x^3 + 126*x^2 - 3*b + 38*x + 3"
      ]
     },
     "execution_count": 6,
     "metadata": {},
     "output_type": "execute_result"
    }
   ],
   "source": [
    "(S111[1, 1, 1] - (a - 4 + 3/a)/8).subs(a == 2*x + 1).factor()"
   ]
  },
  {
   "cell_type": "markdown",
   "metadata": {},
   "source": [
    "For all odd $a > 3$, the above expression is nonintegral. We thus conclude that a $Q$-polynomial association scheme with Krein array $\\{9a^2 - 4, 9a^2 - 9, 10, 1; 1, 2, 9a^2 - 9, 9a^2 - 4\\}$ and $a > 3$ **does not exist**. Consequently, no tight $4$-design in $H((9a^2+1)/5, 6)$ exists, thus completing the classification of orthogonal arrays of strength $4$ meeting the Rao bound).\n",
    "\n",
    "The case $a = 3$ with Krein array $\\{77, 72, 10, 1; 1, 2, 72, 77\\}$ remains feasible. Such a scheme would have a strongly regular graph with parameters $(v, k, \\lambda, \\mu) = (540, 154, 28, 50)$ as a subscheme. This parameter set is feasible, however no example is known."
   ]
  }
 ],
 "metadata": {
  "kernelspec": {
   "display_name": "SageMath 8.2.beta8",
   "language": "",
   "name": "sagemath"
  },
  "language_info": {
   "codemirror_mode": {
    "name": "ipython",
    "version": 2
   },
   "file_extension": ".py",
   "mimetype": "text/x-python",
   "name": "python",
   "nbconvert_exporter": "python",
   "pygments_lexer": "ipython2",
   "version": "2.7.14"
  }
 },
 "nbformat": 4,
 "nbformat_minor": 2
}
