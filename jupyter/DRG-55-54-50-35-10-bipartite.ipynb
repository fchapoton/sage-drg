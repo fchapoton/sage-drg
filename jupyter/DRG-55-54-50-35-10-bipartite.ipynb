{
 "cells": [
  {
   "cell_type": "markdown",
   "metadata": {
    "deletable": true,
    "editable": true
   },
   "source": [
    "# Nonexistence of a distance-regular graph with intersection array $\\{55, 54, 50, 35, 10; 1, 5, 20, 45, 55\\}$\n",
    "\n",
    "We will show that a distance-regular graph with intersection array $\\{55, 54, 50, 35, 10; 1, 5, 20, 45, 55\\}$ does not exist. The existence of such a graph would give a counterexample to a conjecture by MacLean and Terwilliger, see [Bipartite distance-regular graphs: The $Q$-polynomial property and pseudo primitive idempotents](http://dx.doi.org/10.1016/j.disc.2014.04.025) by M. Lang."
   ]
  },
  {
   "cell_type": "code",
   "execution_count": 1,
   "metadata": {
    "collapsed": true,
    "deletable": true,
    "editable": true
   },
   "outputs": [],
   "source": [
    "import drg"
   ]
  },
  {
   "cell_type": "markdown",
   "metadata": {
    "deletable": true,
    "editable": true
   },
   "source": [
    "Such a graph would be bipartite with $3500$ vertices."
   ]
  },
  {
   "cell_type": "code",
   "execution_count": 2,
   "metadata": {
    "collapsed": false,
    "deletable": true,
    "editable": true,
    "scrolled": true
   },
   "outputs": [
    {
     "name": "stdout",
     "output_type": "stream",
     "text": [
      "True\n",
      "3500\n"
     ]
    }
   ],
   "source": [
    "p = drg.DRGParameters([55, 54, 50, 35, 10], [1, 5, 20, 45, 55])\n",
    "print(p.is_bipartite())\n",
    "print(p.order())"
   ]
  },
  {
   "cell_type": "markdown",
   "metadata": {
    "deletable": true,
    "editable": true
   },
   "source": [
    "We see that all intersection numbers are nonnegative integers."
   ]
  },
  {
   "cell_type": "code",
   "execution_count": 3,
   "metadata": {
    "collapsed": false,
    "deletable": true,
    "editable": true
   },
   "outputs": [
    {
     "data": {
      "text/plain": [
       "0: [   1    0    0    0    0    0]\n",
       "   [   0   55    0    0    0    0]\n",
       "   [   0    0  594    0    0    0]\n",
       "   [   0    0    0 1485    0    0]\n",
       "   [   0    0    0    0 1155    0]\n",
       "   [   0    0    0    0    0  210]\n",
       "\n",
       "1: [  0   1   0   0   0   0]\n",
       "   [  1   0  54   0   0   0]\n",
       "   [  0  54   0 540   0   0]\n",
       "   [  0   0 540   0 945   0]\n",
       "   [  0   0   0 945   0 210]\n",
       "   [  0   0   0   0 210   0]\n",
       "\n",
       "2: [   0    0    1    0    0    0]\n",
       "   [   0    5    0   50    0    0]\n",
       "   [   1    0  243    0  350    0]\n",
       "   [   0   50    0 1260    0  175]\n",
       "   [   0    0  350    0  805    0]\n",
       "   [   0    0    0  175    0   35]\n",
       "\n",
       "3: [  0   0   0   1   0   0]\n",
       "   [  0   0  20   0  35   0]\n",
       "   [  0  20   0 504   0  70]\n",
       "   [  1   0 504   0 980   0]\n",
       "   [  0  35   0 980   0 140]\n",
       "   [  0   0  70   0 140   0]\n",
       "\n",
       "4: [   0    0    0    0    1    0]\n",
       "   [   0    0    0   45    0   10]\n",
       "   [   0    0  180    0  414    0]\n",
       "   [   0   45    0 1260    0  180]\n",
       "   [   1    0  414    0  740    0]\n",
       "   [   0   10    0  180    0   20]\n",
       "\n",
       "5: [  0   0   0   0   0   1]\n",
       "   [  0   0   0   0  55   0]\n",
       "   [  0   0   0 495   0  99]\n",
       "   [  0   0 495   0 990   0]\n",
       "   [  0  55   0 990   0 110]\n",
       "   [  1   0  99   0 110   0]"
      ]
     },
     "execution_count": 3,
     "metadata": {},
     "output_type": "execute_result"
    }
   ],
   "source": [
    "p.pTable()"
   ]
  },
  {
   "cell_type": "markdown",
   "metadata": {
    "deletable": true,
    "editable": true
   },
   "source": [
    "The Krein parameters are also nonnegative. Many Krein parameters are zero - in particular, the graph would be $Q$-polynomial for the natural ordering of the eigenvalues."
   ]
  },
  {
   "cell_type": "code",
   "execution_count": 4,
   "metadata": {
    "collapsed": false,
    "deletable": true,
    "editable": true
   },
   "outputs": [
    {
     "data": {
      "text/plain": [
       "0: [   1    0    0    0    0    0]\n",
       "   [   0  132    0    0    0    0]\n",
       "   [   0    0 1617    0    0    0]\n",
       "   [   0    0    0 1617    0    0]\n",
       "   [   0    0    0    0  132    0]\n",
       "   [   0    0    0    0    0    1]\n",
       "\n",
       "1: [     0      1      0      0      0      0]\n",
       "   [     1   50/3  343/3      0      0      0]\n",
       "   [     0  343/3 2450/3    686      0      0]\n",
       "   [     0      0    686 2450/3  343/3      0]\n",
       "   [     0      0      0  343/3   50/3      1]\n",
       "   [     0      0      0      0      1      0]\n",
       "\n",
       "2: [     0      0      1      0      0      0]\n",
       "   [     0   28/3  200/3     56      0      0]\n",
       "   [     1  200/3 2380/3    700     56      0]\n",
       "   [     0     56    700 2380/3  200/3      1]\n",
       "   [     0      0     56  200/3   28/3      0]\n",
       "   [     0      0      0      1      0      0]\n",
       "\n",
       "3: [     0      0      0      1      0      0]\n",
       "   [     0      0     56  200/3   28/3      0]\n",
       "   [     0     56    700 2380/3  200/3      1]\n",
       "   [     1  200/3 2380/3    700     56      0]\n",
       "   [     0   28/3  200/3     56      0      0]\n",
       "   [     0      0      1      0      0      0]\n",
       "\n",
       "4: [     0      0      0      0      1      0]\n",
       "   [     0      0      0  343/3   50/3      1]\n",
       "   [     0      0    686 2450/3  343/3      0]\n",
       "   [     0  343/3 2450/3    686      0      0]\n",
       "   [     1   50/3  343/3      0      0      0]\n",
       "   [     0      1      0      0      0      0]\n",
       "\n",
       "5: [   0    0    0    0    0    1]\n",
       "   [   0    0    0    0  132    0]\n",
       "   [   0    0    0 1617    0    0]\n",
       "   [   0    0 1617    0    0    0]\n",
       "   [   0  132    0    0    0    0]\n",
       "   [   1    0    0    0    0    0]"
      ]
     },
     "execution_count": 4,
     "metadata": {},
     "output_type": "execute_result"
    }
   ],
   "source": [
    "p.kreinParameters()"
   ]
  },
  {
   "cell_type": "markdown",
   "metadata": {
    "deletable": true,
    "editable": true
   },
   "source": [
    "We check the remaining known feasibility conditions. We skip the sporadic nonexistence check since the intersection array is already included."
   ]
  },
  {
   "cell_type": "code",
   "execution_count": 5,
   "metadata": {
    "collapsed": true,
    "deletable": true,
    "editable": true
   },
   "outputs": [],
   "source": [
    "p.check_feasible(skip = [\"sporadic\"])"
   ]
  },
  {
   "cell_type": "markdown",
   "metadata": {
    "deletable": true,
    "editable": true
   },
   "source": [
    "We now compute the triple intersection numbers with respect to three vertices $u, v, w$ at mutual distances $2$. Note that we have $p^2_{22} = 5$, so such triples must exist. The parameter $a$ will denote the number of vertices adjacent to all of $u, v, w$."
   ]
  },
  {
   "cell_type": "code",
   "execution_count": 6,
   "metadata": {
    "collapsed": false,
    "deletable": true,
    "editable": true
   },
   "outputs": [
    {
     "data": {
      "text/plain": [
       "0: [0 0 0 0 0 0]\n",
       "   [0 0 0 0 0 0]\n",
       "   [0 0 1 0 0 0]\n",
       "   [0 0 0 0 0 0]\n",
       "   [0 0 0 0 0 0]\n",
       "   [0 0 0 0 0 0]\n",
       "\n",
       "1: [     0      0      0      0      0      0]\n",
       "   [     0      a      0 -a + 5      0      0]\n",
       "   [     0      0      0      0      0      0]\n",
       "   [     0 -a + 5      0 a + 45      0      0]\n",
       "   [     0      0      0      0      0      0]\n",
       "   [     0      0      0      0      0      0]\n",
       "\n",
       "2: [          0           0           1           0           0           0]\n",
       "   [          0           0           0           0           0           0]\n",
       "   [          1           0   20*a + 92           0 -20*a + 150           0]\n",
       "   [          0           0           0           0           0           0]\n",
       "   [          0           0 -20*a + 150           0  20*a + 200           0]\n",
       "   [          0           0           0           0           0           0]\n",
       "\n",
       "3: [          0           0           0           0           0           0]\n",
       "   [          0      -a + 5           0      a + 45           0           0]\n",
       "   [          0           0           0           0           0           0]\n",
       "   [          0      a + 45           0 11*a + 1055           0 -12*a + 160]\n",
       "   [          0           0           0           0           0           0]\n",
       "   [          0           0           0 -12*a + 160           0   12*a + 15]\n",
       "\n",
       "4: [          0           0           0           0           0           0]\n",
       "   [          0           0           0           0           0           0]\n",
       "   [          0           0 -20*a + 150           0  20*a + 200           0]\n",
       "   [          0           0           0           0           0           0]\n",
       "   [          0           0  20*a + 200           0 -20*a + 605           0]\n",
       "   [          0           0           0           0           0           0]\n",
       "\n",
       "5: [          0           0           0           0           0           0]\n",
       "   [          0           0           0           0           0           0]\n",
       "   [          0           0           0           0           0           0]\n",
       "   [          0           0           0 -12*a + 160           0   12*a + 15]\n",
       "   [          0           0           0           0           0           0]\n",
       "   [          0           0           0   12*a + 15           0  -12*a + 20]"
      ]
     },
     "execution_count": 6,
     "metadata": {},
     "output_type": "execute_result"
    }
   ],
   "source": [
    "S222 = p.tripleEquations(2, 2, 2, params = {\"a\": (1, 1, 1)})\n",
    "S222"
   ]
  },
  {
   "cell_type": "markdown",
   "metadata": {
    "deletable": true,
    "editable": true
   },
   "source": [
    "The number of vertices at distance $5$ from all of $u, v, w$ is a nonnegative integer, implying that the parameter $a$ is either $0$ or $1$."
   ]
  },
  {
   "cell_type": "code",
   "execution_count": 7,
   "metadata": {
    "collapsed": false,
    "deletable": true,
    "editable": true
   },
   "outputs": [
    {
     "name": "stdout",
     "output_type": "stream",
     "text": [
      "a\n",
      "-12*a + 20\n"
     ]
    }
   ],
   "source": [
    "print(S222[1, 1, 1])\n",
    "print(S222[5, 5, 5])"
   ]
  },
  {
   "cell_type": "markdown",
   "metadata": {
    "deletable": true,
    "editable": true
   },
   "source": [
    "Let us now consider the set $A$ of common neighbours of $u$ and $v$, and the set $B$ of vertices at distance $2$ from both $u$ and $v$. Their sizes are given by the intersection numbers $p^2_{11}$ and $p^2_{22}$."
   ]
  },
  {
   "cell_type": "code",
   "execution_count": 8,
   "metadata": {
    "collapsed": false,
    "deletable": true,
    "editable": true
   },
   "outputs": [
    {
     "name": "stdout",
     "output_type": "stream",
     "text": [
      "5\n",
      "243\n"
     ]
    }
   ],
   "source": [
    "print(p.p[2, 1, 1])\n",
    "print(p.p[2, 2, 2])"
   ]
  },
  {
   "cell_type": "markdown",
   "metadata": {
    "deletable": true,
    "editable": true
   },
   "source": [
    "By the above, each vertex in $B$ has at most one neighbour in $A$, so there are at most $243$ edges between $A$ and $B$. However, each vertex in $A$ is adjacent to both $u$ and $v$, and the other $k - 2 = 53$ neighbours are in $B$, amounting to a total of $5 \\cdot 53 = 265$ edges. We have arrived to a contradiction, and we must conclude that a graph with intersection array $\\{55, 54, 50, 35, 10; 1, 5, 20, 45, 55\\}$ **does not exist**."
   ]
  }
 ],
 "metadata": {
  "kernelspec": {
   "display_name": "SageMath 7.6",
   "language": "",
   "name": "sagemath"
  },
  "language_info": {
   "codemirror_mode": {
    "name": "ipython",
    "version": 2
   },
   "file_extension": ".py",
   "mimetype": "text/x-python",
   "name": "python",
   "nbconvert_exporter": "python",
   "pygments_lexer": "ipython2",
   "version": "2.7.13"
  }
 },
 "nbformat": 4,
 "nbformat_minor": 2
}
