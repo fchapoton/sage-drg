{
 "cells": [
  {
   "cell_type": "markdown",
   "metadata": {
    "deletable": true,
    "editable": true
   },
   "source": [
    "# Nonexistence of a distance-regular graph with intersection array $\\{135, 128, 16; 1, 16, 120\\}$\n",
    "\n",
    "We will show that a distance-regular graph with intersection array $\\{135, 128, 16; 1, 16, 120\\}$ does not exist."
   ]
  },
  {
   "cell_type": "code",
   "execution_count": 1,
   "metadata": {
    "collapsed": true,
    "deletable": true,
    "editable": true
   },
   "outputs": [],
   "source": [
    "import drg"
   ]
  },
  {
   "cell_type": "markdown",
   "metadata": {
    "deletable": true,
    "editable": true
   },
   "source": [
    "Such a graph would have $1360$ vertices."
   ]
  },
  {
   "cell_type": "code",
   "execution_count": 2,
   "metadata": {
    "collapsed": false,
    "deletable": true,
    "editable": true,
    "scrolled": true
   },
   "outputs": [
    {
     "data": {
      "text/plain": [
       "1360"
      ]
     },
     "execution_count": 2,
     "metadata": {},
     "output_type": "execute_result"
    }
   ],
   "source": [
    "p = drg.DRGParameters([135, 128, 16], [1, 16, 120])\n",
    "p.order()"
   ]
  },
  {
   "cell_type": "markdown",
   "metadata": {
    "deletable": true,
    "editable": true
   },
   "source": [
    "We see that all intersection numbers are nonnegative integers."
   ]
  },
  {
   "cell_type": "code",
   "execution_count": 3,
   "metadata": {
    "collapsed": false,
    "deletable": true,
    "editable": true
   },
   "outputs": [
    {
     "data": {
      "text/plain": [
       "0: [   1    0    0    0]\n",
       "   [   0  135    0    0]\n",
       "   [   0    0 1080    0]\n",
       "   [   0    0    0  144]\n",
       "\n",
       "1: [  0   1   0   0]\n",
       "   [  1   6 128   0]\n",
       "   [  0 128 824 128]\n",
       "   [  0   0 128  16]\n",
       "\n",
       "2: [  0   0   1   0]\n",
       "   [  0  16 103  16]\n",
       "   [  1 103 864 112]\n",
       "   [  0  16 112  16]\n",
       "\n",
       "3: [  0   0   0   1]\n",
       "   [  0   0 120  15]\n",
       "   [  0 120 840 120]\n",
       "   [  1  15 120   8]"
      ]
     },
     "execution_count": 3,
     "metadata": {},
     "output_type": "execute_result"
    }
   ],
   "source": [
    "p.pTable()"
   ]
  },
  {
   "cell_type": "markdown",
   "metadata": {
    "deletable": true,
    "editable": true
   },
   "source": [
    "The Krein parameters are also nonnegative. The graph would not be $Q$-polynomial, but we still have $q^3_{33} = 0$."
   ]
  },
  {
   "cell_type": "code",
   "execution_count": 4,
   "metadata": {
    "collapsed": false,
    "deletable": true,
    "editable": true
   },
   "outputs": [
    {
     "data": {
      "text/plain": [
       "0: [  1   0   0   0]\n",
       "   [  0 306   0   0]\n",
       "   [  0   0 900   0]\n",
       "   [  0   0   0 153]\n",
       "\n",
       "1: [     0      1      0      0]\n",
       "   [     1     68    220     17]\n",
       "   [     0    220 1700/3  340/3]\n",
       "   [     0     17  340/3   68/3]\n",
       "\n",
       "2: [     0      0      1      0]\n",
       "   [     0  374/5  578/3 578/15]\n",
       "   [     1  578/3    610  289/3]\n",
       "   [     0 578/15  289/3 272/15]\n",
       "\n",
       "3: [     0      0      0      1]\n",
       "   [     0     34  680/3  136/3]\n",
       "   [     0  680/3 1700/3  320/3]\n",
       "   [     1  136/3  320/3      0]"
      ]
     },
     "execution_count": 4,
     "metadata": {},
     "output_type": "execute_result"
    }
   ],
   "source": [
    "p.kreinParameters()"
   ]
  },
  {
   "cell_type": "markdown",
   "metadata": {
    "deletable": true,
    "editable": true
   },
   "source": [
    "We check the remaining known feasibility conditions. We skip the sporadic nonexistence check since the intersection array is already included."
   ]
  },
  {
   "cell_type": "code",
   "execution_count": 5,
   "metadata": {
    "collapsed": true,
    "deletable": true,
    "editable": true
   },
   "outputs": [],
   "source": [
    "p.check_feasible(skip = [\"sporadic\"])"
   ]
  },
  {
   "cell_type": "markdown",
   "metadata": {
    "deletable": true,
    "editable": true
   },
   "source": [
    "We now compute the triple intersection numbers with respect to three mutually adjacent vertices $u, v, w$. Note that we have $a_1 = 6$, so such triples must exist. The parameter $a$ will denote the number of vertices adjacent to all of $u, v, w$."
   ]
  },
  {
   "cell_type": "code",
   "execution_count": 6,
   "metadata": {
    "collapsed": false,
    "deletable": true,
    "editable": true
   },
   "outputs": [
    {
     "data": {
      "text/plain": [
       "0: [0 0 0 0]\n",
       "   [0 1 0 0]\n",
       "   [0 0 0 0]\n",
       "   [0 0 0 0]\n",
       "\n",
       "1: [      0       1       0       0]\n",
       "   [      1       a  -a + 5       0]\n",
       "   [      0  -a + 5 a + 123       0]\n",
       "   [      0       0       0       0]\n",
       "\n",
       "2: [              0               0               0               0]\n",
       "   [              0          -a + 5         a + 123               0]\n",
       "   [              0         a + 123 19/8*a + 4641/8 -27/8*a + 967/8]\n",
       "   [              0               0 -27/8*a + 967/8   27/8*a + 57/8]\n",
       "\n",
       "3: [              0               0               0               0]\n",
       "   [              0               0               0               0]\n",
       "   [              0               0 -27/8*a + 967/8   27/8*a + 57/8]\n",
       "   [              0               0   27/8*a + 57/8  -27/8*a + 71/8]"
      ]
     },
     "execution_count": 6,
     "metadata": {},
     "output_type": "execute_result"
    }
   ],
   "source": [
    "S111 = p.tripleEquations(1, 1, 1, params = {\"a\": (1, 1, 1)})\n",
    "S111"
   ]
  },
  {
   "cell_type": "markdown",
   "metadata": {
    "deletable": true,
    "editable": true
   },
   "source": [
    "The number of vertices at distance $3$ from all of $u, v, w$ should be a nonnegative integer. Nonnegativity is only achieved when $a = 0, 1, 2$, however integrality is not achieved in any of these cases."
   ]
  },
  {
   "cell_type": "code",
   "execution_count": 7,
   "metadata": {
    "collapsed": false,
    "deletable": true,
    "editable": true
   },
   "outputs": [
    {
     "data": {
      "text/plain": [
       "[71/8, 11/2, 17/8, -5/4]"
      ]
     },
     "execution_count": 7,
     "metadata": {},
     "output_type": "execute_result"
    }
   ],
   "source": [
    "a = S111[1, 1, 1]\n",
    "[S111[3, 3, 3].subs(a == x) for x in [0, 1, 2, 3]]"
   ]
  },
  {
   "cell_type": "markdown",
   "metadata": {
    "deletable": true,
    "editable": true
   },
   "source": [
    "We thus conclude that a graph with intersection array $\\{135, 128, 16; 1, 16, 120\\}$ **does not exist**."
   ]
  }
 ],
 "metadata": {
  "kernelspec": {
   "display_name": "SageMath 7.6",
   "language": "",
   "name": "sagemath"
  },
  "language_info": {
   "codemirror_mode": {
    "name": "ipython",
    "version": 2
   },
   "file_extension": ".py",
   "mimetype": "text/x-python",
   "name": "python",
   "nbconvert_exporter": "python",
   "pygments_lexer": "ipython2",
   "version": "2.7.13"
  }
 },
 "nbformat": 4,
 "nbformat_minor": 2
}
